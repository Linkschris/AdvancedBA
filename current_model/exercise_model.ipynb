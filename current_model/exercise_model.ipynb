{
 "cells": [
  {
   "cell_type": "code",
   "execution_count": 39,
   "metadata": {},
   "outputs": [],
   "source": [
    "import tensorflow as tf\n",
    "from keras import __version__\n",
    "tf.keras.__version__ = __version__\n",
    "from imp import reload\n",
    "\n",
    "import time\n",
    "import random\n",
    "import numpy as np\n",
    "import matplotlib.pyplot as plt\n",
    "from IPython.display import clear_output\n",
    "\n",
    "from keras.models import Sequential\n",
    "from keras.layers import Dense, Activation, Flatten, Embedding, Reshape\n",
    "\n",
    "from rl.agents.dqn import DQNAgent\n",
    "from rl.policy import EpsGreedyQPolicy\n",
    "from rl.memory import SequentialMemory\n",
    "\n",
    "from env_class import BatteryManagementEnv\n",
    "\n",
    "plt.style.use(\"ggplot\")"
   ]
  },
  {
   "cell_type": "code",
   "execution_count": 40,
   "metadata": {},
   "outputs": [
    {
     "data": {
      "text/plain": [
       "array([  10.  ,    0.  ,    0.  ,    0.  ,    0.  ,    0.  ,    0.  ,\n",
       "          0.  ,    0.  ,   79.25,  655.25, 1460.75, 2027.25, 2212.5 ,\n",
       "       1915.75, 1184.25,  367.25,   19.25,    0.  ,    0.  ,    0.  ,\n",
       "          0.  ,    0.  ,    0.  ,    0.  ])"
      ]
     },
     "execution_count": 40,
     "metadata": {},
     "output_type": "execute_result"
    }
   ],
   "source": [
    "env = BatteryManagementEnv(24)\n",
    "env.reset()"
   ]
  },
  {
   "cell_type": "code",
   "execution_count": 28,
   "metadata": {},
   "outputs": [],
   "source": [
    "# from keras.layers import Dense, Input\n",
    "# from keras.models import Model\n",
    "\n",
    "# #build neural network for DQN\n",
    "# def build_model(states, actions):\n",
    "#     input = Input(shape=(1,states))\n",
    "#     x = Flatten()(input)\n",
    "#     x = Dense(16, activation='relu')(x)\n",
    "#     #output layer\n",
    "#     output = Dense(actions, activation='linear')(x)\n",
    "\n",
    "#     model = Model(inputs=input, outputs=output)\n",
    "\n",
    "#     return model\n",
    "\n",
    "# model = build_model(env.observation_space, env.nA)\n",
    "\n",
    "from keras.layers import Dense, Input, Flatten, Dropout, BatchNormalization\n",
    "from keras.models import Model\n",
    "from keras.optimizers import Adam\n",
    "\n",
    "def build_enhanced_model(states, actions):\n",
    "    # Define the input layer\n",
    "    input_layer = Input(shape=(states,))  # Adjusted for a flat input vector\n",
    "\n",
    "    # Flatten the input if it's multidimensional\n",
    "    if len(input_layer.shape) > 2:\n",
    "        x = Flatten()(input_layer)\n",
    "    else:\n",
    "        x = input_layer\n",
    "\n",
    "    # First hidden layer\n",
    "    x = Dense(32, activation='relu')(x)\n",
    "    x = BatchNormalization()(x)  # Batch normalization layer\n",
    "    x = Dropout(0.2)(x)  # Dropout layer\n",
    "\n",
    "    x= Dense(64, activation='relu')(x)\n",
    "    x = BatchNormalization()(x)\n",
    "    x = Dropout(0.2)(x)\n",
    "\n",
    "    # Second hidden layer\n",
    "    x = Dense(32, activation='relu')(x)\n",
    "    x = BatchNormalization()(x)\n",
    "    x = Dropout(0.2)(x)\n",
    "\n",
    "    # Output layer\n",
    "    output = Dense(actions, activation='linear')(x)\n",
    "\n",
    "    # Create the Keras Model\n",
    "    model = Model(inputs=input_layer, outputs=output)\n",
    "    model.compile(optimizer=Adam(lr=0.001), loss='mse')\n",
    "\n",
    "\n",
    "    return model\n",
    "\n",
    "\n",
    "model = build_model(env.observation_space, env.nA)\n"
   ]
  },
  {
   "cell_type": "code",
   "execution_count": 29,
   "metadata": {},
   "outputs": [],
   "source": [
    "from rl.agents.dqn import DQNAgent\n",
    "from rl.policy import BoltzmannQPolicy, EpsGreedyQPolicy, LinearAnnealedPolicy\n",
    "from rl.memory import SequentialMemory\n",
    "from keras.src.saving import serialization_lib\n",
    "serialization_lib.enable_unsafe_deserialization()\n",
    "from tensorflow.keras.optimizers.legacy import Adam\n",
    "\n",
    "# Then, define DQN agent in Keras-RL\n",
    "memory = SequentialMemory(limit=20000, window_length=1)\n",
    "policy = LinearAnnealedPolicy(EpsGreedyQPolicy(eps=0), \n",
    "                              attr='eps', value_max=1., value_min=.1, value_test=.05, nb_steps=10000)\n",
    "dqn = DQNAgent(model=model, nb_actions=env.nA, memory=memory, policy=policy,\n",
    "                nb_steps_warmup=500, target_model_update=1e-2, enable_double_dqn=True, enable_dueling_network=True)\n",
    "dqn.compile(optimizer=Adam(learning_rate=1e-3), metrics=['mae'])"
   ]
  },
  {
   "cell_type": "code",
   "execution_count": 44,
   "metadata": {},
   "outputs": [
    {
     "name": "stdout",
     "output_type": "stream",
     "text": [
      "Training for 5000 steps ...\n",
      "Interval 1 (0 steps performed)\n",
      "1000/1000 [==============================] - 10s 10ms/step - reward: -3.9318\n",
      "1000 episodes - episode_reward: -3.932 [-5.372, 0.000] - loss: 4.634 - mae: 3.716 - mean_q: -0.070 - mean_eps: 0.932\n",
      "\n",
      "Interval 2 (1000 steps performed)\n",
      "1000/1000 [==============================] - 17s 17ms/step - reward: -3.5844\n",
      "1000 episodes - episode_reward: -3.584 [-5.372, 0.000] - loss: 3.825 - mae: 3.661 - mean_q: -0.081 - mean_eps: 0.865\n",
      "\n",
      "Interval 3 (2000 steps performed)\n",
      "1000/1000 [==============================] - 17s 17ms/step - reward: -3.0847\n",
      "1000 episodes - episode_reward: -3.085 [-5.372, 0.000] - loss: 3.174 - mae: 3.624 - mean_q: -0.101 - mean_eps: 0.775\n",
      "\n",
      "Interval 4 (3000 steps performed)\n",
      "1000/1000 [==============================] - 17s 17ms/step - reward: -2.6231\n",
      "1000 episodes - episode_reward: -2.623 [-5.372, 0.000] - loss: 2.848 - mae: 3.566 - mean_q: -0.058 - mean_eps: 0.685\n",
      "\n",
      "Interval 5 (4000 steps performed)\n",
      "1000/1000 [==============================] - 17s 17ms/step - reward: -2.4282\n",
      "done, took 77.202 seconds\n"
     ]
    },
    {
     "name": "stderr",
     "output_type": "stream",
     "text": [
      "c:\\Users\\volco\\anaconda3\\Lib\\site-packages\\keras\\src\\engine\\training.py:3000: UserWarning: You are saving your model as an HDF5 file via `model.save()`. This file format is considered legacy. We recommend using instead the native Keras format, e.g. `model.save('my_model.keras')`.\n",
      "  saving_api.save_model(\n"
     ]
    }
   ],
   "source": [
    "dqn.fit(env, nb_steps=10000, visualize=False, verbose=1, nb_max_episode_steps=1, log_interval=1000)"
   ]
  },
  {
   "cell_type": "code",
   "execution_count": null,
   "metadata": {},
   "outputs": [
    {
     "name": "stdout",
     "output_type": "stream",
     "text": [
      "Testing for 15 episodes ...\n",
      "Episode 1: reward: 4666.227, steps: 365\n",
      "Episode 2: reward: 4666.227, steps: 365\n",
      "Episode 3: reward: 4666.227, steps: 365\n",
      "Episode 4: reward: 4666.227, steps: 365\n",
      "Episode 5: reward: 4666.227, steps: 365\n",
      "Episode 6: reward: 4666.227, steps: 365\n",
      "Episode 7: reward: 4666.227, steps: 365\n",
      "Episode 8: reward: 4666.227, steps: 365\n",
      "Episode 9: reward: 4666.227, steps: 365\n",
      "Episode 10: reward: 4666.227, steps: 365\n",
      "Episode 11: reward: 4666.227, steps: 365\n",
      "Episode 12: reward: 4666.227, steps: 365\n",
      "Episode 13: reward: 4666.227, steps: 365\n",
      "Episode 14: reward: 4666.227, steps: 365\n",
      "Episode 15: reward: 4666.227, steps: 365\n"
     ]
    },
    {
     "data": {
      "text/plain": [
       "<keras.src.callbacks.History at 0x23753397bd0>"
      ]
     },
     "execution_count": 7,
     "metadata": {},
     "output_type": "execute_result"
    }
   ],
   "source": [
    "env_test = BatteryManagementEnv(1000)\n",
    "env_test.reset()\n",
    "\n",
    "#test the model\n",
    "dqn.test(env_test, nb_episodes=15, visualize=False, nb_max_episode_steps=1000)"
   ]
  },
  {
   "cell_type": "code",
   "execution_count": null,
   "metadata": {},
   "outputs": [],
   "source": []
  }
 ],
 "metadata": {
  "kernelspec": {
   "display_name": "Python 3",
   "language": "python",
   "name": "python3"
  },
  "language_info": {
   "codemirror_mode": {
    "name": "ipython",
    "version": 3
   },
   "file_extension": ".py",
   "mimetype": "text/x-python",
   "name": "python",
   "nbconvert_exporter": "python",
   "pygments_lexer": "ipython3",
   "version": "3.11.5"
  }
 },
 "nbformat": 4,
 "nbformat_minor": 2
}
