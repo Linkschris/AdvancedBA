{
 "cells": [
  {
   "cell_type": "code",
   "execution_count": 2,
   "metadata": {},
   "outputs": [
    {
     "name": "stdout",
     "output_type": "stream",
     "text": [
      "WARNING:tensorflow:From c:\\Users\\janle\\AppData\\Local\\Programs\\Python\\Python311\\Lib\\site-packages\\rl\\agents\\ddpg.py:9: The name tf.disable_eager_execution is deprecated. Please use tf.compat.v1.disable_eager_execution instead.\n",
      "\n"
     ]
    }
   ],
   "source": [
    "import tensorflow as tf\n",
    "from keras import __version__\n",
    "tf.keras.__version__ = __version__\n",
    "from imp import reload\n",
    "\n",
    "import time\n",
    "import random\n",
    "import numpy as np\n",
    "import matplotlib.pyplot as plt\n",
    "from IPython.display import clear_output\n",
    "\n",
    "from keras.models import Sequential\n",
    "from keras.layers import Dense, Activation, Flatten, Embedding, Reshape\n",
    "\n",
    "from rl.agents.dqn import DQNAgent\n",
    "from rl.policy import EpsGreedyQPolicy\n",
    "from rl.memory import SequentialMemory\n",
    "\n",
    "from env_class import BatteryManagementEnv\n",
    "\n",
    "plt.style.use(\"ggplot\")"
   ]
  },
  {
   "cell_type": "code",
   "execution_count": 3,
   "metadata": {},
   "outputs": [
    {
     "data": {
      "text/plain": [
       "array([  10.  ,    0.  ,    0.  ,    0.  ,    0.  ,    0.  ,    0.  ,\n",
       "          0.  ,    0.  ,   79.25,  655.25, 1460.75, 2027.25, 2212.5 ,\n",
       "       1915.75, 1184.25,  367.25,   19.25,    0.  ,    0.  ,    0.  ,\n",
       "          0.  ,    0.  ,    0.  ,    0.  ])"
      ]
     },
     "execution_count": 3,
     "metadata": {},
     "output_type": "execute_result"
    }
   ],
   "source": [
    "env = BatteryManagementEnv(24)\n",
    "env.reset()"
   ]
  },
  {
   "cell_type": "code",
   "execution_count": 4,
   "metadata": {},
   "outputs": [
    {
     "name": "stdout",
     "output_type": "stream",
     "text": [
      "WARNING:tensorflow:From c:\\Users\\janle\\AppData\\Local\\Programs\\Python\\Python311\\Lib\\site-packages\\keras\\src\\utils\\version_utils.py:76: The name tf.executing_eagerly_outside_functions is deprecated. Please use tf.compat.v1.executing_eagerly_outside_functions instead.\n",
      "\n"
     ]
    }
   ],
   "source": [
    "from keras.layers import Dense, Input\n",
    "from keras.models import Model\n",
    "\n",
    "#build neural network for DQN\n",
    "def build_model(states, actions):\n",
    "    input = Input(shape=(1,states))\n",
    "    x = Flatten()(input)\n",
    "    x = Dense(16, activation='relu')(x)\n",
    "    #output layer\n",
    "    output = Dense(actions, activation='linear')(x)\n",
    "\n",
    "    model = Model(inputs=input, outputs=output)\n",
    "\n",
    "    return model\n",
    "\n",
    "model = build_model(env.observation_space, env.nA)"
   ]
  },
  {
   "cell_type": "code",
   "execution_count": 5,
   "metadata": {},
   "outputs": [
    {
     "name": "stdout",
     "output_type": "stream",
     "text": [
      "WARNING:tensorflow:From c:\\Users\\janle\\AppData\\Local\\Programs\\Python\\Python311\\Lib\\site-packages\\keras\\src\\optimizers\\__init__.py:309: The name tf.train.Optimizer is deprecated. Please use tf.compat.v1.train.Optimizer instead.\n",
      "\n"
     ]
    }
   ],
   "source": [
    "from rl.agents.dqn import DQNAgent\n",
    "from rl.policy import BoltzmannQPolicy, EpsGreedyQPolicy, LinearAnnealedPolicy\n",
    "from rl.memory import SequentialMemory\n",
    "from keras.src.saving import serialization_lib\n",
    "serialization_lib.enable_unsafe_deserialization()\n",
    "from tensorflow.keras.optimizers.legacy import Adam\n",
    "\n",
    "# Then, define DQN agent in Keras-RL\n",
    "memory = SequentialMemory(limit=20000, window_length=1)\n",
    "policy = LinearAnnealedPolicy(EpsGreedyQPolicy(eps=0), \n",
    "                              attr='eps', value_max=1., value_min=.1, value_test=.05, nb_steps=10000)\n",
    "dqn = DQNAgent(model=model, nb_actions=env.nA, memory=memory, policy=policy,\n",
    "                nb_steps_warmup=500, target_model_update=1e-2, enable_double_dqn=True, enable_dueling_network=True)\n",
    "dqn.compile(optimizer=Adam(learning_rate=1e-3), metrics=['mae'])"
   ]
  },
  {
   "cell_type": "code",
   "execution_count": 9,
   "metadata": {},
   "outputs": [
    {
     "name": "stdout",
     "output_type": "stream",
     "text": [
      "Training for 50000 steps ...\n",
      "Interval 1 (0 steps performed)\n",
      "1000/1000 [==============================] - 5s 5ms/step - reward: -3.8387\n",
      "1000 episodes - episode_reward: -3.839 [-5.372, 0.000] - loss: 0.000 - mae: 3.293 - mean_q: 0.000 - mean_eps: 0.932\n",
      "\n",
      "Interval 2 (1000 steps performed)\n",
      "1000/1000 [==============================] - 9s 9ms/step - reward: -3.6150\n",
      "1000 episodes - episode_reward: -3.615 [-5.372, 0.000] - loss: 0.000 - mae: 3.293 - mean_q: 0.000 - mean_eps: 0.865\n",
      "\n",
      "Interval 3 (2000 steps performed)\n",
      "1000/1000 [==============================] - 9s 9ms/step - reward: -3.0980\n",
      "1000 episodes - episode_reward: -3.098 [-5.372, 0.000] - loss: 0.000 - mae: 3.318 - mean_q: -0.000 - mean_eps: 0.775\n",
      "\n",
      "Interval 4 (3000 steps performed)\n",
      "1000/1000 [==============================] - 9s 9ms/step - reward: -2.8785\n",
      "1000 episodes - episode_reward: -2.878 [-5.372, 0.000] - loss: 0.307 - mae: 3.466 - mean_q: 0.011 - mean_eps: 0.685\n",
      "\n",
      "Interval 5 (4000 steps performed)\n",
      "1000/1000 [==============================] - 10s 10ms/step - reward: -2.3868\n",
      "1000 episodes - episode_reward: -2.387 [-5.372, 0.000] - loss: 0.173 - mae: 3.424 - mean_q: -0.010 - mean_eps: 0.595\n",
      "\n",
      "Interval 6 (5000 steps performed)\n",
      "1000/1000 [==============================] - 9s 9ms/step - reward: -2.0573\n",
      "1000 episodes - episode_reward: -2.057 [-5.372, 0.000] - loss: 0.635 - mae: 3.527 - mean_q: 0.085 - mean_eps: 0.505\n",
      "\n",
      "Interval 7 (6000 steps performed)\n",
      "1000/1000 [==============================] - 9s 9ms/step - reward: -1.8284\n",
      "1000 episodes - episode_reward: -1.828 [-5.372, 0.000] - loss: 0.678 - mae: 3.546 - mean_q: 0.068 - mean_eps: 0.415\n",
      "\n",
      "Interval 8 (7000 steps performed)\n",
      "1000/1000 [==============================] - 9s 9ms/step - reward: -1.4184\n",
      "1000 episodes - episode_reward: -1.418 [-5.372, 0.000] - loss: 0.242 - mae: 3.526 - mean_q: 0.017 - mean_eps: 0.325\n",
      "\n",
      "Interval 9 (8000 steps performed)\n",
      "1000/1000 [==============================] - 9s 9ms/step - reward: -1.0774\n",
      "1000 episodes - episode_reward: -1.077 [-5.372, 0.000] - loss: 0.817 - mae: 3.719 - mean_q: 0.174 - mean_eps: 0.235\n",
      "\n",
      "Interval 10 (9000 steps performed)\n",
      "1000/1000 [==============================] - 9s 9ms/step - reward: -0.6149\n",
      "1000 episodes - episode_reward: -0.615 [-5.372, 0.000] - loss: 0.161 - mae: 3.617 - mean_q: 0.006 - mean_eps: 0.145\n",
      "\n",
      "Interval 11 (10000 steps performed)\n",
      "1000/1000 [==============================] - 9s 9ms/step - reward: -0.4754\n",
      "1000 episodes - episode_reward: -0.475 [-5.372, 0.000] - loss: 0.328 - mae: 3.750 - mean_q: 0.019 - mean_eps: 0.100\n",
      "\n",
      "Interval 12 (11000 steps performed)\n",
      "1000/1000 [==============================] - 9s 9ms/step - reward: -0.5187\n",
      "1000 episodes - episode_reward: -0.519 [-5.372, 0.000] - loss: 0.439 - mae: 3.826 - mean_q: 0.070 - mean_eps: 0.100\n",
      "\n",
      "Interval 13 (12000 steps performed)\n",
      "1000/1000 [==============================] - 9s 9ms/step - reward: -0.5498\n",
      "1000 episodes - episode_reward: -0.550 [-5.372, 0.000] - loss: 0.298 - mae: 3.819 - mean_q: 0.042 - mean_eps: 0.100\n",
      "\n",
      "Interval 14 (13000 steps performed)\n",
      "1000/1000 [==============================] - 9s 9ms/step - reward: -0.5310\n",
      "1000 episodes - episode_reward: -0.531 [-5.372, 0.000] - loss: 1.283 - mae: 4.074 - mean_q: 0.260 - mean_eps: 0.100\n",
      "\n",
      "Interval 15 (14000 steps performed)\n",
      "1000/1000 [==============================] - 10s 10ms/step - reward: -0.4249\n",
      "1000 episodes - episode_reward: -0.425 [-5.372, 0.000] - loss: 0.072 - mae: 3.861 - mean_q: 0.004 - mean_eps: 0.100\n",
      "\n",
      "Interval 16 (15000 steps performed)\n",
      "1000/1000 [==============================] - 9s 9ms/step - reward: -0.6840\n",
      "1000 episodes - episode_reward: -0.684 [-5.372, 0.000] - loss: 0.802 - mae: 4.123 - mean_q: 0.324 - mean_eps: 0.100\n",
      "\n",
      "Interval 17 (16000 steps performed)\n",
      "1000/1000 [==============================] - 10s 10ms/step - reward: -0.4918\n",
      "1000 episodes - episode_reward: -0.492 [-5.372, 0.000] - loss: 0.133 - mae: 3.950 - mean_q: 0.003 - mean_eps: 0.100\n",
      "\n",
      "Interval 18 (17000 steps performed)\n",
      "1000/1000 [==============================] - 10s 10ms/step - reward: -0.5479\n",
      "1000 episodes - episode_reward: -0.548 [-5.372, 0.000] - loss: 0.304 - mae: 4.053 - mean_q: 0.087 - mean_eps: 0.100\n",
      "\n",
      "Interval 19 (18000 steps performed)\n",
      "1000/1000 [==============================] - 10s 10ms/step - reward: -0.5754\n",
      "1000 episodes - episode_reward: -0.575 [-5.372, 0.000] - loss: 0.323 - mae: 4.039 - mean_q: 0.095 - mean_eps: 0.100\n",
      "\n",
      "Interval 20 (19000 steps performed)\n",
      "1000/1000 [==============================] - 9s 9ms/step - reward: -0.6024\n",
      "1000 episodes - episode_reward: -0.602 [-5.372, 0.000] - loss: 0.347 - mae: 4.070 - mean_q: 0.217 - mean_eps: 0.100\n",
      "\n",
      "Interval 21 (20000 steps performed)\n",
      "1000/1000 [==============================] - 9s 9ms/step - reward: -0.5872\n",
      "1000 episodes - episode_reward: -0.587 [-5.372, 0.000] - loss: 0.347 - mae: 4.084 - mean_q: 0.214 - mean_eps: 0.100\n",
      "\n",
      "Interval 22 (21000 steps performed)\n",
      "1000/1000 [==============================] - 9s 9ms/step - reward: -0.5492\n",
      "1000 episodes - episode_reward: -0.549 [-5.372, 0.000] - loss: 0.338 - mae: 4.030 - mean_q: 0.117 - mean_eps: 0.100\n",
      "\n",
      "Interval 23 (22000 steps performed)\n",
      "1000/1000 [==============================] - 9s 9ms/step - reward: -0.5086\n",
      "1000 episodes - episode_reward: -0.509 [-5.372, 0.000] - loss: 0.326 - mae: 4.078 - mean_q: 0.182 - mean_eps: 0.100\n",
      "\n",
      "Interval 24 (23000 steps performed)\n",
      "1000/1000 [==============================] - 10s 10ms/step - reward: -0.6415\n",
      "1000 episodes - episode_reward: -0.641 [-5.372, 0.000] - loss: 0.293 - mae: 4.055 - mean_q: 0.112 - mean_eps: 0.100\n",
      "\n",
      "Interval 25 (24000 steps performed)\n",
      "1000/1000 [==============================] - 9s 9ms/step - reward: -0.6126\n",
      "1000 episodes - episode_reward: -0.613 [-5.372, 0.000] - loss: 0.316 - mae: 4.052 - mean_q: 0.172 - mean_eps: 0.100\n",
      "\n",
      "Interval 26 (25000 steps performed)\n",
      "1000/1000 [==============================] - 9s 9ms/step - reward: -0.4445\n",
      "1000 episodes - episode_reward: -0.445 [-5.372, 0.000] - loss: 0.174 - mae: 4.027 - mean_q: 0.031 - mean_eps: 0.100\n",
      "\n",
      "Interval 27 (26000 steps performed)\n",
      "1000/1000 [==============================] - 9s 9ms/step - reward: -0.6196\n",
      "1000 episodes - episode_reward: -0.620 [-5.372, 0.000] - loss: 0.279 - mae: 4.034 - mean_q: 0.120 - mean_eps: 0.100\n",
      "\n",
      "Interval 28 (27000 steps performed)\n",
      "1000/1000 [==============================] - 9s 9ms/step - reward: -0.5028\n",
      "1000 episodes - episode_reward: -0.503 [-5.372, 0.000] - loss: 0.798 - mae: 4.168 - mean_q: 0.374 - mean_eps: 0.100\n",
      "\n",
      "Interval 29 (28000 steps performed)\n",
      "1000/1000 [==============================] - 10s 10ms/step - reward: -0.4916\n",
      "1000 episodes - episode_reward: -0.492 [-5.372, 0.000] - loss: 0.207 - mae: 4.034 - mean_q: 0.113 - mean_eps: 0.100\n",
      "\n",
      "Interval 30 (29000 steps performed)\n",
      "1000/1000 [==============================] - 10s 10ms/step - reward: -0.5218\n",
      "1000 episodes - episode_reward: -0.522 [-5.372, 0.000] - loss: 0.143 - mae: 4.008 - mean_q: 0.044 - mean_eps: 0.100\n",
      "\n",
      "Interval 31 (30000 steps performed)\n",
      "1000/1000 [==============================] - 9s 9ms/step - reward: -0.5304\n",
      "1000 episodes - episode_reward: -0.530 [-5.372, 0.000] - loss: 0.279 - mae: 4.090 - mean_q: 0.232 - mean_eps: 0.100\n",
      "\n",
      "Interval 32 (31000 steps performed)\n",
      "1000/1000 [==============================] - 9s 9ms/step - reward: -0.5001\n",
      "1000 episodes - episode_reward: -0.500 [-5.372, 0.000] - loss: 0.139 - mae: 4.015 - mean_q: 0.056 - mean_eps: 0.100\n",
      "\n",
      "Interval 33 (32000 steps performed)\n",
      "1000/1000 [==============================] - 9s 9ms/step - reward: -0.6139\n",
      "1000 episodes - episode_reward: -0.614 [-5.372, 0.000] - loss: 0.329 - mae: 4.074 - mean_q: 0.134 - mean_eps: 0.100\n",
      "\n",
      "Interval 34 (33000 steps performed)\n",
      "1000/1000 [==============================] - 9s 9ms/step - reward: -0.4834\n",
      "1000 episodes - episode_reward: -0.483 [-5.372, 0.000] - loss: 0.101 - mae: 3.995 - mean_q: 0.061 - mean_eps: 0.100\n",
      "\n",
      "Interval 35 (34000 steps performed)\n",
      "1000/1000 [==============================] - 9s 9ms/step - reward: -0.6261\n",
      "1000 episodes - episode_reward: -0.626 [-5.372, 0.000] - loss: 0.179 - mae: 4.036 - mean_q: 0.034 - mean_eps: 0.100\n",
      "\n",
      "Interval 36 (35000 steps performed)\n",
      "1000/1000 [==============================] - 10s 10ms/step - reward: -0.4436\n",
      "1000 episodes - episode_reward: -0.444 [-5.372, 0.000] - loss: 0.082 - mae: 3.982 - mean_q: 0.021 - mean_eps: 0.100\n",
      "\n",
      "Interval 37 (36000 steps performed)\n",
      "1000/1000 [==============================] - 10s 10ms/step - reward: -0.5606\n",
      "1000 episodes - episode_reward: -0.561 [-5.372, 0.000] - loss: 0.235 - mae: 4.051 - mean_q: 0.130 - mean_eps: 0.100\n",
      "\n",
      "Interval 38 (37000 steps performed)\n",
      "1000/1000 [==============================] - 10s 10ms/step - reward: -0.4943\n",
      "1000 episodes - episode_reward: -0.494 [-5.372, 0.000] - loss: 0.148 - mae: 4.040 - mean_q: 0.074 - mean_eps: 0.100\n",
      "\n",
      "Interval 39 (38000 steps performed)\n",
      "1000/1000 [==============================] - 11s 11ms/step - reward: -0.5682\n",
      "1000 episodes - episode_reward: -0.568 [-5.372, 0.000] - loss: 0.102 - mae: 4.003 - mean_q: 0.008 - mean_eps: 0.100\n",
      "\n",
      "Interval 40 (39000 steps performed)\n",
      "1000/1000 [==============================] - 10s 10ms/step - reward: -0.5558\n",
      "1000 episodes - episode_reward: -0.556 [-5.372, 0.000] - loss: 0.138 - mae: 4.022 - mean_q: 0.087 - mean_eps: 0.100\n",
      "\n",
      "Interval 41 (40000 steps performed)\n",
      "1000/1000 [==============================] - 10s 10ms/step - reward: -0.4079\n",
      "1000 episodes - episode_reward: -0.408 [-5.372, 0.000] - loss: 0.038 - mae: 3.973 - mean_q: 0.001 - mean_eps: 0.100\n",
      "\n",
      "Interval 42 (41000 steps performed)\n",
      "1000/1000 [==============================] - 11s 11ms/step - reward: -0.4342\n",
      "1000 episodes - episode_reward: -0.434 [-5.372, 0.000] - loss: 0.114 - mae: 3.996 - mean_q: 0.021 - mean_eps: 0.100\n",
      "\n",
      "Interval 43 (42000 steps performed)\n",
      "1000/1000 [==============================] - 11s 11ms/step - reward: -0.4201\n",
      "1000 episodes - episode_reward: -0.420 [-5.372, 0.000] - loss: 0.038 - mae: 3.978 - mean_q: 0.006 - mean_eps: 0.100\n",
      "\n",
      "Interval 44 (43000 steps performed)\n",
      "1000/1000 [==============================] - 9s 9ms/step - reward: -0.5091\n",
      "1000 episodes - episode_reward: -0.509 [-5.372, 0.000] - loss: 0.135 - mae: 4.005 - mean_q: 0.030 - mean_eps: 0.100\n",
      "\n",
      "Interval 45 (44000 steps performed)\n",
      "1000/1000 [==============================] - 10s 10ms/step - reward: -0.5284\n",
      "1000 episodes - episode_reward: -0.528 [-5.372, 0.000] - loss: 0.193 - mae: 4.044 - mean_q: 0.133 - mean_eps: 0.100\n",
      "\n",
      "Interval 46 (45000 steps performed)\n",
      "1000/1000 [==============================] - 9s 9ms/step - reward: -0.4385\n",
      "1000 episodes - episode_reward: -0.438 [-5.372, 0.000] - loss: 0.041 - mae: 3.966 - mean_q: 0.009 - mean_eps: 0.100\n",
      "\n",
      "Interval 47 (46000 steps performed)\n",
      "1000/1000 [==============================] - 9s 10ms/step - reward: -0.4292\n",
      "1000 episodes - episode_reward: -0.429 [-5.372, 0.000] - loss: 0.100 - mae: 4.005 - mean_q: 0.022 - mean_eps: 0.100\n",
      "\n",
      "Interval 48 (47000 steps performed)\n",
      "1000/1000 [==============================] - 9s 9ms/step - reward: -0.5763\n",
      "1000 episodes - episode_reward: -0.576 [-5.372, 0.000] - loss: 0.302 - mae: 4.099 - mean_q: 0.186 - mean_eps: 0.100\n",
      "\n",
      "Interval 49 (48000 steps performed)\n",
      "1000/1000 [==============================] - 10s 10ms/step - reward: -0.4772\n",
      "1000 episodes - episode_reward: -0.477 [-5.372, 0.000] - loss: 0.021 - mae: 3.976 - mean_q: -0.005 - mean_eps: 0.100\n",
      "\n",
      "Interval 50 (49000 steps performed)\n",
      "1000/1000 [==============================] - 9s 9ms/step - reward: -0.4698\n",
      "done, took 475.419 seconds\n"
     ]
    },
    {
     "data": {
      "text/plain": [
       "<keras.src.callbacks.History at 0x237531b59d0>"
      ]
     },
     "execution_count": 9,
     "metadata": {},
     "output_type": "execute_result"
    }
   ],
   "source": [
    "dqn.fit(env, nb_steps=50000, visualize=False, verbose=1, nb_max_episode_steps=1, log_interval=1000)"
   ]
  },
  {
   "cell_type": "code",
   "execution_count": 7,
   "metadata": {},
   "outputs": [
    {
     "name": "stdout",
     "output_type": "stream",
     "text": [
      "Testing for 15 episodes ...\n",
      "Episode 1: reward: 4666.227, steps: 365\n",
      "Episode 2: reward: 4666.227, steps: 365\n",
      "Episode 3: reward: 4666.227, steps: 365\n",
      "Episode 4: reward: 4666.227, steps: 365\n",
      "Episode 5: reward: 4666.227, steps: 365\n",
      "Episode 6: reward: 4666.227, steps: 365\n",
      "Episode 7: reward: 4666.227, steps: 365\n",
      "Episode 8: reward: 4666.227, steps: 365\n",
      "Episode 9: reward: 4666.227, steps: 365\n",
      "Episode 10: reward: 4666.227, steps: 365\n",
      "Episode 11: reward: 4666.227, steps: 365\n",
      "Episode 12: reward: 4666.227, steps: 365\n",
      "Episode 13: reward: 4666.227, steps: 365\n",
      "Episode 14: reward: 4666.227, steps: 365\n",
      "Episode 15: reward: 4666.227, steps: 365\n"
     ]
    },
    {
     "data": {
      "text/plain": [
       "<keras.src.callbacks.History at 0x23753397bd0>"
      ]
     },
     "execution_count": 7,
     "metadata": {},
     "output_type": "execute_result"
    }
   ],
   "source": [
    "env_test = BatteryManagementEnv(1000)\n",
    "env_test.reset()\n",
    "\n",
    "#test the model\n",
    "dqn.test(env_test, nb_episodes=15, visualize=False, nb_max_episode_steps=1000)"
   ]
  },
  {
   "cell_type": "code",
   "execution_count": null,
   "metadata": {},
   "outputs": [],
   "source": []
  }
 ],
 "metadata": {
  "kernelspec": {
   "display_name": "Python 3",
   "language": "python",
   "name": "python3"
  },
  "language_info": {
   "codemirror_mode": {
    "name": "ipython",
    "version": 3
   },
   "file_extension": ".py",
   "mimetype": "text/x-python",
   "name": "python",
   "nbconvert_exporter": "python",
   "pygments_lexer": "ipython3",
   "version": "3.11.1"
  }
 },
 "nbformat": 4,
 "nbformat_minor": 2
}
