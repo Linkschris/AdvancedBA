{
 "cells": [
  {
   "cell_type": "code",
   "execution_count": 6,
   "metadata": {},
   "outputs": [],
   "source": [
    "import numpy as np\n",
    "import pandas as pd\n",
    "import matplotlib.pyplot as plt"
   ]
  },
  {
   "cell_type": "code",
   "execution_count": 7,
   "metadata": {},
   "outputs": [],
   "source": [
    "SoC = 10\n",
    "prices = [50,50,50,50,50,50,50,50,50,50,50,50,100,100,100,100,100,100,100,100,100,100,100,100]\n",
    "solar = [0]*8+[100]*8+[0]*8\n",
    "\n",
    "\n",
    "# create an arraw with the data\n",
    "example_array = np.array([SoC]+prices+solar)\n"
   ]
  },
  {
   "cell_type": "code",
   "execution_count": 8,
   "metadata": {},
   "outputs": [
    {
     "data": {
      "text/plain": [
       "array([ 10,  50,  50,  50,  50,  50,  50,  50,  50,  50,  50,  50,  50,\n",
       "       100, 100, 100, 100, 100, 100, 100, 100, 100, 100, 100, 100,   0,\n",
       "         0,   0,   0,   0,   0,   0,   0, 100, 100, 100, 100, 100, 100,\n",
       "       100, 100,   0,   0,   0,   0,   0,   0,   0,   0])"
      ]
     },
     "execution_count": 8,
     "metadata": {},
     "output_type": "execute_result"
    }
   ],
   "source": [
    "example_array"
   ]
  },
  {
   "cell_type": "code",
   "execution_count": 30,
   "metadata": {},
   "outputs": [
    {
     "name": "stdout",
     "output_type": "stream",
     "text": [
      "date                         object\n",
      "solar_forecastAT              int64\n",
      "windonshore_forecastAT      float64\n",
      "solar_forecastBE              int64\n",
      "windoffshore_forecastBE     float64\n",
      "windonshore_forecastBE      float64\n",
      "solar_forecastFRA             int64\n",
      "windonshore_forecastFRA     float64\n",
      "solar_forecastGER           float64\n",
      "windoffshore_forecastGER    float64\n",
      "windonshore_forecastGER     float64\n",
      "solar_forecastNL            float64\n",
      "windoffshore_forecastNL     float64\n",
      "windonshore_forecastNL      float64\n",
      "dtype: object\n"
     ]
    },
    {
     "data": {
      "text/plain": [
       "0        0.0\n",
       "1        0.0\n",
       "2        0.0\n",
       "3        0.0\n",
       "4        0.0\n",
       "        ... \n",
       "43315    0.0\n",
       "43316    0.0\n",
       "43317    0.0\n",
       "43318    0.0\n",
       "43319    0.0\n",
       "Name: solar_forecastGER, Length: 43320, dtype: float64"
      ]
     },
     "execution_count": 30,
     "metadata": {},
     "output_type": "execute_result"
    }
   ],
   "source": [
    "#load csv file\n",
    "res_gen = pd.read_csv('../Data/res_gen.csv')\n",
    "print(res_gen.dtypes)\n",
    "res_gen['solar_forecastGER'].astype(float)\n",
    "#change n/e values to np.NaN\n",
    "#res_gen = res_gen.replace('n/e', np.NaN)\n",
    "# res_gen.dropna(inplace=True)\n",
    "# countries = res_gen.columns[1:]\n",
    "# #change column dtype\n",
    "# for country in countries:\n",
    "#     res_gen[country] = res_gen[country]"
   ]
  },
  {
   "cell_type": "code",
   "execution_count": 31,
   "metadata": {},
   "outputs": [
    {
     "data": {
      "text/plain": [
       "[10, 40, 90, 160, 250]"
      ]
     },
     "execution_count": 31,
     "metadata": {},
     "output_type": "execute_result"
    }
   ],
   "source": [
    "# multiply two lists tpgether\n",
    "LIST1 = [1,2,3,4,5]\n",
    "LIST2 = [10,20,30,40,50]\n",
    "LIST3 = [a*b for a,b in zip(LIST1,LIST2)]\n",
    "LIST3\n",
    "# SUM THE VALUES OF LIST 3\n",
    "sum(LIST3)\n"
   ]
  },
  {
   "cell_type": "code",
   "execution_count": 21,
   "metadata": {},
   "outputs": [
    {
     "data": {
      "text/plain": [
       "[<matplotlib.lines.Line2D at 0x2bdf4604ed0>]"
      ]
     },
     "execution_count": 21,
     "metadata": {},
     "output_type": "execute_result"
    },
    {
     "data": {
      "image/png": "[encoded data removed]",
      "text/plain": [
       "<Figure size 640x480 with 1 Axes>"
      ]
     },
     "metadata": {},
     "output_type": "display_data"
    }
   ],
   "source": [
    "action_0 = [0]*5+[25]*4+[100]*6+[50]*4+[0]*5\n",
    "action_3 = [1]*6+[-1]*5+[1]*6+[-1]*3+[1]*4#[0,0,0,0,-1,-1,-1,-1,1,1,1,1,1,1,1,1,-1,-1,-1,-1,0,0,0,0]\n",
    "action_4 = [-1]*6+[1]*5+[-1]*6+[1]*3+[-1]*4\n",
    "\n",
    "\n",
    "plt.plot(action_0)"
   ]
  }
 ],
 "metadata": {
  "kernelspec": {
   "display_name": "Python 3",
   "language": "python",
   "name": "python3"
  },
  "language_info": {
   "codemirror_mode": {
    "name": "ipython",
    "version": 3
   },
   "file_extension": ".py",
   "mimetype": "text/x-python",
   "name": "python",
   "nbconvert_exporter": "python",
   "pygments_lexer": "ipython3",
   "version": "3.11.1"
  }
 },
 "nbformat": 4,
 "nbformat_minor": 2
}
