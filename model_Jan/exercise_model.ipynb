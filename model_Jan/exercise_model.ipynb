{
 "cells": [
  {
   "cell_type": "code",
   "execution_count": 2,
   "metadata": {},
   "outputs": [
    {
     "name": "stdout",
     "output_type": "stream",
     "text": [
      "WARNING:tensorflow:From c:\\Users\\janle\\AppData\\Local\\Programs\\Python\\Python311\\Lib\\site-packages\\rl\\agents\\ddpg.py:9: The name tf.disable_eager_execution is deprecated. Please use tf.compat.v1.disable_eager_execution instead.\n",
      "\n"
     ]
    }
   ],
   "source": [
    "import tensorflow as tf\n",
    "from keras import __version__\n",
    "tf.keras.__version__ = __version__\n",
    "from imp import reload\n",
    "\n",
    "import time\n",
    "import random\n",
    "import numpy as np\n",
    "import matplotlib.pyplot as plt\n",
    "from IPython.display import clear_output\n",
    "\n",
    "from keras.models import Sequential\n",
    "from keras.layers import Dense, Activation, Flatten, Embedding, Reshape\n",
    "\n",
    "from rl.agents.dqn import DQNAgent\n",
    "from rl.policy import EpsGreedyQPolicy\n",
    "from rl.memory import SequentialMemory\n",
    "\n",
    "from env_class import BatteryManagementEnv\n",
    "\n",
    "plt.style.use(\"ggplot\")"
   ]
  },
  {
   "cell_type": "code",
   "execution_count": 3,
   "metadata": {},
   "outputs": [
    {
     "data": {
      "text/plain": [
       "array([  10.  ,    0.  ,    0.  ,    0.  ,    0.  ,    0.  ,    0.  ,\n",
       "          0.  ,    0.  ,   79.25,  655.25, 1460.75, 2027.25, 2212.5 ,\n",
       "       1915.75, 1184.25,  367.25,   19.25,    0.  ,    0.  ,    0.  ,\n",
       "          0.  ,    0.  ,    0.  ,    0.  ])"
      ]
     },
     "execution_count": 3,
     "metadata": {},
     "output_type": "execute_result"
    }
   ],
   "source": [
    "env = BatteryManagementEnv(0)\n",
    "env.reset()"
   ]
  },
  {
   "cell_type": "code",
   "execution_count": 4,
   "metadata": {},
   "outputs": [
    {
     "name": "stdout",
     "output_type": "stream",
     "text": [
      "WARNING:tensorflow:From c:\\Users\\janle\\AppData\\Local\\Programs\\Python\\Python311\\Lib\\site-packages\\keras\\src\\utils\\version_utils.py:76: The name tf.executing_eagerly_outside_functions is deprecated. Please use tf.compat.v1.executing_eagerly_outside_functions instead.\n",
      "\n"
     ]
    }
   ],
   "source": [
    "from keras.layers import Dense, Input\n",
    "from keras.models import Model\n",
    "\n",
    "#build neural network for DQN\n",
    "def build_model(states, actions):\n",
    "    input = Input(shape=(1,states))\n",
    "    x = Flatten()(input)\n",
    "    x = Dense(16, activation='relu')(x)\n",
    "    #output layer\n",
    "    output = Dense(actions, activation='linear')(x)\n",
    "\n",
    "    model = Model(inputs=input, outputs=output)\n",
    "\n",
    "    return model\n",
    "\n",
    "model = build_model(env.observation_space, env.nA)"
   ]
  },
  {
   "cell_type": "code",
   "execution_count": 5,
   "metadata": {},
   "outputs": [
    {
     "name": "stdout",
     "output_type": "stream",
     "text": [
      "WARNING:tensorflow:From c:\\Users\\janle\\AppData\\Local\\Programs\\Python\\Python311\\Lib\\site-packages\\keras\\src\\optimizers\\__init__.py:309: The name tf.train.Optimizer is deprecated. Please use tf.compat.v1.train.Optimizer instead.\n",
      "\n"
     ]
    }
   ],
   "source": [
    "from rl.agents.dqn import DQNAgent\n",
    "from rl.policy import BoltzmannQPolicy, EpsGreedyQPolicy, LinearAnnealedPolicy\n",
    "from rl.memory import SequentialMemory\n",
    "from keras.src.saving import serialization_lib\n",
    "serialization_lib.enable_unsafe_deserialization()\n",
    "from tensorflow.keras.optimizers.legacy import Adam\n",
    "\n",
    "# Then, define DQN agent in Keras-RL\n",
    "memory = SequentialMemory(limit=20000, window_length=1)\n",
    "policy = LinearAnnealedPolicy(EpsGreedyQPolicy(eps=0), \n",
    "                              attr='eps', value_max=1., value_min=.1, value_test=.05, nb_steps=10000)\n",
    "dqn = DQNAgent(model=model, nb_actions=env.nA, memory=memory, policy=policy,\n",
    "                nb_steps_warmup=500, target_model_update=1e-2, enable_double_dqn=True, enable_dueling_network=True)\n",
    "dqn.compile(optimizer=Adam(learning_rate=1e-3), metrics=['mae'])"
   ]
  },
  {
   "cell_type": "code",
   "execution_count": 6,
   "metadata": {},
   "outputs": [
    {
     "name": "stdout",
     "output_type": "stream",
     "text": [
      "Training for 5000 steps ...\n",
      "Interval 1 (0 steps performed)\n",
      "WARNING:tensorflow:From c:\\Users\\janle\\AppData\\Local\\Programs\\Python\\Python311\\Lib\\site-packages\\keras\\src\\engine\\training_v1.py:2595: The name tf.data.Iterator is deprecated. Please use tf.compat.v1.data.Iterator instead.\n",
      "\n",
      "WARNING:tensorflow:From c:\\Users\\janle\\AppData\\Local\\Programs\\Python\\Python311\\Lib\\site-packages\\keras\\src\\engine\\training_utils_v1.py:50: The name tf.ragged.RaggedTensorValue is deprecated. Please use tf.compat.v1.ragged.RaggedTensorValue instead.\n",
      "\n",
      "147/365 [===========>..................] - ETA: 0s - reward: -15.6364"
     ]
    },
    {
     "name": "stderr",
     "output_type": "stream",
     "text": [
      "c:\\Users\\janle\\AppData\\Local\\Programs\\Python\\Python311\\Lib\\site-packages\\keras\\src\\engine\\training_v1.py:2359: UserWarning: `Model.state_updates` will be removed in a future version. This property should not be used in TensorFlow 2.0, as `updates` are applied automatically.\n",
      "  updates=self.state_updates,\n"
     ]
    },
    {
     "name": "stdout",
     "output_type": "stream",
     "text": [
      "365/365 [==============================] - 0s 616us/step - reward: -7.2459\n",
      "1 episodes - episode_reward: -2644.750 [-2644.750, -2644.750]\n",
      "\n",
      "Interval 2 (365 steps performed)\n",
      "365/365 [==============================] - 1s 4ms/step - reward: -20.6741\n",
      "1 episodes - episode_reward: -7546.050 [-7546.050, -7546.050] - loss: 5088628.513 - mae: 6032.303 - mean_q: 8929.632 - mean_eps: 0.945\n",
      "\n",
      "Interval 3 (730 steps performed)\n",
      "365/365 [==============================] - 2s 5ms/step - reward: 7.0497\n",
      "1 episodes - episode_reward: 2573.150 [2573.150, 2573.150] - loss: 3169536.984 - mae: 6262.835 - mean_q: 8350.224 - mean_eps: 0.918\n",
      "\n",
      "Interval 4 (1095 steps performed)\n",
      "365/365 [==============================] - 2s 4ms/step - reward: -23.2649\n",
      "1 episodes - episode_reward: -8491.700 [-8491.700, -8491.700] - loss: 4065077.925 - mae: 7218.654 - mean_q: 9489.335 - mean_eps: 0.885\n",
      "\n",
      "Interval 5 (1460 steps performed)\n",
      "365/365 [==============================] - 2s 5ms/step - reward: -24.5925\n",
      "1 episodes - episode_reward: -8976.250 [-8976.250, -8976.250] - loss: 4955540.913 - mae: 8127.511 - mean_q: 10560.412 - mean_eps: 0.852\n",
      "\n",
      "Interval 6 (1825 steps performed)\n",
      "365/365 [==============================] - 2s 4ms/step - reward: -68.4103\n",
      "1 episodes - episode_reward: -24969.750 [-24969.750, -24969.750] - loss: 5935057.754 - mae: 8804.125 - mean_q: 11371.567 - mean_eps: 0.819\n",
      "\n",
      "Interval 7 (2190 steps performed)\n",
      "365/365 [==============================] - 2s 4ms/step - reward: -29.6005\n",
      "1 episodes - episode_reward: -10804.200 [-10804.200, -10804.200] - loss: 6289917.035 - mae: 9476.301 - mean_q: 12091.637 - mean_eps: 0.787\n",
      "\n",
      "Interval 8 (2555 steps performed)\n",
      "365/365 [==============================] - 1s 4ms/step - reward: 24.9923\n",
      "1 episodes - episode_reward: 9122.200 [9122.200, 9122.200] - loss: 6918390.407 - mae: 9890.498 - mean_q: 12619.017 - mean_eps: 0.754\n",
      "\n",
      "Interval 9 (2920 steps performed)\n",
      "365/365 [==============================] - 2s 4ms/step - reward: -0.9956\n",
      "1 episodes - episode_reward: -363.400 [-363.400, -363.400] - loss: 7140759.671 - mae: 10238.596 - mean_q: 13000.535 - mean_eps: 0.721\n",
      "\n",
      "Interval 10 (3285 steps performed)\n",
      "365/365 [==============================] - 1s 4ms/step - reward: -6.0549\n",
      "1 episodes - episode_reward: -2210.050 [-2210.050, -2210.050] - loss: 7605256.467 - mae: 10489.210 - mean_q: 13323.518 - mean_eps: 0.688\n",
      "\n",
      "Interval 11 (3650 steps performed)\n",
      "365/365 [==============================] - 1s 4ms/step - reward: 48.8411\n",
      "1 episodes - episode_reward: 17827.000 [17827.000, 17827.000] - loss: 7574852.126 - mae: 10552.510 - mean_q: 13424.643 - mean_eps: 0.655\n",
      "\n",
      "Interval 12 (4015 steps performed)\n",
      "365/365 [==============================] - 2s 4ms/step - reward: -23.6855\n",
      "1 episodes - episode_reward: -8645.200 [-8645.200, -8645.200] - loss: 8007508.261 - mae: 10911.697 - mean_q: 13892.021 - mean_eps: 0.622\n",
      "\n",
      "Interval 13 (4380 steps performed)\n",
      "365/365 [==============================] - 2s 4ms/step - reward: 25.8425\n",
      "1 episodes - episode_reward: 9432.500 [9432.500, 9432.500] - loss: 8335755.032 - mae: 11205.108 - mean_q: 14265.860 - mean_eps: 0.589\n",
      "\n",
      "Interval 14 (4745 steps performed)\n",
      "247/365 [===================>..........] - ETA: 0s - reward: 5.3925 done, took 19.841 seconds\n"
     ]
    },
    {
     "data": {
      "text/plain": [
       "<keras.src.callbacks.History at 0x2da5a5febd0>"
      ]
     },
     "execution_count": 6,
     "metadata": {},
     "output_type": "execute_result"
    }
   ],
   "source": [
    "dqn.fit(env, nb_steps=5000, visualize=False, verbose=1, nb_max_episode_steps=365, log_interval=365)"
   ]
  },
  {
   "cell_type": "code",
   "execution_count": 8,
   "metadata": {},
   "outputs": [
    {
     "name": "stdout",
     "output_type": "stream",
     "text": [
      "Testing for 15 episodes ...\n",
      "Episode 1: reward: 49260.750, steps: 365\n",
      "Episode 2: reward: 49260.750, steps: 365\n",
      "Episode 3: reward: 49260.750, steps: 365\n",
      "Episode 4: reward: 49260.750, steps: 365\n",
      "Episode 5: reward: 49260.750, steps: 365\n",
      "Episode 6: reward: 49260.750, steps: 365\n",
      "Episode 7: reward: 49260.750, steps: 365\n",
      "Episode 8: reward: 49260.750, steps: 365\n",
      "Episode 9: reward: 49260.750, steps: 365\n",
      "Episode 10: reward: 49260.750, steps: 365\n",
      "Episode 11: reward: 49260.750, steps: 365\n",
      "Episode 12: reward: 49260.750, steps: 365\n",
      "Episode 13: reward: 49260.750, steps: 365\n",
      "Episode 14: reward: 49260.750, steps: 365\n",
      "Episode 15: reward: 49260.750, steps: 365\n"
     ]
    },
    {
     "data": {
      "text/plain": [
       "<keras.src.callbacks.History at 0x2da5b1d19d0>"
      ]
     },
     "execution_count": 8,
     "metadata": {},
     "output_type": "execute_result"
    }
   ],
   "source": [
    "env_test = BatteryManagementEnv(470)\n",
    "env_test.reset()\n",
    "\n",
    "#test the model\n",
    "dqn.test(env_test, nb_episodes=15, visualize=False, nb_max_episode_steps=1000)"
   ]
  },
  {
   "cell_type": "code",
   "execution_count": null,
   "metadata": {},
   "outputs": [],
   "source": []
  }
 ],
 "metadata": {
  "kernelspec": {
   "display_name": "Python 3",
   "language": "python",
   "name": "python3"
  },
  "language_info": {
   "codemirror_mode": {
    "name": "ipython",
    "version": 3
   },
   "file_extension": ".py",
   "mimetype": "text/x-python",
   "name": "python",
   "nbconvert_exporter": "python",
   "pygments_lexer": "ipython3",
   "version": "3.11.1"
  }
 },
 "nbformat": 4,
 "nbformat_minor": 2
}
