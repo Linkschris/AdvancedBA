{
 "cells": [
  {
   "cell_type": "code",
   "execution_count": 45,
   "metadata": {},
   "outputs": [],
   "source": [
    "import tensorflow as tf\n",
    "from keras import __version__\n",
    "tf.keras.__version__ = __version__\n",
    "\n",
    "import time\n",
    "import random\n",
    "import numpy as np\n",
    "import matplotlib.pyplot as plt\n",
    "from IPython.display import clear_output\n",
    "\n",
    "from keras.models import Sequential\n",
    "from keras.layers import Dense, Activation, Flatten, Embedding, Reshape\n",
    "\n",
    "from rl.agents.dqn import DQNAgent\n",
    "from rl.policy import EpsGreedyQPolicy\n",
    "from rl.memory import SequentialMemory\n",
    "\n",
    "from env_class import BatteryManagementEnv\n",
    "\n",
    "plt.style.use(\"ggplot\")"
   ]
  },
  {
   "cell_type": "code",
   "execution_count": 46,
   "metadata": {},
   "outputs": [
    {
     "data": {
      "text/plain": [
       "array([50.], dtype=float32)"
      ]
     },
     "execution_count": 46,
     "metadata": {},
     "output_type": "execute_result"
    }
   ],
   "source": [
    "env = BatteryManagementEnv()\n",
    "env.reset()"
   ]
  },
  {
   "cell_type": "code",
   "execution_count": 47,
   "metadata": {},
   "outputs": [
    {
     "name": "stdout",
     "output_type": "stream",
     "text": [
      "Action Space 1\n",
      "State Space 1\n"
     ]
    }
   ],
   "source": [
    "print(\"Action Space {}\".format(env.action_space))\n",
    "print(\"State Space {}\".format(env.observation_space))"
   ]
  },
  {
   "cell_type": "code",
   "execution_count": 48,
   "metadata": {},
   "outputs": [
    {
     "name": "stdout",
     "output_type": "stream",
     "text": [
      "2\n"
     ]
    }
   ],
   "source": [
    "print(env.nA)"
   ]
  },
  {
   "cell_type": "code",
   "execution_count": 49,
   "metadata": {},
   "outputs": [],
   "source": [
    "from keras.layers import Dense, Input\n",
    "from keras.models import Model\n",
    "\n",
    "#build neural network for DQN\n",
    "def build_model(states, actions):\n",
    "    input = Input(shape=(1,states))\n",
    "    x = Flatten()(input)\n",
    "    x = Dense(16, activation='relu')(x)\n",
    "    #output layer\n",
    "    output = Dense(actions, activation='linear')(x)\n",
    "\n",
    "    model = Model(inputs=input, outputs=output)\n",
    "\n",
    "    return model\n",
    "\n",
    "model = build_model(env.observation_space, env.nA)"
   ]
  },
  {
   "cell_type": "code",
   "execution_count": 50,
   "metadata": {},
   "outputs": [],
   "source": [
    "from rl.agents.dqn import DQNAgent\n",
    "from rl.policy import BoltzmannQPolicy, EpsGreedyQPolicy, LinearAnnealedPolicy\n",
    "from rl.memory import SequentialMemory\n",
    "from keras.src.saving import serialization_lib\n",
    "serialization_lib.enable_unsafe_deserialization()\n",
    "from tensorflow.keras.optimizers.legacy import Adam\n",
    "\n",
    "# Then, define DQN agent in Keras-RL\n",
    "memory = SequentialMemory(limit=20000, window_length=1)\n",
    "policy = LinearAnnealedPolicy(EpsGreedyQPolicy(), \n",
    "                              attr='eps', value_max=1., value_min=.1, value_test=.05, nb_steps=10000)\n",
    "dqn = DQNAgent(model=model, nb_actions=env.nA, memory=memory, policy=policy,\n",
    "                nb_steps_warmup=500, target_model_update=1e-2, enable_double_dqn=True, enable_dueling_network=True)\n",
    "dqn.compile(optimizer=Adam(learning_rate=1e-3), metrics=['mae'])"
   ]
  },
  {
   "cell_type": "code",
   "execution_count": 51,
   "metadata": {},
   "outputs": [
    {
     "name": "stdout",
     "output_type": "stream",
     "text": [
      "Training for 100000 steps ...\n",
      "Interval 1 (0 steps performed)\n",
      "   1/1000 [..............................] - ETA: 2:16 - reward: 100.000"
     ]
    },
    {
     "name": "stderr",
     "output_type": "stream",
     "text": [
      "c:\\Users\\janle\\AppData\\Local\\Programs\\Python\\Python311\\Lib\\site-packages\\keras\\src\\engine\\training_v1.py:2359: UserWarning: `Model.state_updates` will be removed in a future version. This property should not be used in TensorFlow 2.0, as `updates` are applied automatically.\n",
      "  updates=self.state_updates,\n"
     ]
    },
    {
     "name": "stdout",
     "output_type": "stream",
     "text": [
      "1000/1000 [==============================] - 10s 10ms/step - reward: 8.6000\n",
      "1000 episodes - episode_reward: 8.600 [-100.000, 100.000] - loss: 1041.050 - mae: 50.216 - mean_q: 70.615 - mean_eps: 0.932\n",
      "\n",
      "Interval 2 (1000 steps performed)\n",
      "1000/1000 [==============================] - 18s 18ms/step - reward: 13.2000\n",
      "1000 episodes - episode_reward: 13.200 [-100.000, 100.000] - loss: 0.000 - mae: 50.000 - mean_q: 100.000 - mean_eps: 0.865\n",
      "\n",
      "Interval 3 (2000 steps performed)\n",
      "1000/1000 [==============================] - 19s 19ms/step - reward: 19.6000\n",
      "1000 episodes - episode_reward: 19.600 [-100.000, 100.000] - loss: 0.000 - mae: 50.000 - mean_q: 100.000 - mean_eps: 0.775\n",
      "\n",
      "Interval 4 (3000 steps performed)\n",
      " 339/1000 [=========>....................] - ETA: 11s - reward: 25.0737done, took 52.931 seconds\n"
     ]
    },
    {
     "data": {
      "text/plain": [
       "<keras.src.callbacks.History at 0x182362c7d90>"
      ]
     },
     "execution_count": 51,
     "metadata": {},
     "output_type": "execute_result"
    }
   ],
   "source": [
    "dqn.fit(env, nb_steps=100000, visualize=False, verbose=1, nb_max_episode_steps=200, log_interval=1000)"
   ]
  },
  {
   "cell_type": "code",
   "execution_count": null,
   "metadata": {},
   "outputs": [],
   "source": []
  }
 ],
 "metadata": {
  "kernelspec": {
   "display_name": "Python 3",
   "language": "python",
   "name": "python3"
  },
  "language_info": {
   "codemirror_mode": {
    "name": "ipython",
    "version": 3
   },
   "file_extension": ".py",
   "mimetype": "text/x-python",
   "name": "python",
   "nbconvert_exporter": "python",
   "pygments_lexer": "ipython3",
   "version": "3.11.1"
  }
 },
 "nbformat": 4,
 "nbformat_minor": 2
}
