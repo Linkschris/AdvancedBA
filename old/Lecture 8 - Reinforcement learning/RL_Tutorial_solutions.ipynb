{
  "cells": [
    {
      "cell_type": "markdown",
      "metadata": {
        "id": "WU6xf9NYeCc3"
      },
      "source": [
        "# Reinforcement Learning Tutorial - Taxi pickup problem\n",
        "\n",
        "Welcome to the practical component of this Reinforcement Learning (RL) tutorial! \n",
        "\n",
        "In order to experiment with different RL algorithms and understand how they work, their characteristics, and important challanges in RL, we have prepared a relatively simple toy problem. The idea was to have a problem that is easy to understand and relate to, but at the same time is computatinally efficient (we cannot wait 1h for an algorithm to run in the context of a tutorial) and one where learned policies can be easily visualized. \n",
        "\n",
        "<img src=\"http://mlsm.man.dtu.dk/env.gif\"/>\n",
        "\n",
        "**Problem:** The problem that we will consider is the Taxi pickup problem, where to goal is to pickup customers in a simple 5x5 grid world in order to maximize profit. Real-world extensions of this toy problem could be, for example: \n",
        "\n",
        "- Dynamic routing of a fleet of autonomous vehicles (e.g. each vehicle needs to decide where to roam and which routes to take)\n",
        "\n",
        "- Rebalancing in shared mobility services (e.g. SHARENOW or Green Mobility)\n",
        "\n",
        "- Managing a fleet of autonomous vehicles in a warehouse\n",
        "\n",
        "- Etc.\n",
        "\n",
        "**Environments:** We will consider 3 environments of increasing complexity:\n",
        "\n",
        "1. An environment where there is only a single request at a fixed location, and all the taxi needs to learn to do is to go to that location and pickup the customer. The episode terminates after.\n",
        "\n",
        "2. An environment with 3 different pickup locations. The customers spawn at these locations with different rates. Every time a customer is picked up the taxi is teleported to a random dropout location and continues from there.\n",
        "\n",
        "3. An environment where requests can appear anywhere in the map at any time.\n",
        "\n",
        "**Actions:** For all environments, at each time step, the taxi is allowed to take one of the following 5 actions:\n",
        "- 0: move south\n",
        "- 1: move north\n",
        "- 2: move east \n",
        "- 3: move west \n",
        "- 4: pickup passenger\n",
        "\n",
        "Before we move on, let's make sure that you have installed all the necessary Python packages. Uncomment the following lines of code and run them:"
      ]
    },
    {
      "cell_type": "code",
      "execution_count": 1,
      "metadata": {
        "id": "gqN5iebceCc5"
      },
      "outputs": [
        {
          "name": "stdout",
          "output_type": "stream",
          "text": [
            "Requirement already satisfied: numpy in /Users/maxfavrot/anaconda3/envs/my_environment/lib/python3.11/site-packages (1.23.5)\n",
            "Requirement already satisfied: scipy in /Users/maxfavrot/anaconda3/envs/my_environment/lib/python3.11/site-packages (1.11.4)\n",
            "Requirement already satisfied: matplotlib in /Users/maxfavrot/anaconda3/envs/my_environment/lib/python3.11/site-packages (3.8.2)\n",
            "Requirement already satisfied: contourpy>=1.0.1 in /Users/maxfavrot/anaconda3/envs/my_environment/lib/python3.11/site-packages (from matplotlib) (1.2.0)\n",
            "Requirement already satisfied: cycler>=0.10 in /Users/maxfavrot/anaconda3/envs/my_environment/lib/python3.11/site-packages (from matplotlib) (0.12.1)\n",
            "Requirement already satisfied: fonttools>=4.22.0 in /Users/maxfavrot/anaconda3/envs/my_environment/lib/python3.11/site-packages (from matplotlib) (4.47.0)\n",
            "Requirement already satisfied: kiwisolver>=1.3.1 in /Users/maxfavrot/anaconda3/envs/my_environment/lib/python3.11/site-packages (from matplotlib) (1.4.5)\n",
            "Requirement already satisfied: packaging>=20.0 in /Users/maxfavrot/anaconda3/envs/my_environment/lib/python3.11/site-packages (from matplotlib) (23.2)\n",
            "Requirement already satisfied: pillow>=8 in /Users/maxfavrot/anaconda3/envs/my_environment/lib/python3.11/site-packages (from matplotlib) (10.1.0)\n",
            "Requirement already satisfied: pyparsing>=2.3.1 in /Users/maxfavrot/anaconda3/envs/my_environment/lib/python3.11/site-packages (from matplotlib) (3.1.1)\n",
            "Requirement already satisfied: python-dateutil>=2.7 in /Users/maxfavrot/anaconda3/envs/my_environment/lib/python3.11/site-packages (from matplotlib) (2.8.2)\n",
            "Requirement already satisfied: six>=1.5 in /Users/maxfavrot/anaconda3/envs/my_environment/lib/python3.11/site-packages (from python-dateutil>=2.7->matplotlib) (1.16.0)\n",
            "Note: you may need to restart the kernel to use updated packages.\n"
          ]
        }
      ],
      "source": [
        "#!pip install numpy scipy matplotlib"
      ]
    },
    {
      "cell_type": "code",
      "execution_count": 2,
      "metadata": {
        "id": "Cfd9lSQpeCc6"
      },
      "outputs": [
        {
          "name": "stdout",
          "output_type": "stream",
          "text": [
            "Collecting gym\n",
            "  Downloading gym-0.26.2.tar.gz (721 kB)\n",
            "\u001b[2K     \u001b[90m━━━━━━━━━━━━━━━━━━━━━━━━━━━━━━━━━━━━━━━\u001b[0m \u001b[32m721.7/721.7 kB\u001b[0m \u001b[31m4.0 MB/s\u001b[0m eta \u001b[36m0:00:00\u001b[0m00:01\u001b[0m00:01\u001b[0m\n",
            "\u001b[?25h  Installing build dependencies ... \u001b[?25ldone\n",
            "\u001b[?25h  Getting requirements to build wheel ... \u001b[?25ldone\n",
            "\u001b[?25h  Preparing metadata (pyproject.toml) ... \u001b[?25ldone\n",
            "\u001b[?25hRequirement already satisfied: numpy>=1.18.0 in /Users/maxfavrot/anaconda3/envs/my_environment/lib/python3.11/site-packages (from gym) (1.23.5)\n",
            "Collecting cloudpickle>=1.2.0 (from gym)\n",
            "  Downloading cloudpickle-3.0.0-py3-none-any.whl.metadata (7.0 kB)\n",
            "Collecting gym-notices>=0.0.4 (from gym)\n",
            "  Downloading gym_notices-0.0.8-py3-none-any.whl.metadata (1.0 kB)\n",
            "Downloading cloudpickle-3.0.0-py3-none-any.whl (20 kB)\n",
            "Downloading gym_notices-0.0.8-py3-none-any.whl (3.0 kB)\n",
            "Building wheels for collected packages: gym\n",
            "  Building wheel for gym (pyproject.toml) ... \u001b[?25ldone\n",
            "\u001b[?25h  Created wheel for gym: filename=gym-0.26.2-py3-none-any.whl size=827624 sha256=260d0b85982f5c6e4635d622ee484f82bcf3d51c0f7c37857c0722dfaebb4f3e\n",
            "  Stored in directory: /Users/maxfavrot/Library/Caches/pip/wheels/1c/77/9e/9af5470201a0b0543937933ee99ba884cd237d2faefe8f4d37\n",
            "Successfully built gym\n",
            "Installing collected packages: gym-notices, cloudpickle, gym\n",
            "Successfully installed cloudpickle-3.0.0 gym-0.26.2 gym-notices-0.0.8\n",
            "Note: you may need to restart the kernel to use updated packages.\n"
          ]
        }
      ],
      "source": [
        "#!pip install gym"
      ]
    },
    {
      "cell_type": "code",
      "execution_count": 3,
      "metadata": {
        "id": "JMYeKgWbeCc6"
      },
      "outputs": [
        {
          "name": "stdout",
          "output_type": "stream",
          "text": [
            "Requirement already satisfied: tensorflow in /Users/maxfavrot/anaconda3/envs/my_environment/lib/python3.11/site-packages (2.12.0)\n",
            "Requirement already satisfied: absl-py>=1.0.0 in /Users/maxfavrot/anaconda3/envs/my_environment/lib/python3.11/site-packages (from tensorflow) (1.4.0)\n",
            "Requirement already satisfied: astunparse>=1.6.0 in /Users/maxfavrot/anaconda3/envs/my_environment/lib/python3.11/site-packages (from tensorflow) (1.6.3)\n",
            "Requirement already satisfied: flatbuffers>=2.0 in /Users/maxfavrot/anaconda3/envs/my_environment/lib/python3.11/site-packages (from tensorflow) (2.0)\n",
            "Requirement already satisfied: gast<=0.4.0,>=0.2.1 in /Users/maxfavrot/anaconda3/envs/my_environment/lib/python3.11/site-packages (from tensorflow) (0.4.0)\n",
            "Requirement already satisfied: google-pasta>=0.1.1 in /Users/maxfavrot/anaconda3/envs/my_environment/lib/python3.11/site-packages (from tensorflow) (0.2.0)\n",
            "Requirement already satisfied: h5py>=2.9.0 in /Users/maxfavrot/anaconda3/envs/my_environment/lib/python3.11/site-packages (from tensorflow) (3.9.0)\n",
            "Collecting jax>=0.3.15 (from tensorflow)\n",
            "  Downloading jax-0.4.26-py3-none-any.whl.metadata (23 kB)\n",
            "Collecting libclang>=13.0.0 (from tensorflow)\n",
            "  Downloading libclang-18.1.1-py2.py3-none-macosx_10_9_x86_64.whl.metadata (5.2 kB)\n",
            "Requirement already satisfied: numpy<1.24,>=1.22 in /Users/maxfavrot/anaconda3/envs/my_environment/lib/python3.11/site-packages (from tensorflow) (1.23.5)\n",
            "Requirement already satisfied: opt-einsum>=2.3.2 in /Users/maxfavrot/anaconda3/envs/my_environment/lib/python3.11/site-packages (from tensorflow) (3.3.0)\n",
            "Requirement already satisfied: packaging in /Users/maxfavrot/anaconda3/envs/my_environment/lib/python3.11/site-packages (from tensorflow) (23.2)\n",
            "Requirement already satisfied: protobuf!=4.21.0,!=4.21.1,!=4.21.2,!=4.21.3,!=4.21.4,!=4.21.5,<5.0.0dev,>=3.20.3 in /Users/maxfavrot/anaconda3/envs/my_environment/lib/python3.11/site-packages (from tensorflow) (3.20.3)\n",
            "Requirement already satisfied: setuptools in /Users/maxfavrot/anaconda3/envs/my_environment/lib/python3.11/site-packages (from tensorflow) (68.2.2)\n",
            "Requirement already satisfied: six>=1.12.0 in /Users/maxfavrot/anaconda3/envs/my_environment/lib/python3.11/site-packages (from tensorflow) (1.16.0)\n",
            "Requirement already satisfied: termcolor>=1.1.0 in /Users/maxfavrot/anaconda3/envs/my_environment/lib/python3.11/site-packages (from tensorflow) (2.1.0)\n",
            "Requirement already satisfied: typing-extensions>=3.6.6 in /Users/maxfavrot/anaconda3/envs/my_environment/lib/python3.11/site-packages (from tensorflow) (4.9.0)\n",
            "Requirement already satisfied: wrapt<1.15,>=1.11.0 in /Users/maxfavrot/anaconda3/envs/my_environment/lib/python3.11/site-packages (from tensorflow) (1.14.1)\n",
            "Requirement already satisfied: grpcio<2.0,>=1.24.3 in /Users/maxfavrot/anaconda3/envs/my_environment/lib/python3.11/site-packages (from tensorflow) (1.48.2)\n",
            "Requirement already satisfied: tensorboard<2.13,>=2.12 in /Users/maxfavrot/anaconda3/envs/my_environment/lib/python3.11/site-packages (from tensorflow) (2.12.1)\n",
            "Requirement already satisfied: tensorflow-estimator<2.13,>=2.12.0 in /Users/maxfavrot/anaconda3/envs/my_environment/lib/python3.11/site-packages (from tensorflow) (2.12.0)\n",
            "Requirement already satisfied: keras<2.13,>=2.12.0 in /Users/maxfavrot/anaconda3/envs/my_environment/lib/python3.11/site-packages (from tensorflow) (2.12.0)\n",
            "Collecting tensorflow-io-gcs-filesystem>=0.23.1 (from tensorflow)\n",
            "  Downloading tensorflow_io_gcs_filesystem-0.36.0-cp311-cp311-macosx_10_14_x86_64.whl.metadata (14 kB)\n",
            "Requirement already satisfied: wheel<1.0,>=0.23.0 in /Users/maxfavrot/anaconda3/envs/my_environment/lib/python3.11/site-packages (from astunparse>=1.6.0->tensorflow) (0.35.1)\n",
            "Collecting ml-dtypes>=0.2.0 (from jax>=0.3.15->tensorflow)\n",
            "  Downloading ml_dtypes-0.4.0-cp311-cp311-macosx_10_9_universal2.whl.metadata (20 kB)\n",
            "Requirement already satisfied: scipy>=1.9 in /Users/maxfavrot/anaconda3/envs/my_environment/lib/python3.11/site-packages (from jax>=0.3.15->tensorflow) (1.11.4)\n",
            "Requirement already satisfied: google-auth<3,>=1.6.3 in /Users/maxfavrot/anaconda3/envs/my_environment/lib/python3.11/site-packages (from tensorboard<2.13,>=2.12->tensorflow) (2.6.0)\n",
            "Requirement already satisfied: google-auth-oauthlib<1.1,>=0.5 in /Users/maxfavrot/anaconda3/envs/my_environment/lib/python3.11/site-packages (from tensorboard<2.13,>=2.12->tensorflow) (0.5.2)\n",
            "Requirement already satisfied: markdown>=2.6.8 in /Users/maxfavrot/anaconda3/envs/my_environment/lib/python3.11/site-packages (from tensorboard<2.13,>=2.12->tensorflow) (3.4.1)\n",
            "Requirement already satisfied: requests<3,>=2.21.0 in /Users/maxfavrot/anaconda3/envs/my_environment/lib/python3.11/site-packages (from tensorboard<2.13,>=2.12->tensorflow) (2.31.0)\n",
            "Requirement already satisfied: tensorboard-data-server<0.8.0,>=0.7.0 in /Users/maxfavrot/anaconda3/envs/my_environment/lib/python3.11/site-packages (from tensorboard<2.13,>=2.12->tensorflow) (0.7.0)\n",
            "Requirement already satisfied: tensorboard-plugin-wit>=1.6.0 in /Users/maxfavrot/anaconda3/envs/my_environment/lib/python3.11/site-packages (from tensorboard<2.13,>=2.12->tensorflow) (1.6.0)\n",
            "Requirement already satisfied: werkzeug>=1.0.1 in /Users/maxfavrot/anaconda3/envs/my_environment/lib/python3.11/site-packages (from tensorboard<2.13,>=2.12->tensorflow) (2.3.8)\n",
            "Requirement already satisfied: cachetools<6.0,>=2.0.0 in /Users/maxfavrot/anaconda3/envs/my_environment/lib/python3.11/site-packages (from google-auth<3,>=1.6.3->tensorboard<2.13,>=2.12->tensorflow) (4.2.2)\n",
            "Requirement already satisfied: pyasn1-modules>=0.2.1 in /Users/maxfavrot/anaconda3/envs/my_environment/lib/python3.11/site-packages (from google-auth<3,>=1.6.3->tensorboard<2.13,>=2.12->tensorflow) (0.2.8)\n",
            "Requirement already satisfied: rsa<5,>=3.1.4 in /Users/maxfavrot/anaconda3/envs/my_environment/lib/python3.11/site-packages (from google-auth<3,>=1.6.3->tensorboard<2.13,>=2.12->tensorflow) (4.7.2)\n",
            "Requirement already satisfied: requests-oauthlib>=0.7.0 in /Users/maxfavrot/anaconda3/envs/my_environment/lib/python3.11/site-packages (from google-auth-oauthlib<1.1,>=0.5->tensorboard<2.13,>=2.12->tensorflow) (1.3.0)\n",
            "Requirement already satisfied: charset-normalizer<4,>=2 in /Users/maxfavrot/anaconda3/envs/my_environment/lib/python3.11/site-packages (from requests<3,>=2.21.0->tensorboard<2.13,>=2.12->tensorflow) (2.0.4)\n",
            "Requirement already satisfied: idna<4,>=2.5 in /Users/maxfavrot/anaconda3/envs/my_environment/lib/python3.11/site-packages (from requests<3,>=2.21.0->tensorboard<2.13,>=2.12->tensorflow) (3.4)\n",
            "Requirement already satisfied: urllib3<3,>=1.21.1 in /Users/maxfavrot/anaconda3/envs/my_environment/lib/python3.11/site-packages (from requests<3,>=2.21.0->tensorboard<2.13,>=2.12->tensorflow) (2.1.0)\n",
            "Requirement already satisfied: certifi>=2017.4.17 in /Users/maxfavrot/anaconda3/envs/my_environment/lib/python3.11/site-packages (from requests<3,>=2.21.0->tensorboard<2.13,>=2.12->tensorflow) (2024.2.2)\n",
            "Requirement already satisfied: MarkupSafe>=2.1.1 in /Users/maxfavrot/anaconda3/envs/my_environment/lib/python3.11/site-packages (from werkzeug>=1.0.1->tensorboard<2.13,>=2.12->tensorflow) (2.1.3)\n",
            "Requirement already satisfied: pyasn1<0.5.0,>=0.4.6 in /Users/maxfavrot/anaconda3/envs/my_environment/lib/python3.11/site-packages (from pyasn1-modules>=0.2.1->google-auth<3,>=1.6.3->tensorboard<2.13,>=2.12->tensorflow) (0.4.8)\n",
            "Requirement already satisfied: oauthlib>=3.0.0 in /Users/maxfavrot/anaconda3/envs/my_environment/lib/python3.11/site-packages (from requests-oauthlib>=0.7.0->google-auth-oauthlib<1.1,>=0.5->tensorboard<2.13,>=2.12->tensorflow) (3.2.2)\n",
            "Downloading jax-0.4.26-py3-none-any.whl (1.9 MB)\n",
            "\u001b[2K   \u001b[90m━━━━━━━━━━━━━━━━━━━━━━━━━━━━━━━━━━━━━━━━\u001b[0m \u001b[32m1.9/1.9 MB\u001b[0m \u001b[31m1.9 MB/s\u001b[0m eta \u001b[36m0:00:00\u001b[0m00:01\u001b[0m00:01\u001b[0m0m\n",
            "\u001b[?25hDownloading libclang-18.1.1-py2.py3-none-macosx_10_9_x86_64.whl (26.5 MB)\n",
            "\u001b[2K   \u001b[90m━━━━━━━━━━━━━━━━━━━━━━━━━━━━━━━━━━━━━━━━\u001b[0m \u001b[32m26.5/26.5 MB\u001b[0m \u001b[31m6.7 MB/s\u001b[0m eta \u001b[36m0:00:00\u001b[0m00:01\u001b[0m00:01\u001b[0m\n",
            "\u001b[?25hDownloading tensorflow_io_gcs_filesystem-0.36.0-cp311-cp311-macosx_10_14_x86_64.whl (2.5 MB)\n",
            "\u001b[2K   \u001b[90m━━━━━━━━━━━━━━━━━━━━━━━━━━━━━━━━━━━━━━━━\u001b[0m \u001b[32m2.5/2.5 MB\u001b[0m \u001b[31m7.9 MB/s\u001b[0m eta \u001b[36m0:00:00\u001b[0m00:01\u001b[0m00:01\u001b[0m\n",
            "\u001b[?25hDownloading ml_dtypes-0.4.0-cp311-cp311-macosx_10_9_universal2.whl (390 kB)\n",
            "\u001b[2K   \u001b[90m━━━━━━━━━━━━━━━━━━━━━━━━━━━━━━━━━━━━━━━━\u001b[0m \u001b[32m390.9/390.9 kB\u001b[0m \u001b[31m4.2 MB/s\u001b[0m eta \u001b[36m0:00:00\u001b[0m00:01\u001b[0m00:01\u001b[0m\n",
            "\u001b[?25hInstalling collected packages: libclang, tensorflow-io-gcs-filesystem, ml-dtypes, jax\n",
            "Successfully installed jax-0.4.26 libclang-18.1.1 ml-dtypes-0.4.0 tensorflow-io-gcs-filesystem-0.36.0\n",
            "Note: you may need to restart the kernel to use updated packages.\n"
          ]
        }
      ],
      "source": [
        "#!pip install tensorflow # Does not work like this if you have a Macbook M1/M2!"
      ]
    },
    {
      "cell_type": "code",
      "execution_count": 4,
      "metadata": {
        "id": "lOnDQX-zeCc7"
      },
      "outputs": [
        {
          "name": "stdout",
          "output_type": "stream",
          "text": [
            "Collecting keras-rl2\n",
            "  Downloading keras_rl2-1.0.5-py3-none-any.whl.metadata (304 bytes)\n",
            "Requirement already satisfied: tensorflow in /Users/maxfavrot/anaconda3/envs/my_environment/lib/python3.11/site-packages (from keras-rl2) (2.12.0)\n",
            "Requirement already satisfied: absl-py>=1.0.0 in /Users/maxfavrot/anaconda3/envs/my_environment/lib/python3.11/site-packages (from tensorflow->keras-rl2) (1.4.0)\n",
            "Requirement already satisfied: astunparse>=1.6.0 in /Users/maxfavrot/anaconda3/envs/my_environment/lib/python3.11/site-packages (from tensorflow->keras-rl2) (1.6.3)\n",
            "Requirement already satisfied: flatbuffers>=2.0 in /Users/maxfavrot/anaconda3/envs/my_environment/lib/python3.11/site-packages (from tensorflow->keras-rl2) (2.0)\n",
            "Requirement already satisfied: gast<=0.4.0,>=0.2.1 in /Users/maxfavrot/anaconda3/envs/my_environment/lib/python3.11/site-packages (from tensorflow->keras-rl2) (0.4.0)\n",
            "Requirement already satisfied: google-pasta>=0.1.1 in /Users/maxfavrot/anaconda3/envs/my_environment/lib/python3.11/site-packages (from tensorflow->keras-rl2) (0.2.0)\n",
            "Requirement already satisfied: h5py>=2.9.0 in /Users/maxfavrot/anaconda3/envs/my_environment/lib/python3.11/site-packages (from tensorflow->keras-rl2) (3.9.0)\n",
            "Requirement already satisfied: jax>=0.3.15 in /Users/maxfavrot/anaconda3/envs/my_environment/lib/python3.11/site-packages (from tensorflow->keras-rl2) (0.4.26)\n",
            "Requirement already satisfied: libclang>=13.0.0 in /Users/maxfavrot/anaconda3/envs/my_environment/lib/python3.11/site-packages (from tensorflow->keras-rl2) (18.1.1)\n",
            "Requirement already satisfied: numpy<1.24,>=1.22 in /Users/maxfavrot/anaconda3/envs/my_environment/lib/python3.11/site-packages (from tensorflow->keras-rl2) (1.23.5)\n",
            "Requirement already satisfied: opt-einsum>=2.3.2 in /Users/maxfavrot/anaconda3/envs/my_environment/lib/python3.11/site-packages (from tensorflow->keras-rl2) (3.3.0)\n",
            "Requirement already satisfied: packaging in /Users/maxfavrot/anaconda3/envs/my_environment/lib/python3.11/site-packages (from tensorflow->keras-rl2) (23.2)\n",
            "Requirement already satisfied: protobuf!=4.21.0,!=4.21.1,!=4.21.2,!=4.21.3,!=4.21.4,!=4.21.5,<5.0.0dev,>=3.20.3 in /Users/maxfavrot/anaconda3/envs/my_environment/lib/python3.11/site-packages (from tensorflow->keras-rl2) (3.20.3)\n",
            "Requirement already satisfied: setuptools in /Users/maxfavrot/anaconda3/envs/my_environment/lib/python3.11/site-packages (from tensorflow->keras-rl2) (68.2.2)\n",
            "Requirement already satisfied: six>=1.12.0 in /Users/maxfavrot/anaconda3/envs/my_environment/lib/python3.11/site-packages (from tensorflow->keras-rl2) (1.16.0)\n",
            "Requirement already satisfied: termcolor>=1.1.0 in /Users/maxfavrot/anaconda3/envs/my_environment/lib/python3.11/site-packages (from tensorflow->keras-rl2) (2.1.0)\n",
            "Requirement already satisfied: typing-extensions>=3.6.6 in /Users/maxfavrot/anaconda3/envs/my_environment/lib/python3.11/site-packages (from tensorflow->keras-rl2) (4.9.0)\n",
            "Requirement already satisfied: wrapt<1.15,>=1.11.0 in /Users/maxfavrot/anaconda3/envs/my_environment/lib/python3.11/site-packages (from tensorflow->keras-rl2) (1.14.1)\n",
            "Requirement already satisfied: grpcio<2.0,>=1.24.3 in /Users/maxfavrot/anaconda3/envs/my_environment/lib/python3.11/site-packages (from tensorflow->keras-rl2) (1.48.2)\n",
            "Requirement already satisfied: tensorboard<2.13,>=2.12 in /Users/maxfavrot/anaconda3/envs/my_environment/lib/python3.11/site-packages (from tensorflow->keras-rl2) (2.12.1)\n",
            "Requirement already satisfied: tensorflow-estimator<2.13,>=2.12.0 in /Users/maxfavrot/anaconda3/envs/my_environment/lib/python3.11/site-packages (from tensorflow->keras-rl2) (2.12.0)\n",
            "Requirement already satisfied: keras<2.13,>=2.12.0 in /Users/maxfavrot/anaconda3/envs/my_environment/lib/python3.11/site-packages (from tensorflow->keras-rl2) (2.12.0)\n",
            "Requirement already satisfied: tensorflow-io-gcs-filesystem>=0.23.1 in /Users/maxfavrot/anaconda3/envs/my_environment/lib/python3.11/site-packages (from tensorflow->keras-rl2) (0.36.0)\n",
            "Requirement already satisfied: wheel<1.0,>=0.23.0 in /Users/maxfavrot/anaconda3/envs/my_environment/lib/python3.11/site-packages (from astunparse>=1.6.0->tensorflow->keras-rl2) (0.35.1)\n",
            "Requirement already satisfied: ml-dtypes>=0.2.0 in /Users/maxfavrot/anaconda3/envs/my_environment/lib/python3.11/site-packages (from jax>=0.3.15->tensorflow->keras-rl2) (0.4.0)\n",
            "Requirement already satisfied: scipy>=1.9 in /Users/maxfavrot/anaconda3/envs/my_environment/lib/python3.11/site-packages (from jax>=0.3.15->tensorflow->keras-rl2) (1.11.4)\n",
            "Requirement already satisfied: google-auth<3,>=1.6.3 in /Users/maxfavrot/anaconda3/envs/my_environment/lib/python3.11/site-packages (from tensorboard<2.13,>=2.12->tensorflow->keras-rl2) (2.6.0)\n",
            "Requirement already satisfied: google-auth-oauthlib<1.1,>=0.5 in /Users/maxfavrot/anaconda3/envs/my_environment/lib/python3.11/site-packages (from tensorboard<2.13,>=2.12->tensorflow->keras-rl2) (0.5.2)\n",
            "Requirement already satisfied: markdown>=2.6.8 in /Users/maxfavrot/anaconda3/envs/my_environment/lib/python3.11/site-packages (from tensorboard<2.13,>=2.12->tensorflow->keras-rl2) (3.4.1)\n",
            "Requirement already satisfied: requests<3,>=2.21.0 in /Users/maxfavrot/anaconda3/envs/my_environment/lib/python3.11/site-packages (from tensorboard<2.13,>=2.12->tensorflow->keras-rl2) (2.31.0)\n",
            "Requirement already satisfied: tensorboard-data-server<0.8.0,>=0.7.0 in /Users/maxfavrot/anaconda3/envs/my_environment/lib/python3.11/site-packages (from tensorboard<2.13,>=2.12->tensorflow->keras-rl2) (0.7.0)\n",
            "Requirement already satisfied: tensorboard-plugin-wit>=1.6.0 in /Users/maxfavrot/anaconda3/envs/my_environment/lib/python3.11/site-packages (from tensorboard<2.13,>=2.12->tensorflow->keras-rl2) (1.6.0)\n",
            "Requirement already satisfied: werkzeug>=1.0.1 in /Users/maxfavrot/anaconda3/envs/my_environment/lib/python3.11/site-packages (from tensorboard<2.13,>=2.12->tensorflow->keras-rl2) (2.3.8)\n",
            "Requirement already satisfied: cachetools<6.0,>=2.0.0 in /Users/maxfavrot/anaconda3/envs/my_environment/lib/python3.11/site-packages (from google-auth<3,>=1.6.3->tensorboard<2.13,>=2.12->tensorflow->keras-rl2) (4.2.2)\n",
            "Requirement already satisfied: pyasn1-modules>=0.2.1 in /Users/maxfavrot/anaconda3/envs/my_environment/lib/python3.11/site-packages (from google-auth<3,>=1.6.3->tensorboard<2.13,>=2.12->tensorflow->keras-rl2) (0.2.8)\n",
            "Requirement already satisfied: rsa<5,>=3.1.4 in /Users/maxfavrot/anaconda3/envs/my_environment/lib/python3.11/site-packages (from google-auth<3,>=1.6.3->tensorboard<2.13,>=2.12->tensorflow->keras-rl2) (4.7.2)\n",
            "Requirement already satisfied: requests-oauthlib>=0.7.0 in /Users/maxfavrot/anaconda3/envs/my_environment/lib/python3.11/site-packages (from google-auth-oauthlib<1.1,>=0.5->tensorboard<2.13,>=2.12->tensorflow->keras-rl2) (1.3.0)\n",
            "Requirement already satisfied: charset-normalizer<4,>=2 in /Users/maxfavrot/anaconda3/envs/my_environment/lib/python3.11/site-packages (from requests<3,>=2.21.0->tensorboard<2.13,>=2.12->tensorflow->keras-rl2) (2.0.4)\n",
            "Requirement already satisfied: idna<4,>=2.5 in /Users/maxfavrot/anaconda3/envs/my_environment/lib/python3.11/site-packages (from requests<3,>=2.21.0->tensorboard<2.13,>=2.12->tensorflow->keras-rl2) (3.4)\n",
            "Requirement already satisfied: urllib3<3,>=1.21.1 in /Users/maxfavrot/anaconda3/envs/my_environment/lib/python3.11/site-packages (from requests<3,>=2.21.0->tensorboard<2.13,>=2.12->tensorflow->keras-rl2) (2.1.0)\n",
            "Requirement already satisfied: certifi>=2017.4.17 in /Users/maxfavrot/anaconda3/envs/my_environment/lib/python3.11/site-packages (from requests<3,>=2.21.0->tensorboard<2.13,>=2.12->tensorflow->keras-rl2) (2024.2.2)\n",
            "Requirement already satisfied: MarkupSafe>=2.1.1 in /Users/maxfavrot/anaconda3/envs/my_environment/lib/python3.11/site-packages (from werkzeug>=1.0.1->tensorboard<2.13,>=2.12->tensorflow->keras-rl2) (2.1.3)\n",
            "Requirement already satisfied: pyasn1<0.5.0,>=0.4.6 in /Users/maxfavrot/anaconda3/envs/my_environment/lib/python3.11/site-packages (from pyasn1-modules>=0.2.1->google-auth<3,>=1.6.3->tensorboard<2.13,>=2.12->tensorflow->keras-rl2) (0.4.8)\n",
            "Requirement already satisfied: oauthlib>=3.0.0 in /Users/maxfavrot/anaconda3/envs/my_environment/lib/python3.11/site-packages (from requests-oauthlib>=0.7.0->google-auth-oauthlib<1.1,>=0.5->tensorboard<2.13,>=2.12->tensorflow->keras-rl2) (3.2.2)\n",
            "Downloading keras_rl2-1.0.5-py3-none-any.whl (52 kB)\n",
            "\u001b[2K   \u001b[90m━━━━━━━━━━━━━━━━━━━━━━━━━━━━━━━━━━━━━━━━\u001b[0m \u001b[32m52.1/52.1 kB\u001b[0m \u001b[31m849.3 kB/s\u001b[0m eta \u001b[36m0:00:00\u001b[0m:01\u001b[0m\n",
            "\u001b[?25hInstalling collected packages: keras-rl2\n",
            "Successfully installed keras-rl2-1.0.5\n",
            "Note: you may need to restart the kernel to use updated packages.\n"
          ]
        }
      ],
      "source": [
        "#!pip install keras-rl2"
      ]
    },
    {
      "cell_type": "code",
      "execution_count": 5,
      "metadata": {
        "id": "aCjW0omCeCc7"
      },
      "outputs": [
        {
          "name": "stdout",
          "output_type": "stream",
          "text": [
            "Collecting pygame\n",
            "  Downloading pygame-2.5.2-cp311-cp311-macosx_10_9_x86_64.whl.metadata (13 kB)\n",
            "Downloading pygame-2.5.2-cp311-cp311-macosx_10_9_x86_64.whl (12.9 MB)\n",
            "\u001b[2K   \u001b[90m━━━━━━━━━━━━━━━━━━━━━━━━━━━━━━━━━━━━━━━━\u001b[0m \u001b[32m12.9/12.9 MB\u001b[0m \u001b[31m7.8 MB/s\u001b[0m eta \u001b[36m0:00:00\u001b[0m00:01\u001b[0m00:01\u001b[0m\n",
            "\u001b[?25hInstalling collected packages: pygame\n",
            "Successfully installed pygame-2.5.2\n",
            "Note: you may need to restart the kernel to use updated packages.\n"
          ]
        }
      ],
      "source": [
        "#!pip install pygame"
      ]
    },
    {
      "cell_type": "markdown",
      "metadata": {
        "id": "EAHcTslXeCc8"
      },
      "source": [
        "### Imports\n",
        "\n",
        "Next we are going to import the Python packages that we will be using:"
      ]
    },
    {
      "cell_type": "code",
      "execution_count": 6,
      "metadata": {},
      "outputs": [
        {
          "ename": "SyntaxError",
          "evalue": "invalid syntax (3845044535.py, line 1)",
          "output_type": "error",
          "traceback": [
            "\u001b[0;36m  Cell \u001b[0;32mIn[6], line 1\u001b[0;36m\u001b[0m\n\u001b[0;31m    tensorflow 2.13.0\u001b[0m\n\u001b[0m               ^\u001b[0m\n\u001b[0;31mSyntaxError\u001b[0m\u001b[0;31m:\u001b[0m invalid syntax\n"
          ]
        }
      ],
      "source": [
        "#tensorflow 2.13.0"
      ]
    },
    {
      "cell_type": "code",
      "execution_count": 7,
      "metadata": {},
      "outputs": [
        {
          "name": "stderr",
          "output_type": "stream",
          "text": [
            "2024-04-05 15:38:27.751694: I tensorflow/core/platform/cpu_feature_guard.cc:182] This TensorFlow binary is optimized to use available CPU instructions in performance-critical operations.\n",
            "To enable the following instructions: SSE4.1 SSE4.2 AVX AVX2 FMA, in other operations, rebuild TensorFlow with the appropriate compiler flags.\n"
          ]
        }
      ],
      "source": [
        "import tensorflow as tf\n",
        "from keras import __version__\n",
        "tf.keras.__version__ = __version__"
      ]
    },
    {
      "cell_type": "code",
      "execution_count": 8,
      "metadata": {
        "colab": {
          "base_uri": "https://localhost:8080/"
        },
        "id": "2kXoTXQaeCc8",
        "outputId": "069fc6ec-a797-4f95-a479-919f7ce90500"
      },
      "outputs": [],
      "source": [
        "import time\n",
        "import random\n",
        "import numpy as np\n",
        "import matplotlib.pyplot as plt\n",
        "from IPython.display import clear_output\n",
        "\n",
        "from keras.models import Sequential\n",
        "from keras.layers import Dense, Activation, Flatten, Embedding, Reshape\n",
        "\n",
        "from rl.agents.dqn import DQNAgent\n",
        "from rl.policy import EpsGreedyQPolicy\n",
        "from rl.memory import SequentialMemory\n",
        "\n",
        "import gym\n",
        "\n",
        "from taxi_env import TaxiPickupEnvSimplified, TaxiPickupEnvStandard, TaxiPickupEnvAdvanced\n",
        "\n",
        "plt.style.use(\"ggplot\")"
      ]
    },
    {
      "cell_type": "markdown",
      "metadata": {
        "id": "aNKXlc0GeCc8"
      },
      "source": [
        "# Part 1: Simplified environment (Q-learning)\n",
        "\n",
        "In this first part, we will consider a very simple environment where the goal is to drive the taxi to the target location indicated in the grid world by a red 'T'. The taxi is represented by a yellow rectangle. The 5x5 grid world has a few maze-like walls that prevent the taxi to take certain actions when in some positions (i.e. the action has no effect). The taxi has no intermediate rewards. Only one final big reward when it accomplishes the goal (reach the target and take action \"pickup\"). Note also that the taxi has no information about the environment besides its current position (row and column). It has no idea how the environment works and what leads to high rewards!\n",
        "\n",
        "Let's formalize the MDP for this problem:\n",
        "\n",
        "**Actions:** north, south, east, west, pickup\n",
        "\n",
        "**State:** position of the taxi (5x5=25 possible states)\n",
        "\n",
        "**Reward:** +20 if taxi at target location (\"T\") and action is \"pickup\", else -1 (penalty for time elapsed); trying to pickup in a location different than the target also leads to penalty of -10.\n",
        "\n",
        "Implementation details: we have implemented the environment as a class extension of the popular OpenAI Gym. The ``TaxiPickupEnvSimplified`` class therefore extends the ``discrete.Env`` of OpenAI Gym, and provides the following methods:\n",
        "\n",
        "- ``state = env.reset()`` - resets the environment to a random initial state and returns that state;\n",
        "\n",
        "- ``new_state, reward, done, info = env.step(action)`` - takes the ``action`` passed in the argument (integer) and returns the new state, the reward obtained, a boolean ``done`` indicating whether the episode has terminated, and some extra ``info`` (not relevant to this environment);\n",
        "\n",
        "- ``env.render()`` - visualizes the current state of the environment;\n",
        "\n",
        "- ``env.close()`` - terminates the environment.\n",
        "\n",
        "Suggestion: have a look at the ``taxi_env.py`` file to see how the environment dynamics in the ``step()`` function of the ``TaxiPickupEnvSimplified`` class are implemented.\n",
        "\n",
        "### Run Random Policy\n",
        "\n",
        "Let us start by exploring the environment and the functionality described above using a random policy (i.e. taking random actions in the environment). Analyze the code below and run it (note that you can stop execution at any time). Make sure that everything makes sense to you."
      ]
    },
    {
      "cell_type": "code",
      "execution_count": 13,
      "metadata": {
        "colab": {
          "base_uri": "https://localhost:8080/"
        },
        "id": "wgUrFZxseCc8",
        "outputId": "4cc186c7-6cca-4b37-96db-4d1b4b92b049"
      },
      "outputs": [
        {
          "name": "stdout",
          "output_type": "stream",
          "text": [
            "+---------+\n",
            "| : | : : |\n",
            "| : | :\u001b[43m \u001b[0m: |\n",
            "| : : : : |\n",
            "| | : | : |\n",
            "|\u001b[31mT\u001b[0m| : | : |\n",
            "+---------+\n",
            "T: 8; Total earnings: 0\n",
            "Action: South; Reward: -1\n"
          ]
        }
      ],
      "source": [
        "env = TaxiPickupEnvSimplified()\n",
        "env.reset()\n",
        "for _ in range(1000):\n",
        "    try:\n",
        "        env.render()\n",
        "        env.step(env.action_space.sample()) # take a random action\n",
        "        time.sleep(1)\n",
        "        clear_output(wait=True)\n",
        "    except KeyboardInterrupt:\n",
        "        break\n",
        "env.close()"
      ]
    },
    {
      "cell_type": "markdown",
      "metadata": {
        "id": "g7Warb2beCc9"
      },
      "source": [
        "We can check properties of the environment ``env`` such as the action space and the observation/state space using the code below. You can check other properties available by writting \"env.\" and then pressing TAB in a cell, although they are not necessary for this tutorial."
      ]
    },
    {
      "cell_type": "code",
      "execution_count": 15,
      "metadata": {
        "colab": {
          "base_uri": "https://localhost:8080/"
        },
        "id": "EJ-l_3aEeCc9",
        "outputId": "031bd0b7-af18-49f4-fbdd-e6b22df7e0c1"
      },
      "outputs": [
        {
          "name": "stdout",
          "output_type": "stream",
          "text": [
            "Action Space Discrete(5)\n",
            "State Space Discrete(25)\n"
          ]
        }
      ],
      "source": [
        "print(\"Action Space {}\".format(env.action_space))\n",
        "print(\"State Space {}\".format(env.observation_space))"
      ]
    },
    {
      "cell_type": "markdown",
      "metadata": {
        "id": "RY9dJmK5eCc-"
      },
      "source": [
        "### Tabular Q-learning\n",
        "\n",
        "You will now implement a Q-learning algorithm for learning an implicit policy that tries to optimize rewards in the environment described above. \n",
        "\n",
        "Since the states are discrete, we can represent the Q-function using a table with 25 rows (because there are 5x5 possible states) and 5 columns (because there are 5 possible actions). Each cell then contains the expected future rewards when the agent takes a certain action when in a given state. The Q-learning algorithm can then be summarized as follows:\n",
        "\n",
        "1. initialize Q-table $\\hat{Q}_\\phi$ (e.g. with zeros);\n",
        "2. set learning rate $\\alpha$, discount factor $\\gamma$ and initial exploration parameter $\\epsilon$;\n",
        "3. repeat until maximum number of episodes has been reached:\n",
        "    1. reset environment;\n",
        "    2. repeat until episode ends or maximum number of steps is reached:\n",
        "        1. choose action $a_i$ from $\\epsilon$-greedy policy: with probability $\\epsilon$ select a random action $a_i$, otherwise select $a_i = \\arg \\max_{a_i} \\hat{Q}_\\phi(s_i,a_i)$;\n",
        "        2. take action $a_i$ in the environment and observe new state $s'_i$ and reward $r(s_i,a_i)$;\n",
        "        3. compute target values $y_i \\leftarrow r(s_i,a_i) + \\gamma \\max_{a'_i} \\hat{Q}_\\phi(s'_i,a'_i)$;\n",
        "        4. update Q-table: $\\hat{Q}_\\phi(s_i,a_i) \\leftarrow (1-\\alpha) \\hat{Q}_\\phi(s_i,a_i) + \\alpha y_i $;\n",
        "    3. decay exploration parameter $\\epsilon$;\n",
        "    \n",
        "Note that the algorithm described above uses an $\\epsilon$-greedy exploration policy. In practice, one usually decays the value of $\\epsilon$ over time, until a minimum value of $\\epsilon$ is reached. Also, we will keep track of the rewards over time for later analysis and plotting.\n",
        "\n",
        "So, let us begin by making the necessary initializations:"
      ]
    },
    {
      "cell_type": "code",
      "execution_count": 16,
      "metadata": {
        "id": "680_Pfr1eCc-"
      },
      "outputs": [],
      "source": [
        "#Setting the hyperparameters\n",
        "              \n",
        "alpha = 0.6 #learning rate                 \n",
        "discount_factor = 0.98               \n",
        "epsilon = 1                  \n",
        "max_epsilon = 1\n",
        "min_epsilon = 0.01         \n",
        "decay = 0.001\n",
        "\n",
        "train_episodes = 5000   \n",
        "# test_episodes = 100          \n",
        "max_episode_len = 200\n",
        "\n",
        "#Initializing the Q-table\n",
        "Q = np.zeros((env.observation_space.n, env.action_space.n))\n",
        "#Creating lists to keep track of reward and epsilon values\n",
        "training_rewards = []  \n",
        "epsilons = []\n",
        "episode = 0"
      ]
    },
    {
      "cell_type": "markdown",
      "metadata": {
        "id": "OTktxRYheCc-"
      },
      "source": [
        "And now, it is time to implement the Q-learning algorithm as described above. Can you do it? (the skeleton of the code is already there)"
      ]
    },
    {
      "cell_type": "code",
      "execution_count": 17,
      "metadata": {
        "colab": {
          "base_uri": "https://localhost:8080/"
        },
        "id": "P-ode_pBeCc-",
        "outputId": "eecc7e48-0ddb-4313-df6b-9cbff4471fd5",
        "scrolled": false
      },
      "outputs": [
        {
          "name": "stdout",
          "output_type": "stream",
          "text": [
            "[Episode 200] Avg reward over last 10 episodes: -69.100\n",
            "alpha=0.600; eps=0.821\n",
            "[Episode 400] Avg reward over last 10 episodes: -20.900\n",
            "alpha=0.600; eps=0.674\n",
            "[Episode 600] Avg reward over last 10 episodes: -12.800\n",
            "alpha=0.600; eps=0.554\n",
            "[Episode 800] Avg reward over last 10 episodes: -4.300\n",
            "alpha=0.600; eps=0.455\n",
            "[Episode 1000] Avg reward over last 10 episodes: 1.100\n",
            "alpha=0.600; eps=0.375\n",
            "[Episode 1200] Avg reward over last 10 episodes: 14.300\n",
            "alpha=0.600; eps=0.308\n",
            "[Episode 1400] Avg reward over last 10 episodes: 10.800\n",
            "alpha=0.600; eps=0.254\n",
            "[Episode 1600] Avg reward over last 10 episodes: 4.600\n",
            "alpha=0.600; eps=0.210\n",
            "[Episode 1800] Avg reward over last 10 episodes: 11.700\n",
            "alpha=0.600; eps=0.174\n",
            "[Episode 2000] Avg reward over last 10 episodes: 14.300\n",
            "alpha=0.600; eps=0.144\n",
            "[Episode 2200] Avg reward over last 10 episodes: 10.600\n",
            "alpha=0.600; eps=0.120\n",
            "[Episode 2400] Avg reward over last 10 episodes: 10.900\n",
            "alpha=0.600; eps=0.100\n",
            "[Episode 2600] Avg reward over last 10 episodes: 15.200\n",
            "alpha=0.600; eps=0.084\n",
            "[Episode 2800] Avg reward over last 10 episodes: 13.200\n",
            "alpha=0.600; eps=0.070\n",
            "[Episode 3000] Avg reward over last 10 episodes: 14.700\n",
            "alpha=0.600; eps=0.059\n",
            "[Episode 3200] Avg reward over last 10 episodes: 15.900\n",
            "alpha=0.600; eps=0.050\n",
            "[Episode 3400] Avg reward over last 10 episodes: 14.200\n",
            "alpha=0.600; eps=0.043\n",
            "[Episode 3600] Avg reward over last 10 episodes: 15.100\n",
            "alpha=0.600; eps=0.037\n",
            "[Episode 3800] Avg reward over last 10 episodes: 14.500\n",
            "alpha=0.600; eps=0.032\n",
            "[Episode 4000] Avg reward over last 10 episodes: 15.000\n",
            "alpha=0.600; eps=0.028\n",
            "[Episode 4200] Avg reward over last 10 episodes: 14.200\n",
            "alpha=0.600; eps=0.025\n",
            "[Episode 4400] Avg reward over last 10 episodes: 15.000\n",
            "alpha=0.600; eps=0.022\n",
            "[Episode 4600] Avg reward over last 10 episodes: 15.900\n",
            "alpha=0.600; eps=0.020\n",
            "[Episode 4800] Avg reward over last 10 episodes: 14.800\n",
            "alpha=0.600; eps=0.018\n",
            "[Episode 5000] Avg reward over last 10 episodes: 14.600\n",
            "alpha=0.600; eps=0.017\n",
            "Training score over time: -2.1498\n"
          ]
        }
      ],
      "source": [
        "for _ in range(train_episodes):\n",
        "    episode += 1\n",
        "    if episode % 200 == 0 and episode != 0:\n",
        "        print(\"[Episode %d] Avg reward over last 10 episodes: %.3f\" % (episode, np.mean(training_rewards[-10:])))\n",
        "        print(\"alpha=%.3f; eps=%.3f\" % (alpha, epsilon))\n",
        "        \n",
        "    # Reseting the environment each time as per requirement\n",
        "    state = env.reset()    \n",
        "    \n",
        "    # Starting the tracker for the rewards\n",
        "    total_training_rewards = 0\n",
        "    for step in range(max_episode_len):\n",
        "        \n",
        "        # Choosing an action given the states based on a random number\n",
        "        exp_exp_tradeoff = random.uniform(0, 1) \n",
        "        \n",
        "        ### SECOND option for choosing the initial action - exploit     \n",
        "        # If the random number is larger than epsilon: employing exploitation \n",
        "        # and selecting best action \n",
        "        if exp_exp_tradeoff > epsilon:\n",
        "            action = np.argmax(Q[state,:]) \n",
        "        \n",
        "        ### FIRST option for choosing the initial action - explore       \n",
        "        # Otherwise, employing exploration: choosing a random action \n",
        "        else:\n",
        "            action = env.action_space.sample()\n",
        "        \n",
        "        ### performing the action and getting the reward     \n",
        "        # Taking the action and getting the reward and outcome state\n",
        "        new_state, reward, done, info = env.step(action)\n",
        "\n",
        "        ### update the Q-table\n",
        "        # Updating the Q-table using the Bellman equation\n",
        "        Q[state, action] = Q[state, action]+alpha*(reward+discount_factor*np.max(Q[new_state, :])-Q[state, action]) \n",
        "        \n",
        "        # Increasing our total reward and updating the state\n",
        "        total_training_rewards += reward      \n",
        "        state = new_state         \n",
        "        \n",
        "        # Ending the episode\n",
        "        if done == True:\n",
        "            break\n",
        "            \n",
        "    # Cutting down on exploration by reducing the epsilon \n",
        "    epsilon = min_epsilon+(max_epsilon-min_epsilon)*np.exp(-decay*episode)\n",
        "    \n",
        "    # Adding the total reward and reduced epsilon values\n",
        "    training_rewards.append(total_training_rewards)\n",
        "    epsilons.append(epsilon)\n",
        "    \n",
        "print (\"Training score over time: \" + str(sum(training_rewards)/train_episodes))"
      ]
    },
    {
      "cell_type": "markdown",
      "metadata": {
        "id": "cnnJAR5TeCc_"
      },
      "source": [
        "Did the rewards improve?\n",
        "\n",
        "Let's plot the evolutions of episodic rewards over time:"
      ]
    },
    {
      "cell_type": "code",
      "execution_count": 18,
      "metadata": {
        "colab": {
          "base_uri": "https://localhost:8080/",
          "height": 265
        },
        "id": "5hEF33TheCc_",
        "outputId": "37d337b7-af99-4a1d-f56a-6b1dcff027ef"
      },
      "outputs": [
        {
          "data": {
            "image/png": "[encoded data removed]",
            "text/plain": [
              "<Figure size 640x480 with 1 Axes>"
            ]
          },
          "metadata": {},
          "output_type": "display_data"
        }
      ],
      "source": [
        "plt.plot(training_rewards);"
      ]
    },
    {
      "cell_type": "markdown",
      "metadata": {
        "id": "b2DqaP8yeCc_"
      },
      "source": [
        "And also the values of $\\epsilon$ (useful for debugging purposes and tweaking the decay rate):"
      ]
    },
    {
      "cell_type": "code",
      "execution_count": 19,
      "metadata": {
        "colab": {
          "base_uri": "https://localhost:8080/",
          "height": 265
        },
        "id": "U-6fZpPVeCc_",
        "outputId": "d4b89f47-0007-4c8f-d66f-13f6f4bf9a0c"
      },
      "outputs": [
        {
          "data": {
            "image/png": "[encoded data removed]",
            "text/plain": [
              "<Figure size 640x480 with 1 Axes>"
            ]
          },
          "metadata": {},
          "output_type": "display_data"
        }
      ],
      "source": [
        "plt.plot(epsilons);"
      ]
    },
    {
      "cell_type": "markdown",
      "metadata": {
        "id": "IWx62Y-HeCc_"
      },
      "source": [
        "We can now visualize the (implicit) policy learned in the Q-table to see if it corresponds to good behaviour in practice:"
      ]
    },
    {
      "cell_type": "code",
      "execution_count": 29,
      "metadata": {
        "colab": {
          "base_uri": "https://localhost:8080/"
        },
        "id": "ROGzRrkneCdA",
        "outputId": "bb98d7ba-fb3c-4313-805f-5b72acd8a222"
      },
      "outputs": [
        {
          "name": "stdout",
          "output_type": "stream",
          "text": [
            "+---------+\n",
            "| : | : : |\n",
            "| : | : : |\n",
            "| : : : : |\n",
            "| | : | : |\n",
            "|\u001b[43m\u001b[31mT\u001b[0m\u001b[0m| : | : |\n",
            "+---------+\n",
            "T: 4; Total earnings: 20\n",
            "Action: Pickup; Reward: 20\n"
          ]
        }
      ],
      "source": [
        "env = TaxiPickupEnvSimplified()\n",
        "state = env.reset()\n",
        "for _ in range(1000):\n",
        "    try:\n",
        "        env.render()\n",
        "        action = np.argmax(Q[state,:])\n",
        "        state, reward, done, info = env.step(action)\n",
        "        time.sleep(1)\n",
        "        clear_output(wait=True)\n",
        "        if done == True:\n",
        "            env.render()\n",
        "            break\n",
        "    except KeyboardInterrupt:\n",
        "        break\n",
        "env.close()"
      ]
    },
    {
      "cell_type": "markdown",
      "metadata": {
        "id": "sSCs_OM4eCdA"
      },
      "source": [
        "How good is the policy learned? Does it do what you expected it to do?\n",
        "\n",
        "We can further inspect the Q-values for different actions for when the taxi is in a certain position:"
      ]
    },
    {
      "cell_type": "code",
      "execution_count": 24,
      "metadata": {
        "colab": {
          "base_uri": "https://localhost:8080/"
        },
        "id": "O7K-r0sPeCdA",
        "outputId": "646024ae-f017-484d-f8ec-3638ddf4cf99"
      },
      "outputs": [
        {
          "name": "stdout",
          "output_type": "stream",
          "text": [
            "Q-values for different actions a when taxi in location (1, 2)\n",
            "Action a=South\t Q[s,a]=899.1\n",
            "Action a=North\t Q[s,a]=861.5\n",
            "Action a=East\t Q[s,a]=861.5\n",
            "Action a=West\t Q[s,a]=880.1\n",
            "Action a=Pickup\t Q[s,a]=871.1\n"
          ]
        }
      ],
      "source": [
        "taxi_loc = (1,2)\n",
        "print(\"Q-values for different actions a when taxi in location\", taxi_loc)\n",
        "for a in range(env.nA):\n",
        "    print(\"Action a=%s\\t Q[s,a]=%.1f\" % (env.action_names[a], Q[env.encode(taxi_loc),a]))"
      ]
    },
    {
      "cell_type": "markdown",
      "metadata": {
        "id": "CEl48u7keCdA"
      },
      "source": [
        "If all went well, the maximum Q-value should correspond to the action that takes the taxi towards the target the most from that position.\n",
        "\n",
        "Lastly, we can derive the value function (value table, in this case) that correspond to that Q-table. Remember, the value function tells us the value of being in a certain state (i.e. expected future rewards averaged over all possible actions according to the current policy $\\pi$):\n",
        "\n",
        "\\begin{align}\n",
        "V^\\pi(s) = \\mathbb{E}_{a \\sim \\pi(a|s)}[ Q^\\pi(s,a) ]  \\nonumber\n",
        "\\end{align}\n",
        "\n",
        "Since in Q-learning, the agent always chooses the action that maximizes $Q^\\pi(s_t,a_t)$ (well, unless during training where it uses $\\epsilon$-greedy to explore), the value function is simply given by:\n",
        "\n",
        "\\begin{align}\n",
        "V^\\pi(s) = \\max_a  Q^\\pi(s,a)   \\nonumber\n",
        "\\end{align}\n",
        "\n",
        "Let's compute the value table and visualize it by color-coding it according to its values:"
      ]
    },
    {
      "cell_type": "code",
      "execution_count": 25,
      "metadata": {
        "colab": {
          "base_uri": "https://localhost:8080/",
          "height": 282
        },
        "id": "cVGFeUrIeCdA",
        "outputId": "4dfaa1a7-9107-4004-86db-08b54fd5be12"
      },
      "outputs": [
        {
          "data": {
            "image/png": "[encoded data removed]",
            "text/plain": [
              "<Figure size 640x480 with 1 Axes>"
            ]
          },
          "metadata": {},
          "output_type": "display_data"
        }
      ],
      "source": [
        "V = np.zeros((env.num_rows, env.num_columns))\n",
        "for s in range(env.nS):\n",
        "    taxi_row, taxi_col = env.decode(s)\n",
        "    V[taxi_row, taxi_col] = max([Q[s,a] for a in range(env.nA)]) # max Q-value for all possible actions\n",
        "\n",
        "plt.imshow(V)\n",
        "plt.title(\"Value function V(s)\")\n",
        "plt.grid(False)\n",
        "plt.show()"
      ]
    },
    {
      "cell_type": "markdown",
      "metadata": {
        "id": "Mn6o0VdSeCdB"
      },
      "source": [
        "Does the result make sense to you? The closer the taxi is to the objective, the higher the value of that state should be."
      ]
    },
    {
      "cell_type": "markdown",
      "metadata": {
        "id": "6jVQVsVveCdB"
      },
      "source": [
        "# Part 2: Standard environment (Q-learning)\n",
        "\n",
        "In this part, we will consider a more interesting version of the taxi pickup problem. There will now be 3 possible pickups locations (represented in Red, Green and Blue) where customers arrive with different rates. The number of customers currently waiting at a given pickups location is shown as a red, green and blue counters in the map. The goal is for the taxi to pickup customers and maximize reward. To simplify the environment implementation, when a customer is picked up, the taxi teleports to the destination and continues from there. \n",
        "\n",
        "With these changes, we now have a more complex environment and therefore we need a more complex representation to encode its state. There are still 5x5=25 possible locations for the taxi to be, but now, there can also be $2^3=8$ types of situations: \n",
        "\n",
        "- no customers waiting in any location\n",
        "\n",
        "- customers waiting in red location, and no customers waiting elsewhere\n",
        "\n",
        "- customers waiting in green location, and no customers waiting elsewhere \n",
        "\n",
        "- customers waiting in blue location, and no customers waiting elsewhere \n",
        "\n",
        "- customers waiting in red and green locations, and no customers waiting in blue location\n",
        "\n",
        "- customers waiting in red and blue locations, and no customers waiting in green location\n",
        "\n",
        "- customers waiting in green and blue locations, and no customers waiting in red location\n",
        "\n",
        "- customers waiting in all 3 locations\n",
        "\n",
        "Note that we do not differentiate between having 1 or 2 or N customers waiting at a location to simplify things.\n",
        "\n",
        "Therefore, the state representation of the environment now has $5\\times5\\times2^3 = 200$ dimensions, and we need to estimate Q-values for all possible actions $a \\in \\mathcal{A}$ for all those 200 possible states! That is starting to look like a challanging task, right? And this is still a tiny 5x5 grid world... (more on scalability later :-)\n",
        "\n",
        "In summary, the new MDP for this problem can be formalized as:\n",
        "\n",
        "**Actions:** north, south, east, west, pickup\n",
        "\n",
        "**State:** position of the taxi and status of requests at 3 different locations: $5\\times5\\times2^3 = 200$ dimensions\n",
        "\n",
        "**Reward:** +20 if taxi at a pickup location where there are requests and action is \"pickup\", else -1 (penalty for time elapsed); trying to pickup in a location different than the target also leads to penalty of -10.\n",
        "\n",
        "### Run Random Policy\n",
        "\n",
        "We start again by trying out the environmenet using a random policy (note that you can stop execution at any time):"
      ]
    },
    {
      "cell_type": "code",
      "execution_count": 30,
      "metadata": {
        "colab": {
          "base_uri": "https://localhost:8080/"
        },
        "id": "74QU7jTKeCdB",
        "outputId": "7fa637ea-f45c-4b01-d684-567153393f93"
      },
      "outputs": [
        {
          "name": "stdout",
          "output_type": "stream",
          "text": [
            "+---------+\n",
            "| :\u001b[31m0\u001b[0m| : : |\n",
            "| : | : : |\n",
            "| : : : :\u001b[43m \u001b[0m|\n",
            "| | : | : |\n",
            "|\u001b[32m1\u001b[0m| : |\u001b[34m1\u001b[0m: |\n",
            "+---------+\n",
            "T: 15; Total earnings: 0\n",
            "Action: East; Reward: -1\n"
          ]
        }
      ],
      "source": [
        "env = TaxiPickupEnvStandard()\n",
        "env.reset()\n",
        "for _ in range(1000):\n",
        "    try:\n",
        "        env.render()\n",
        "        env.step(env.action_space.sample()) # take a random action\n",
        "        time.sleep(1)\n",
        "        clear_output(wait=True)\n",
        "    except KeyboardInterrupt:\n",
        "        break\n",
        "env.close()"
      ]
    },
    {
      "cell_type": "code",
      "execution_count": 31,
      "metadata": {
        "colab": {
          "base_uri": "https://localhost:8080/"
        },
        "id": "5mm_xLH2eCdB",
        "outputId": "e57c1dae-3a61-4ce2-b835-506011156f88"
      },
      "outputs": [
        {
          "name": "stdout",
          "output_type": "stream",
          "text": [
            "Action Space Discrete(5)\n",
            "State Space Discrete(200)\n"
          ]
        }
      ],
      "source": [
        "print(\"Action Space {}\".format(env.action_space))\n",
        "print(\"State Space {}\".format(env.observation_space))"
      ]
    },
    {
      "cell_type": "markdown",
      "metadata": {
        "id": "fu0KRY3feCdC"
      },
      "source": [
        "### Tabular Q-learning\n",
        "\n",
        "We will now apply the same Q-learning algorithm that you've implemented above for the simplified environment. Can you take care of the missing code blocks?"
      ]
    },
    {
      "cell_type": "code",
      "execution_count": 32,
      "metadata": {
        "id": "_-aC0JIkeCdC"
      },
      "outputs": [],
      "source": [
        "#Setting the hyperparameters\n",
        "              \n",
        "alpha = 0.6 #learning rate                 \n",
        "discount_factor = 0.98               \n",
        "epsilon = 1                  \n",
        "max_epsilon = 1\n",
        "min_epsilon = 0.01         \n",
        "decay = 0.001\n",
        "\n",
        "train_episodes = 10000           \n",
        "max_episode_len = 200\n",
        "\n",
        "#Initializing the Q-table\n",
        "Q = np.zeros((env.observation_space.n, env.action_space.n))\n",
        "\n",
        "#Creating lists to keep track of reward and epsilon values\n",
        "training_rewards = []  \n",
        "epsilons = []\n",
        "episode = 0"
      ]
    },
    {
      "cell_type": "code",
      "execution_count": 33,
      "metadata": {
        "colab": {
          "base_uri": "https://localhost:8080/"
        },
        "id": "gDUZOTE_eCdC",
        "outputId": "60c847dd-dd23-4114-92c1-21f15e8085d9",
        "scrolled": false
      },
      "outputs": [
        {
          "name": "stdout",
          "output_type": "stream",
          "text": [
            "[Episode 200] Avg reward over last 10 episodes: -346.100\n",
            "alpha=0.600; eps=0.821\n",
            "[Episode 400] Avg reward over last 10 episodes: -172.100\n",
            "alpha=0.600; eps=0.674\n",
            "[Episode 600] Avg reward over last 10 episodes: -35.900\n",
            "alpha=0.600; eps=0.554\n",
            "[Episode 800] Avg reward over last 10 episodes: 46.600\n",
            "alpha=0.600; eps=0.455\n",
            "[Episode 1000] Avg reward over last 10 episodes: 137.200\n",
            "alpha=0.600; eps=0.375\n",
            "[Episode 1200] Avg reward over last 10 episodes: 171.700\n",
            "alpha=0.600; eps=0.308\n",
            "[Episode 1400] Avg reward over last 10 episodes: 180.700\n",
            "alpha=0.600; eps=0.254\n",
            "[Episode 1600] Avg reward over last 10 episodes: 265.600\n",
            "alpha=0.600; eps=0.210\n",
            "[Episode 1800] Avg reward over last 10 episodes: 260.800\n",
            "alpha=0.600; eps=0.174\n",
            "[Episode 2000] Avg reward over last 10 episodes: 298.000\n",
            "alpha=0.600; eps=0.144\n",
            "[Episode 2200] Avg reward over last 10 episodes: 271.300\n",
            "alpha=0.600; eps=0.120\n",
            "[Episode 2400] Avg reward over last 10 episodes: 295.900\n",
            "alpha=0.600; eps=0.100\n",
            "[Episode 2600] Avg reward over last 10 episodes: 317.800\n",
            "alpha=0.600; eps=0.084\n",
            "[Episode 2800] Avg reward over last 10 episodes: 196.000\n",
            "alpha=0.600; eps=0.070\n",
            "[Episode 3000] Avg reward over last 10 episodes: 358.900\n",
            "alpha=0.600; eps=0.059\n",
            "[Episode 3200] Avg reward over last 10 episodes: 418.600\n",
            "alpha=0.600; eps=0.050\n",
            "[Episode 3400] Avg reward over last 10 episodes: 280.900\n",
            "alpha=0.600; eps=0.043\n",
            "[Episode 3600] Avg reward over last 10 episodes: 328.600\n",
            "alpha=0.600; eps=0.037\n",
            "[Episode 3800] Avg reward over last 10 episodes: 374.800\n",
            "alpha=0.600; eps=0.032\n",
            "[Episode 4000] Avg reward over last 10 episodes: 367.300\n",
            "alpha=0.600; eps=0.028\n",
            "[Episode 4200] Avg reward over last 10 episodes: 386.800\n",
            "alpha=0.600; eps=0.025\n",
            "[Episode 4400] Avg reward over last 10 episodes: 214.300\n",
            "alpha=0.600; eps=0.022\n",
            "[Episode 4600] Avg reward over last 10 episodes: 400.000\n",
            "alpha=0.600; eps=0.020\n",
            "[Episode 4800] Avg reward over last 10 episodes: 337.000\n",
            "alpha=0.600; eps=0.018\n",
            "[Episode 5000] Avg reward over last 10 episodes: 379.000\n",
            "alpha=0.600; eps=0.017\n",
            "[Episode 5200] Avg reward over last 10 episodes: 374.800\n",
            "alpha=0.600; eps=0.015\n",
            "[Episode 5400] Avg reward over last 10 episodes: 333.400\n",
            "alpha=0.600; eps=0.014\n",
            "[Episode 5600] Avg reward over last 10 episodes: 310.300\n",
            "alpha=0.600; eps=0.014\n",
            "[Episode 5800] Avg reward over last 10 episodes: 379.300\n",
            "alpha=0.600; eps=0.013\n",
            "[Episode 6000] Avg reward over last 10 episodes: 451.300\n",
            "alpha=0.600; eps=0.012\n",
            "[Episode 6200] Avg reward over last 10 episodes: 373.300\n",
            "alpha=0.600; eps=0.012\n",
            "[Episode 6400] Avg reward over last 10 episodes: 352.300\n",
            "alpha=0.600; eps=0.012\n",
            "[Episode 6600] Avg reward over last 10 episodes: 362.200\n",
            "alpha=0.600; eps=0.011\n",
            "[Episode 6800] Avg reward over last 10 episodes: 410.200\n",
            "alpha=0.600; eps=0.011\n",
            "[Episode 7000] Avg reward over last 10 episodes: 369.700\n",
            "alpha=0.600; eps=0.011\n",
            "[Episode 7200] Avg reward over last 10 episodes: 363.700\n",
            "alpha=0.600; eps=0.011\n",
            "[Episode 7400] Avg reward over last 10 episodes: 412.300\n",
            "alpha=0.600; eps=0.011\n",
            "[Episode 7600] Avg reward over last 10 episodes: 283.900\n",
            "alpha=0.600; eps=0.010\n",
            "[Episode 7800] Avg reward over last 10 episodes: 384.400\n",
            "alpha=0.600; eps=0.010\n",
            "[Episode 8000] Avg reward over last 10 episodes: 364.600\n",
            "alpha=0.600; eps=0.010\n",
            "[Episode 8200] Avg reward over last 10 episodes: 411.700\n",
            "alpha=0.600; eps=0.010\n",
            "[Episode 8400] Avg reward over last 10 episodes: 367.900\n",
            "alpha=0.600; eps=0.010\n",
            "[Episode 8600] Avg reward over last 10 episodes: 374.800\n",
            "alpha=0.600; eps=0.010\n",
            "[Episode 8800] Avg reward over last 10 episodes: 382.900\n",
            "alpha=0.600; eps=0.010\n",
            "[Episode 9000] Avg reward over last 10 episodes: 334.300\n",
            "alpha=0.600; eps=0.010\n",
            "[Episode 9200] Avg reward over last 10 episodes: 412.000\n",
            "alpha=0.600; eps=0.010\n",
            "[Episode 9400] Avg reward over last 10 episodes: 412.600\n",
            "alpha=0.600; eps=0.010\n",
            "[Episode 9600] Avg reward over last 10 episodes: 344.800\n",
            "alpha=0.600; eps=0.010\n",
            "[Episode 9800] Avg reward over last 10 episodes: 406.900\n",
            "alpha=0.600; eps=0.010\n",
            "[Episode 10000] Avg reward over last 10 episodes: 370.300\n",
            "alpha=0.600; eps=0.010\n",
            "Training score over time: 293.2507\n"
          ]
        }
      ],
      "source": [
        "for _ in range(train_episodes):\n",
        "    episode += 1\n",
        "    if episode % 200 == 0 and episode != 0:\n",
        "        print(\"[Episode %d] Avg reward over last 10 episodes: %.3f\" % (episode, np.mean(training_rewards[-10:])))\n",
        "        print(\"alpha=%.3f; eps=%.3f\" % (alpha, epsilon))\n",
        "        \n",
        "    # Reseting the environment each time as per requirement\n",
        "    state = env.reset()    \n",
        "    \n",
        "    # Starting the tracker for the rewards\n",
        "    total_training_rewards = 0\n",
        "    for step in range(max_episode_len):\n",
        "        \n",
        "        # Choosing an action given the states based on a random number\n",
        "        exp_exp_tradeoff = random.uniform(0, 1) \n",
        "        \n",
        "        ### SECOND option for choosing the initial action - exploit     \n",
        "        # If the random number is larger than epsilon: employing exploitation \n",
        "        # and selecting best action \n",
        "        if exp_exp_tradeoff > epsilon:\n",
        "            action = np.argmax(Q[state,:]) \n",
        "        \n",
        "        ### FIRST option for choosing the initial action - explore       \n",
        "        # Otherwise, employing exploration: choosing a random action \n",
        "        else:\n",
        "            action = env.action_space.sample()\n",
        "        \n",
        "        ### performing the action and getting the reward     \n",
        "        # Taking the action and getting the reward and outcome state\n",
        "        new_state, reward, done, info = env.step(action)\n",
        "\n",
        "        ### update the Q-table\n",
        "        # Updating the Q-table using the Bellman equation\n",
        "        Q[state, action] = Q[state, action]+alpha*(reward+discount_factor*np.max(Q[new_state, :])-Q[state, action]) \n",
        "        \n",
        "        # Increasing our total reward and updating the state\n",
        "        total_training_rewards += reward      \n",
        "        state = new_state         \n",
        "        \n",
        "        # Ending the episode\n",
        "        if done == True:\n",
        "            break\n",
        "            \n",
        "    # Cutting down on exploration by reducing the epsilon \n",
        "    epsilon = min_epsilon+(max_epsilon-min_epsilon)*np.exp(-decay*episode)\n",
        "    \n",
        "    # Adding the total reward and reduced epsilon values\n",
        "    training_rewards.append(total_training_rewards)\n",
        "    epsilons.append(epsilon)\n",
        "    \n",
        "print (\"Training score over time: \" + str(sum(training_rewards)/train_episodes))"
      ]
    },
    {
      "cell_type": "markdown",
      "metadata": {
        "id": "L5y74T-3eCdC"
      },
      "source": [
        "How do the results? Let's have a look at the rewards over time:"
      ]
    },
    {
      "cell_type": "code",
      "execution_count": 34,
      "metadata": {
        "colab": {
          "base_uri": "https://localhost:8080/",
          "height": 265
        },
        "id": "MEV6z6F3eCdD",
        "outputId": "d9752862-683c-4edd-88dd-23d83ee02cb4"
      },
      "outputs": [
        {
          "data": {
            "image/png": "[encoded data removed]",
            "text/plain": [
              "<Figure size 640x480 with 1 Axes>"
            ]
          },
          "metadata": {},
          "output_type": "display_data"
        }
      ],
      "source": [
        "plt.plot(training_rewards);"
      ]
    },
    {
      "cell_type": "markdown",
      "metadata": {
        "id": "9iNPmXDieCdD"
      },
      "source": [
        "And also the values of $\\epsilon$ (useful for debugging purposes and tweaking the decay rate):"
      ]
    },
    {
      "cell_type": "code",
      "execution_count": 35,
      "metadata": {
        "colab": {
          "base_uri": "https://localhost:8080/",
          "height": 265
        },
        "id": "hg7rEf79eCdD",
        "outputId": "d4cfe4d7-0414-472f-d9e3-cb74aab96ad9"
      },
      "outputs": [
        {
          "data": {
            "image/png": "[encoded data removed]",
            "text/plain": [
              "<Figure size 640x480 with 1 Axes>"
            ]
          },
          "metadata": {},
          "output_type": "display_data"
        }
      ],
      "source": [
        "plt.plot(epsilons);"
      ]
    },
    {
      "cell_type": "markdown",
      "metadata": {
        "id": "Mq4uiTckeCdD"
      },
      "source": [
        "Let's visualize the behaviour of the learned policy in practice:"
      ]
    },
    {
      "cell_type": "code",
      "execution_count": 36,
      "metadata": {
        "colab": {
          "base_uri": "https://localhost:8080/"
        },
        "id": "AR96gnX1eCdD",
        "outputId": "7842ee3a-9dcc-4c49-fc35-4f5f4da10d44"
      },
      "outputs": [
        {
          "name": "stdout",
          "output_type": "stream",
          "text": [
            "+---------+\n",
            "| :\u001b[31m0\u001b[0m| : : |\n",
            "| : | : : |\n",
            "| : : : : |\n",
            "| | : |\u001b[43m \u001b[0m: |\n",
            "|\u001b[32m1\u001b[0m| : |\u001b[34m1\u001b[0m: |\n",
            "+---------+\n",
            "T: 50; Total earnings: 60\n",
            "Action: South; Reward: -1\n"
          ]
        }
      ],
      "source": [
        "env = TaxiPickupEnvStandard()\n",
        "state = env.reset()\n",
        "for _ in range(1000):\n",
        "    try:\n",
        "        env.render()\n",
        "        action = np.argmax(Q[state,:])\n",
        "        state, reward, done, info = env.step(action)\n",
        "        time.sleep(1)\n",
        "        clear_output(wait=True)\n",
        "        if done == True:\n",
        "            env.render()\n",
        "            break\n",
        "    except KeyboardInterrupt:\n",
        "        break\n",
        "env.close()"
      ]
    },
    {
      "cell_type": "markdown",
      "metadata": {
        "id": "Z5kz9n2neCdD"
      },
      "source": [
        "Hopefully you managed to learn a policy that maybe does not perform perfectly, but does a pretty good job at maximizing rewards. \n",
        "\n",
        "Now try editing the ``TaxiPickupEnvStandard`` class in the file ``taxi_env.py`` and change either the request rate of one of the locations to be (much) higher than the others (i.e. simulating that one location is more popular than the others), or change the earnings of one of the locations such that pickups in that location lead to (much) higher rewards (e.g. simulating a \"fancy\" part of town where customers give very generous tips). Re-run the Q-learning algorithm and notice how the learned policy changes and how new behaviours emerge :-)\n",
        "\n",
        "Hint: Look for the following lines in the ``taxi_env.py`` file:\n",
        "\n",
        "``self.req_rates = req_rates = [5e-2, 5e-2, 5e-2]``\n",
        "\n",
        "``if pickup_loc == 0: \n",
        "    reward = 20 \n",
        "elif pickup_loc == 1:\n",
        "    reward = 20 \n",
        "elif pickup_loc == 2:\n",
        "    reward = 20 ``\n",
        "\n",
        "**Important: You will have to reload the TaxiPickupEnvStandard class in order for changes in taxi_env.py to take effect. Use the following code to reload. If that doesn't work, then restart the Python kernel from the Jupyter menus on the top.**\n",
        "\n",
        "``import importlib\n",
        "importlib.reload(taxi_env)``"
      ]
    },
    {
      "cell_type": "markdown",
      "metadata": {
        "id": "W-lSPB0deCdE"
      },
      "source": [
        "# Part 3: Advanced environment (Deep Q-learning)\n",
        "\n",
        "In this part, we will consider a more complex environment where pickup requests can appear anywhere on our 5x5 grid world. When there are requests in a map cell, we will represent that with a red counter showing the number of requests in that cell.\n",
        "\n",
        "### Run Random Policy\n",
        "\n",
        "As we have been doing before, let's start by having a look at how that environment looks like using a random policy:"
      ]
    },
    {
      "cell_type": "code",
      "execution_count": 28,
      "metadata": {
        "colab": {
          "base_uri": "https://localhost:8080/"
        },
        "id": "urE1YkrKeCdE",
        "outputId": "e1c8c849-4151-4f9b-ba6d-adb23b177766"
      },
      "outputs": [
        {
          "name": "stdout",
          "output_type": "stream",
          "text": [
            "+---------+\n",
            "| : | : : |\n",
            "| :\u001b[43m \u001b[0m| : : |\n",
            "| : : : : |\n",
            "| | : | : |\n",
            "| | : | : |\n",
            "+---------+\n",
            "T: 5; Total earnings: 0\n",
            "Action: South; Reward: -1\n"
          ]
        }
      ],
      "source": [
        "env = TaxiPickupEnvAdvanced()\n",
        "env.reset()\n",
        "for _ in range(100):\n",
        "    try:\n",
        "        env.render()\n",
        "        state = env.step(env.action_space.sample()) # take a random action\n",
        "        time.sleep(1)\n",
        "        clear_output(wait=True)\n",
        "    except KeyboardInterrupt:\n",
        "        break\n",
        "env.close()"
      ]
    },
    {
      "cell_type": "code",
      "execution_count": 29,
      "metadata": {
        "colab": {
          "base_uri": "https://localhost:8080/"
        },
        "id": "SrRDXH-9eCdE",
        "outputId": "d65df3a0-c389-4ac3-923a-2ca29deae525"
      },
      "outputs": [
        {
          "name": "stdout",
          "output_type": "stream",
          "text": [
            "Action Space Discrete(5)\n"
          ]
        }
      ],
      "source": [
        "print(\"Action Space {}\".format(env.action_space))"
      ]
    },
    {
      "cell_type": "markdown",
      "metadata": {
        "id": "28pRhF1ZeCdE"
      },
      "source": [
        "### Deep Q-learning (DQN)\n",
        "\n",
        "As you probably realized already, when we start considering more interesting and more realistic problems, the dimensionality of the state space can quickly become unmanegeable for standard tabular Q-learning approaches. In the environment from Part 2, with just 3 possible pickup locations, the number of possible (discrete) states was already $5\\times5\\times2^3 = 200$. This is not a problem just because of memory requirements, but the learning task of fitting Q-table becomes much more complex (observations becomes sparser - curse of dimensionality)! Not only that, but what happens when the states are continuous rather than discrete? We definitely need a way of tackling these problems...\n",
        "\n",
        "This is where function approximation comes in! In this tutorial, we will use neural networks as function approximators. This is also by far the most popular approach in the recent RL literature. To makes things easier, we will rely on 2 Python packages - keras and keras-rl - that abstract away many of the complexities involved in creating a neural network and using it for deep Q-learning.\n",
        "\n",
        "**Optional: Implementing neural networks in Keras** (if you want, you may skip this part and treat the neural network as black-box function approximator)\n",
        "\n",
        "Bulding a multi-layer neural network in Keras is fairly easy. We start by creating an object of the class \"Sequential\" (indicating that the neural network consists of sequence of layers):\n",
        "\n",
        "```python\n",
        "model = Sequential()\n",
        "```\n",
        "\n",
        "Now we can add layers to our neural network model. For examply, we can add a fully connected (dense) layer with 50 neurons and using a ReLU (rectified linear unit) activation function as follows:\n",
        "\n",
        "```python\n",
        "model.add(Dense(50, input_dim=30, activation='relu'))\n",
        "```\n",
        "\n",
        "A similar approach can be used for other types of layers such as Convolutional Layers. The following line adds a Convolutional layer with 20 filters of 3x3 convolutions:\n",
        "\n",
        "```python\n",
        "model.add(Conv2D(20, kernel_size=(3, 3), activation=\"relu\"))\n",
        "```\n",
        "We can now keep adding more hidden layers, or add the final Dense layer. Note that since this is a regression problem (i.e. we want the neural network to output Q-value for the different possible actions given the state passed as input to it), the last layer (output layer) of network must necessarily have as many neurons/outputs as there are actions in our RL problem and it must use a linear activation:\n",
        "\n",
        "```python\n",
        "model.add(Dense(env.nA, activation='linear'))\n",
        "```\n",
        "\n",
        "**MDP formulation**:\n",
        "\n",
        "Armed with the power of neural networks for function approximation, we can build a more complex representation of the environment state. In this case, we will represent the state using 4 5x5 matrices containing:\n",
        "\n",
        "- Matrix 1: position of the taxi, one-hot encoded (i.e. with \"1\" in the place where the taxi is located, and zeros else where). For example:\n",
        "\n",
        "``[[0,0,0,0,0],\n",
        " [0,0,0,0,0],\n",
        " [0,0,0,0,0],\n",
        " [0,0,0,1,0],\n",
        " [0,0,0,0,0]]``\n",
        "\n",
        "- Matrix 2: number of pickup requests in each cell. For example:\n",
        "\n",
        "``[[0,0,0,0,0],\n",
        " [0,0,0,1,0],\n",
        " [0,0,0,0,0],\n",
        " [2,0,0,0,4],\n",
        " [0,0,1,0,0]]``\n",
        " \n",
        "- Matrix 3: information about the presence of walls to the east. In this case:\n",
        "\n",
        "``[[0,1,0,0,0],\n",
        " [0,1,0,0,0],\n",
        " [0,0,0,0,0],\n",
        " [1,0,1,0,0],\n",
        " [1,0,1,0,0]]``\n",
        " \n",
        "- Matrix 4: information about the presence of walls to the west. In this case:\n",
        "\n",
        "``[[0,0,1,0,0],\n",
        " [0,0,1,0,0],\n",
        " [0,0,0,0,0],\n",
        " [0,1,0,1,0],\n",
        " [0,1,0,1,0]]``\n",
        " \n",
        "We can stack these 4 matrices together to create a 5x5x4 tensor that represents the state of the environment, and feed it to the neural network as input. The idea is for the neural network to learn to approximate the Q-values (i.e. expected future rewards) for the different possible actions given the state that was passed as input.\n",
        "\n",
        "Aside: we are not arguing that this is necessarily the best state representation for this problem. In fact, coming up with good state representation is a key challenge in deep RL and it can determine how fast your agent learns and how the policies that it learns can be. This state representation seems to perform acceptably well for this problem, so we will proceed with it.\n",
        "\n",
        "In summary, the new MDP for this revised version of the problem can be formalized as:\n",
        "\n",
        "**Actions:** north, south, east, west, pickup\n",
        "\n",
        "**State:** 5x5x4 tensor representing the position of the taxi, the number of requests in each cell and the locations of the \"walls\"\n",
        "\n",
        "**Reward:** +20 if taxi at a pickup location where there are requests and action is \"pickup\", else -1 (penalty for time elapsed); trying to pickup in a location different than the target also leads to penalty of -10.\n",
        "\n",
        "The code below creates a neural network in Keras that performs well in this environment:"
      ]
    },
    {
      "cell_type": "code",
      "execution_count": 30,
      "metadata": {
        "colab": {
          "base_uri": "https://localhost:8080/"
        },
        "id": "CWvajOxzeCdF",
        "outputId": "3b891c14-ccd7-44c9-989c-60aaa25d29b5"
      },
      "outputs": [
        {
          "name": "stdout",
          "output_type": "stream",
          "text": [
            "Model: \"sequential\"\n",
            "_________________________________________________________________\n",
            " Layer (type)                Output Shape              Param #   \n",
            "=================================================================\n",
            " reshape (Reshape)           (None, 5, 5, 4)           0         \n",
            "                                                                 \n",
            " conv2d (Conv2D)             (None, 3, 3, 20)          740       \n",
            "                                                                 \n",
            " flatten (Flatten)           (None, 180)               0         \n",
            "                                                                 \n",
            " dense (Dense)               (None, 5)                 905       \n",
            "                                                                 \n",
            "=================================================================\n",
            "Total params: 1645 (6.43 KB)\n",
            "Trainable params: 1645 (6.43 KB)\n",
            "Non-trainable params: 0 (0.00 Byte)\n",
            "_________________________________________________________________\n",
            "None\n"
          ]
        }
      ],
      "source": [
        "from keras.models import Sequential\n",
        "from keras.layers import Dense, Activation, Flatten, Embedding, Reshape, Conv2D, MaxPooling2D, Input\n",
        "from keras.optimizers import Adam\n",
        "\n",
        "# First, we build a very simple neural network model in Keras\n",
        "model = Sequential()\n",
        "model.add(Input(shape=(1, env.num_rows, env.num_columns, 4)))\n",
        "model.add(Reshape(target_shape=(env.num_rows, env.num_columns, 4)))\n",
        "model.add(Conv2D(20, kernel_size=(3, 3), activation=\"relu\"))\n",
        "model.add(Flatten())\n",
        "model.add(Dense(env.nA, activation='linear'))\n",
        "print(model.summary())"
      ]
    },
    {
      "cell_type": "markdown",
      "metadata": {
        "id": "trvtKo0SeCdF"
      },
      "source": [
        "Now that we have the neural network in place, it is time to use it as a function approximator for the Q-function of our RL agent. This can be easily done using the Keras-rl package in Python. The code below creates a deep Q-learning agent using $\\epsilon$-greedy exploration:"
      ]
    },
    {
      "cell_type": "code",
      "execution_count": 31,
      "metadata": {
        "colab": {
          "base_uri": "https://localhost:8080/"
        },
        "id": "jguH4vR-eCdF",
        "outputId": "6705fa47-2afd-4f33-f7dc-39d8ca0598f7"
      },
      "outputs": [
        {
          "name": "stdout",
          "output_type": "stream",
          "text": [
            "WARNING:tensorflow:OMP_NUM_THREADS is no longer used by the default Keras config. To configure the number of threads, use tf.config.threading APIs.\n"
          ]
        }
      ],
      "source": [
        "from rl.agents.dqn import DQNAgent\n",
        "from rl.policy import BoltzmannQPolicy, EpsGreedyQPolicy, LinearAnnealedPolicy\n",
        "from rl.memory import SequentialMemory\n",
        "from keras.src.saving import serialization_lib\n",
        "serialization_lib.enable_unsafe_deserialization()\n",
        "from tensorflow.keras.optimizers.legacy import Adam\n",
        "\n",
        "# Then, define DQN agent in Keras-RL\n",
        "memory = SequentialMemory(limit=200000, window_length=1)\n",
        "policy = LinearAnnealedPolicy(EpsGreedyQPolicy(), \n",
        "                              attr='eps', value_max=1., value_min=.1, value_test=.05, nb_steps=100000)\n",
        "dqn = DQNAgent(model=model, nb_actions=env.nA, memory=memory, policy=policy, \n",
        "               nb_steps_warmup=500, target_model_update=1e-2, enable_double_dqn=True, enable_dueling_network=True)\n",
        "dqn.compile(optimizer=Adam(learning_rate=1e-3), metrics=['mae'])"
      ]
    },
    {
      "cell_type": "markdown",
      "metadata": {
        "id": "2it5LTc9eCdF"
      },
      "source": [
        "In essence, we are doing the exact some thing as we did before: Q-learning with $\\epsilon$-greedy exploration. The key difference is in the way that we approximate the Q-function: before we used a table, and now we are using a neural network. \n",
        "\n",
        "As you can probably guess from the code above, we are also using a few popular RL techniques that improve the stability and convergence of Q-learning algorithms:\n",
        "\n",
        "- Experience replay: we add a ``memory`` that allows the RL agent to \"re-live\" past experience but accounting for the latest knowledge that it has about the Q-function.\n",
        "\n",
        "- Double deep Q networks (``enable_double_dqn=True``)\n",
        "\n",
        "- Dueling networks (``enable_dueling_network=True``)\n",
        "\n",
        "These fall outside of the scope of this tutorial, but they are explained in detail in the aditional materials provided in the last slides.\n",
        "\n",
        "We can now run our deep Q-learning algorithm (in this case for 400000 steps, where each episode has a maximum of 200 steps):"
      ]
    },
    {
      "cell_type": "code",
      "execution_count": 32,
      "metadata": {
        "colab": {
          "base_uri": "https://localhost:8080/"
        },
        "id": "VhR8iuNzeCdF",
        "outputId": "911e832f-d96c-44b5-a3d2-8e3376ae110f",
        "scrolled": false
      },
      "outputs": [
        {
          "name": "stdout",
          "output_type": "stream",
          "text": [
            "Training for 400000 steps ...\n",
            "Interval 1 (0 steps performed)\n",
            "    1/10000 [..............................] - ETA: 25:29 - reward: -1.000"
          ]
        },
        {
          "name": "stderr",
          "output_type": "stream",
          "text": [
            "c:\\Users\\vieta\\Downloads\\ABA_fix_bug\\Fixbug2\\.venv\\Lib\\site-packages\\keras\\src\\engine\\training_v1.py:2359: UserWarning: `Model.state_updates` will be removed in a future version. This property should not be used in TensorFlow 2.0, as `updates` are applied automatically.\n",
            "  updates=self.state_updates,\n"
          ]
        },
        {
          "name": "stdout",
          "output_type": "stream",
          "text": [
            "  584/10000 [>.............................] - ETA: 29s - reward: -1.9298done, took 2.023 seconds\n"
          ]
        },
        {
          "data": {
            "text/plain": [
              "<keras.src.callbacks.History at 0x2d593d847d0>"
            ]
          },
          "execution_count": 32,
          "metadata": {},
          "output_type": "execute_result"
        }
      ],
      "source": [
        "dqn.fit(env, nb_steps=400000, visualize=False, verbose=1, nb_max_episode_steps=200, log_interval=10000)"
      ]
    },
    {
      "cell_type": "markdown",
      "metadata": {
        "id": "vPuAjcTpeCdG"
      },
      "source": [
        "Once the RL agent is learned, we can visualize the learned policy by exploiting the call-back functionality in Keras (don't worry if this code is a bit confusing for you as a first time Keras user; focus on the results that you obtained instead):"
      ]
    },
    {
      "cell_type": "code",
      "execution_count": 33,
      "metadata": {
        "id": "WLM7QVvOeCdG"
      },
      "outputs": [],
      "source": [
        "from keras.callbacks import Callback\n",
        "\n",
        "class Visualizer(Callback):\n",
        "    def __init__(self, env):\n",
        "        self.env = env\n",
        "    \n",
        "    def on_action_end(self, action, logs):\n",
        "        \"\"\" Render environment at the end of each action \"\"\"\n",
        "        self.env.render(mode='human')\n",
        "        time.sleep(1)\n",
        "        clear_output(wait=True)"
      ]
    },
    {
      "cell_type": "code",
      "execution_count": 34,
      "metadata": {
        "id": "21Do_1abeCdG",
        "outputId": "156da116-db4f-4992-8ef9-0a0e58ac3f61",
        "scrolled": false
      },
      "outputs": [
        {
          "name": "stdout",
          "output_type": "stream",
          "text": [
            "+---------+\n",
            "| : |\u001b[43m \u001b[0m: : |\n",
            "| : | : : |\n",
            "| : : : : |\n",
            "| | : | : |\n",
            "| | : | : |\n",
            "+---------+\n",
            "T: 2; Total earnings: 0\n",
            "Action: West; Reward: -1\n"
          ]
        }
      ],
      "source": [
        "try:\n",
        "    dqn.test(env, nb_episodes=5, callbacks=[Visualizer(env)], nb_max_episode_steps=99, visualize=False, verbose=0)\n",
        "except KeyboardInterrupt:\n",
        "    pass"
      ]
    },
    {
      "cell_type": "markdown",
      "metadata": {
        "id": "Kp8khNFLeCdG"
      },
      "source": [
        "How are the results? Does the policy do what you would expect it to do? Or does it sometimes behaves strangely (i.e. not perfectly)? When I ran this code I managed to obtain a pretty good policy in a relatively short amount of time, but you can try doing a few tweaks to see if you improve. For example, try:\n",
        "\n",
        "- Increasing the number of training steps ``nb_steps=400000``\n",
        "\n",
        "- Increasing the maximum length of each episode ``nb_max_episode_steps=200``\n",
        "\n",
        "- Increasing the complexity of the neural network (e.g. more layers or more neurons per layer)\n",
        "\n",
        "- Changing the learning rate of the neural network optimizer ``Adam(lr=1e-3)``\n",
        "\n",
        "- Other hyper-parameters of the RL algorithm (e.g. memory size, decay rate of $\\epsilon$-greedy, etc.):\n",
        "\n",
        "``memory = SequentialMemory(limit=200000, window_length=1)\n",
        "policy = LinearAnnealedPolicy(EpsGreedyQPolicy(), \n",
        "                              attr='eps', value_max=1., value_min=.1, value_test=.05, nb_steps=100000)\n",
        "dqn = DQNAgent(model=model, nb_actions=env.nA, memory=memory, policy=policy, \n",
        "               nb_steps_warmup=500, target_model_update=1e-2, enable_double_dqn=True, enable_dueling_network=True)``"
      ]
    },
    {
      "cell_type": "markdown",
      "metadata": {
        "id": "-85aHXVbeCdG"
      },
      "source": [
        "That's it! We hope that you enjoyed this brief introduction to the world of reinforcement learning :-)"
      ]
    }
  ],
  "metadata": {
    "accelerator": "GPU",
    "colab": {
      "provenance": []
    },
    "gpuClass": "standard",
    "kernelspec": {
      "display_name": "Python 3.9.7 ('ABA_RL')",
      "language": "python",
      "name": "python3"
    },
    "language_info": {
      "codemirror_mode": {
        "name": "ipython",
        "version": 3
      },
      "file_extension": ".py",
      "mimetype": "text/x-python",
      "name": "python",
      "nbconvert_exporter": "python",
      "pygments_lexer": "ipython3",
      "version": "3.11.5"
    },
    "vscode": {
      "interpreter": {
        "hash": "e1a6091f22c209dbd922436ffd5d1671254e3e4795e412ee2d48b4b6a3c7ded8"
      }
    }
  },
  "nbformat": 4,
  "nbformat_minor": 0
}
