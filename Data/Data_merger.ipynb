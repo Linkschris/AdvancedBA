{
 "cells": [
  {
   "cell_type": "code",
   "execution_count": 1,
   "metadata": {},
   "outputs": [],
   "source": [
    "import pandas as pd\n",
    "import numpy as np\n",
    "import matplotlib.pyplot as plt\n"
   ]
  },
  {
   "cell_type": "code",
   "execution_count": 2,
   "metadata": {},
   "outputs": [
    {
     "data": {
      "text/plain": [
       "Index(['date', 'load_AT', 'load_BE', 'load_FRA', 'load_GER', 'load_NL',\n",
       "       'price_AT', 'price_BE', 'price_GER', 'price_NL', 'solar_forecastAT',\n",
       "       'windonshore_forecastAT', 'solar_forecastBE', 'windoffshore_forecastBE',\n",
       "       'windonshore_forecastBE', 'solar_forecastFRA',\n",
       "       'windonshore_forecastFRA', 'solar_forecastGER',\n",
       "       'windoffshore_forecastGER', 'windonshore_forecastGER',\n",
       "       'solar_forecastNL', 'windoffshore_forecastNL', 'windonshore_forecastNL',\n",
       "       'residual_generationAT', 'residual_generationBE',\n",
       "       'residual_generationFRA', 'residual_generationGER',\n",
       "       'residual_generationNL', 'day_of_week', 'hour', 'industrial_demand'],\n",
       "      dtype='object')"
      ]
     },
     "execution_count": 2,
     "metadata": {},
     "output_type": "execute_result"
    }
   ],
   "source": [
    "load = pd.read_csv('load.csv')\n",
    "prices = pd.read_csv('prices.csv')\n",
    "res_gen = pd.read_csv('res_gen.csv')\n",
    "residual_generation = pd.read_csv('residual_generation.csv')\n",
    "industrial_demand = pd.read_csv('industrial_demand.csv')\n",
    "\n",
    "#merge them all on date\n",
    "data = pd.merge(load, prices, on='date')\n",
    "data = pd.merge(data, res_gen, on='date')\n",
    "data = pd.merge(data, residual_generation, on='date')\n",
    "data = pd.merge(data, industrial_demand, on='date')\n",
    "\n",
    "#drop price_FRA\n",
    "data = data.drop(columns=['price_FRA'])\n",
    "\n",
    "data.columns"
   ]
  },
  {
   "cell_type": "code",
   "execution_count": 3,
   "metadata": {},
   "outputs": [],
   "source": [
    "#replace n/e with np.NaN\n",
    "data = data.replace('n/e', np.NaN)\n",
    "data.isna().sum()\n",
    "\n",
    "#save to csv\n",
    "data.to_csv('data.csv', index=False)"
   ]
  }
 ],
 "metadata": {
  "kernelspec": {
   "display_name": "Python 3",
   "language": "python",
   "name": "python3"
  },
  "language_info": {
   "codemirror_mode": {
    "name": "ipython",
    "version": 3
   },
   "file_extension": ".py",
   "mimetype": "text/x-python",
   "name": "python",
   "nbconvert_exporter": "python",
   "pygments_lexer": "ipython3",
   "version": "3.11.1"
  }
 },
 "nbformat": 4,
 "nbformat_minor": 2
}
