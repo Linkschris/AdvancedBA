{
  "cells": [
    {
      "cell_type": "markdown",
      "metadata": {
        "id": "m7jucsyKd1IC"
      },
      "source": [
        "# Reinforcement Learning Tutorial - Taxi pickup problem\n",
        "\n",
        "Welcome to the practical component of this Reinforcement Learning (RL) tutorial! \n",
        "\n",
        "In order to experiment with different RL algorithms and understand how they work, their characteristics, and important challanges in RL, we have prepared a relatively simple toy problem. The idea was to have a problem that is easy to understand and relate to, but at the same time is computatinally efficient (we cannot wait 1h for an algorithm to run in the context of a tutorial) and one where learned policies can be easily visualized. \n",
        "\n",
        "<img src=\"http://mlsm.man.dtu.dk/env.gif\"/>\n",
        "\n",
        "**Problem:** The problem that we will consider is the Taxi pickup problem, where to goal is to pickup customers in a simple 5x5 grid world in order to maximize profit. Real-world extensions of this toy problem could be, for example: \n",
        "\n",
        "- Dynamic routing of a fleet of autonomous vehicles (e.g. each vehicle needs to decide where to roam and which routes to take)\n",
        "\n",
        "- Rebalancing in shared mobility services (e.g. SHARENOW or Green Mobility)\n",
        "\n",
        "- Managing a fleet of autonomous vehicles in a warehouse\n",
        "\n",
        "- Etc.\n",
        "\n",
        "**Environments:** We will consider 3 environments of increasing complexity:\n",
        "\n",
        "1. An environment where there is only a single request at a fixed location, and all the taxi needs to learn to do is to go to that location and pickup the customer. The episode terminates after.\n",
        "\n",
        "2. An environment with 3 different pickup locations. The customers spawn at these locations with different rates. Every time a customer is picked up the taxi is teleported to a random dropout location and continues from there.\n",
        "\n",
        "3. An environment where requests can appear anywhere in the map at any time.\n",
        "\n",
        "**Actions:** For all environments, at each time step, the taxi is allowed to take one of the following 5 actions:\n",
        "- 0: move south\n",
        "- 1: move north\n",
        "- 2: move east \n",
        "- 3: move west \n",
        "- 4: pickup passenger\n",
        "\n",
        "Before we move on, let's make sure that you have installed all the necessary Python packages. Uncomment the following lines of code and run them:"
      ]
    },
    {
      "cell_type": "code",
      "execution_count": null,
      "metadata": {
        "id": "k987PKrcd1IH"
      },
      "outputs": [],
      "source": [
        "#!pip install numpy scipy matplotlib"
      ]
    },
    {
      "cell_type": "code",
      "execution_count": null,
      "metadata": {
        "id": "H2rRmwNbd1II"
      },
      "outputs": [],
      "source": [
        "#!pip install gym"
      ]
    },
    {
      "cell_type": "code",
      "execution_count": null,
      "metadata": {
        "id": "Yb0eQd_td1IJ"
      },
      "outputs": [],
      "source": [
        "#!pip install tensorflow # Does not work like this if you have a Macbook M1/M2!"
      ]
    },
    {
      "cell_type": "code",
      "execution_count": null,
      "metadata": {
        "id": "vyxId5HNd1IJ"
      },
      "outputs": [],
      "source": [
        "#!pip install keras-rl2"
      ]
    },
    {
      "cell_type": "code",
      "execution_count": null,
      "metadata": {
        "id": "KfAxUYkqd1IJ"
      },
      "outputs": [],
      "source": [
        "#!pip install pygame"
      ]
    },
    {
      "cell_type": "markdown",
      "metadata": {
        "id": "cxGr_WAid1IL"
      },
      "source": [
        "### Imports\n",
        "\n",
        "Next we are going to import the Python packages that we will be using:"
      ]
    },
    {
      "cell_type": "code",
      "execution_count": null,
      "metadata": {},
      "outputs": [],
      "source": [
        "#Please install tensorflow 2.13.0"
      ]
    },
    {
      "cell_type": "code",
      "execution_count": 3,
      "metadata": {},
      "outputs": [],
      "source": [
        "import tensorflow as tf\n",
        "from keras import __version__\n",
        "tf.keras.__version__ = __version__"
      ]
    },
    {
      "cell_type": "code",
      "execution_count": 4,
      "metadata": {
        "id": "rFtdxYydd1IL"
      },
      "outputs": [],
      "source": [
        "import time\n",
        "import random\n",
        "import numpy as np\n",
        "import matplotlib.pyplot as plt\n",
        "from IPython.display import clear_output\n",
        "\n",
        "from keras.models import Sequential\n",
        "from keras.layers import Dense, Activation, Flatten, Embedding, Reshape\n",
        "\n",
        "from rl.agents.dqn import DQNAgent\n",
        "from rl.policy import EpsGreedyQPolicy\n",
        "from rl.memory import SequentialMemory\n",
        "\n",
        "import gym\n",
        "\n",
        "from taxi_env import TaxiPickupEnvSimplified, TaxiPickupEnvStandard, TaxiPickupEnvAdvanced\n",
        "\n",
        "plt.style.use(\"ggplot\")"
      ]
    },
    {
      "cell_type": "markdown",
      "metadata": {
        "id": "vS3NNbJFd1IM"
      },
      "source": [
        "# Part 1: Simplified environment (Q-learning)\n",
        "\n",
        "In this first part, we will consider a very simple environment where the goal is to drive the taxi to the target location indicated in the grid world by a red 'T'. The taxi is represented by a yellow rectangle. The 5x5 grid world has a few maze-like walls that prevent the taxi to take certain actions when in some positions (i.e. the action has no effect). The taxi has no intermediate rewards. Only one final big reward when it accomplishes the goal (reach the target and take action \"pickup\"). Note also that the taxi has no information about the environment besides its current position (row and column). It has no idea how the environment works and what leads to high rewards!\n",
        "\n",
        "Let's formalize the MDP for this problem:\n",
        "\n",
        "**Actions:** north, south, east, west, pickup\n",
        "\n",
        "**State:** position of the taxi (5x5=25 possible states)\n",
        "\n",
        "**Reward:** +20 if taxi at target location (\"T\") and action is \"pickup\", else -1 (penalty for time elapsed); trying to pickup in a location different than the target also leads to penalty of -10.\n",
        "\n",
        "Implementation details: we have implemented the environment as a class extension of the popular OpenAI Gym. The ``TaxiPickupEnvSimplified`` class therefore extends the ``Env`` of OpenAI Gym, and provides the following methods:\n",
        "\n",
        "- ``state = env.reset()`` - resets the environment to a random initial state and returns that state;\n",
        "\n",
        "- ``new_state, reward, done, info = env.step(action)`` - takes the ``action`` passed in the argument (integer) and returns the new state, the reward obtained, a boolean ``done`` indicating whether the episode has terminated, and some extra ``info`` (not relevant to this environment);\n",
        "\n",
        "- ``env.render()`` - visualizes the current state of the environment;\n",
        "\n",
        "- ``env.close()`` - terminates the environment.\n",
        "\n",
        "Suggestion: have a look at the ``taxi_env.py`` file to see how the environment dynamics in the ``step()`` function of the ``TaxiPickupEnvSimplified`` class are implemented.\n",
        "\n",
        "### Run Random Policy\n",
        "\n",
        "Let us start by exploring the environment and the functionality described above using a random policy (i.e. taking random actions in the environment). Analyze the code below and run it (note that you can stop execution at any time). Make sure that everything makes sense to you."
      ]
    },
    {
      "cell_type": "code",
      "execution_count": 2,
      "metadata": {
        "id": "pbkOi1Zrd1IM",
        "outputId": "d123fe9e-49c0-4581-a527-c02ea6f7d208"
      },
      "outputs": [
        {
          "name": "stdout",
          "output_type": "stream",
          "text": [
            "+---------+\n",
            "| : | : : |\n",
            "| : | : : |\n",
            "| : : : : |\n",
            "| |\u001b[43m \u001b[0m: | : |\n",
            "|\u001b[31mT\u001b[0m| : | : |\n",
            "+---------+\n",
            "T: 3; Total earnings: 0\n",
            "Action: West; Reward: -1\n"
          ]
        }
      ],
      "source": [
        "env = TaxiPickupEnvSimplified()\n",
        "env.reset()\n",
        "for _ in range(1000):\n",
        "    try:\n",
        "        env.render()\n",
        "        env.step(env.action_space.sample()) # take a random action\n",
        "        time.sleep(1)\n",
        "        clear_output(wait=True)\n",
        "    except KeyboardInterrupt:\n",
        "        break\n",
        "env.close()"
      ]
    },
    {
      "cell_type": "markdown",
      "metadata": {
        "id": "RHbM7WAUd1IN"
      },
      "source": [
        "We can check properties of the environment ``env`` such as the action space and the observation/state space using the code below. You can check other properties available by writting \"env.\" and then pressing TAB in a cell, although they are not necessary for this tutorial."
      ]
    },
    {
      "cell_type": "code",
      "execution_count": 3,
      "metadata": {
        "id": "Fq8Bw3dbd1IN",
        "outputId": "1d8e53a3-ba9e-4d25-9731-4b4f4e23f5f8"
      },
      "outputs": [
        {
          "name": "stdout",
          "output_type": "stream",
          "text": [
            "Action Space Discrete(5)\n",
            "State Space Discrete(25)\n"
          ]
        }
      ],
      "source": [
        "print(\"Action Space {}\".format(env.action_space))\n",
        "print(\"State Space {}\".format(env.observation_space))"
      ]
    },
    {
      "cell_type": "markdown",
      "metadata": {
        "id": "7r5hYD-Ud1IO"
      },
      "source": [
        "### Tabular Q-learning\n",
        "\n",
        "You will now implement a Q-learning algorithm for learning an implicit policy that tries to optimize rewards in the environment described above. \n",
        "\n",
        "Since the states are discrete, we can represent the Q-function using a table with 25 rows (because there are 5x5 possible states) and 5 columns (because there are 5 possible actions). Each cell then contains the expected future rewards when the agent takes a certain action when in a given state. The Q-learning algorithm can then be summarized as follows:\n",
        "\n",
        "1. initialize Q-table $\\hat{Q}_\\phi$ (e.g. with zeros);\n",
        "2. set learning rate $\\alpha$, discount factor $\\gamma$ and initial exploration parameter $\\epsilon$;\n",
        "3. repeat until maximum number of episodes has been reached:\n",
        "    1. reset environment;\n",
        "    2. repeat until episode ends or maximum number of steps is reached:\n",
        "        1. choose action $a_i$ from $\\epsilon$-greedy policy: with probability $\\epsilon$ select a random action $a_i$, otherwise select $a_i = \\arg \\max_{a_i} \\hat{Q}_\\phi(s_i,a_i)$;\n",
        "        2. take action $a_i$ in the environment and observe new state $s'_i$ and reward $r(s_i,a_i)$;\n",
        "        3. compute target values $y_i \\leftarrow r(s_i,a_i) + \\gamma \\max_{a'_i} \\hat{Q}_\\phi(s'_i,a'_i)$;\n",
        "        4. update Q-table: $\\hat{Q}_\\phi(s_i,a_i) \\leftarrow (1-\\alpha) \\hat{Q}_\\phi(s_i,a_i) + \\alpha y_i $;\n",
        "    3. decay exploration parameter $\\epsilon$;\n",
        "    \n",
        "Note that the algorithm described above uses an $\\epsilon$-greedy exploration policy. In practice, one usually decays the value of $\\epsilon$ over time, until a minimum value of $\\epsilon$ is reached. Also, we will keep track of the rewards over time for later analysis and plotting.\n",
        "\n",
        "So, let us begin by making the necessary initializations:"
      ]
    },
    {
      "cell_type": "code",
      "execution_count": 4,
      "metadata": {
        "id": "IyVPhm8Qd1IO"
      },
      "outputs": [],
      "source": [
        "#Setting the hyperparameters\n",
        "              \n",
        "alpha = 0.6 #learning rate                 \n",
        "discount_factor = 0.98               \n",
        "epsilon = 1                  \n",
        "max_epsilon = 1\n",
        "min_epsilon = 0.01         \n",
        "decay = 0.001\n",
        "\n",
        "train_episodes = 5000   \n",
        "# test_episodes = 100          \n",
        "max_episode_len = 200\n",
        "\n",
        "#Initializing the Q-table\n",
        "Q = np.zeros((env.observation_space.n, env.action_space.n))\n",
        "#Creating lists to keep track of reward and epsilon values\n",
        "training_rewards = []  \n",
        "epsilons = []\n",
        "episode = 0"
      ]
    },
    {
      "cell_type": "markdown",
      "metadata": {
        "id": "a8g-7seqd1IO"
      },
      "source": [
        "And now, it is time to implement the Q-learning algorithm as described above. Can you do it? (the skeleton of the code is already there)"
      ]
    },
    {
      "cell_type": "code",
      "execution_count": 5,
      "metadata": {
        "id": "srQbSkj2d1IP",
        "outputId": "94885226-de5a-4791-a764-8e7816c0445c",
        "scrolled": false
      },
      "outputs": [
        {
          "ename": "NameError",
          "evalue": "name 'reward' is not defined",
          "output_type": "error",
          "traceback": [
            "\u001b[1;31m---------------------------------------------------------------------------\u001b[0m",
            "\u001b[1;31mNameError\u001b[0m                                 Traceback (most recent call last)",
            "Cell \u001b[1;32mIn[5], line 17\u001b[0m\n\u001b[0;32m     11\u001b[0m total_training_rewards \u001b[38;5;241m=\u001b[39m \u001b[38;5;241m0\u001b[39m\n\u001b[0;32m     12\u001b[0m \u001b[38;5;28;01mfor\u001b[39;00m step \u001b[38;5;129;01min\u001b[39;00m \u001b[38;5;28mrange\u001b[39m(max_episode_len):\n\u001b[0;32m     13\u001b[0m     \n\u001b[0;32m     14\u001b[0m     \u001b[38;5;66;03m# TODO - write your code here \u001b[39;00m\n\u001b[0;32m     15\u001b[0m     \n\u001b[0;32m     16\u001b[0m     \u001b[38;5;66;03m# Increasing our total reward and updating the state\u001b[39;00m\n\u001b[1;32m---> 17\u001b[0m     total_training_rewards \u001b[38;5;241m+\u001b[39m\u001b[38;5;241m=\u001b[39m \u001b[43mreward\u001b[49m      \n\u001b[0;32m     18\u001b[0m     state \u001b[38;5;241m=\u001b[39m new_state         \n\u001b[0;32m     20\u001b[0m     \u001b[38;5;66;03m# Ending the episode\u001b[39;00m\n",
            "\u001b[1;31mNameError\u001b[0m: name 'reward' is not defined"
          ]
        }
      ],
      "source": [
        "for _ in range(train_episodes):\n",
        "    episode += 1\n",
        "    if episode % 200 == 0 and episode != 0:\n",
        "        print(\"[Episode %d] Avg reward over last 10 episodes: %.3f\" % (episode, np.mean(training_rewards[-10:])))\n",
        "        print(\"alpha=%.3f; eps=%.3f\" % (alpha, epsilon))\n",
        "        \n",
        "    # Reseting the environment each time as per requirement\n",
        "    state = env.reset()    \n",
        "    \n",
        "    # Starting the tracker for the rewards\n",
        "    total_training_rewards = 0\n",
        "    for step in range(max_episode_len):\n",
        "        \n",
        "        # TODO - write your code here \n",
        "        \n",
        "        # Increasing our total reward and updating the state\n",
        "        total_training_rewards += reward      \n",
        "        state = new_state         \n",
        "        \n",
        "        # Ending the episode\n",
        "        if done == True:\n",
        "            break\n",
        "            \n",
        "    # Cutting down on exploration by reducing the epsilon \n",
        "    epsilon = min_epsilon+(max_epsilon-min_epsilon)*np.exp(-decay*episode)\n",
        "    \n",
        "    # Adding the total reward and reduced epsilon values\n",
        "    training_rewards.append(total_training_rewards)\n",
        "    epsilons.append(epsilon)\n",
        "    \n",
        "print (\"Training score over time: \" + str(sum(training_rewards)/train_episodes))"
      ]
    },
    {
      "cell_type": "markdown",
      "metadata": {
        "id": "VkC_-2iqd1IP"
      },
      "source": [
        "Did the rewards improve?\n",
        "\n",
        "Let's plot the evolutions of episodic rewards over time:"
      ]
    },
    {
      "cell_type": "code",
      "execution_count": null,
      "metadata": {
        "id": "a5taF6rOd1IP",
        "outputId": "47c34ba7-3fef-4192-f365-b99d7498d2af"
      },
      "outputs": [
        {
          "data": {
            "image/png": "[encoded data removed]",
            "text/plain": [
              "<Figure size 432x288 with 1 Axes>"
            ]
          },
          "metadata": {},
          "output_type": "display_data"
        }
      ],
      "source": [
        "plt.plot(training_rewards);"
      ]
    },
    {
      "cell_type": "markdown",
      "metadata": {
        "id": "YGBDB9Fkd1IQ"
      },
      "source": [
        "And also the values of $\\epsilon$ (useful for debugging purposes and tweaking the decay rate):"
      ]
    },
    {
      "cell_type": "code",
      "execution_count": null,
      "metadata": {
        "id": "oLJoxfeWd1IQ",
        "outputId": "78745418-3f0b-4f97-e1ab-2789999b2e73"
      },
      "outputs": [
        {
          "data": {
            "image/png": "[encoded data removed]",
            "text/plain": [
              "<Figure size 432x288 with 1 Axes>"
            ]
          },
          "metadata": {},
          "output_type": "display_data"
        }
      ],
      "source": [
        "plt.plot(epsilons);"
      ]
    },
    {
      "cell_type": "markdown",
      "metadata": {
        "id": "VxzOfTdUd1IQ"
      },
      "source": [
        "We can now visualize the (implicit) policy learned in the Q-table to see if it corresponds to good behaviour in practice:"
      ]
    },
    {
      "cell_type": "code",
      "execution_count": null,
      "metadata": {
        "id": "FcGb04uRd1IQ",
        "outputId": "8df41958-4017-4433-db18-0f3f9c5a8946"
      },
      "outputs": [
        {
          "name": "stdout",
          "output_type": "stream",
          "text": [
            "+---------+\n",
            "| : | : : |\n",
            "| : | : : |\n",
            "| : : : : |\n",
            "| | : | : |\n",
            "|\u001b[43m\u001b[31mT\u001b[0m\u001b[0m| : | : |\n",
            "+---------+\n",
            "T: 5; Total earnings: 20\n",
            "Action: Pickup; Reward: 20\n"
          ]
        }
      ],
      "source": [
        "env = TaxiPickupEnvSimplified()\n",
        "state = env.reset()\n",
        "for _ in range(1000):\n",
        "    try:\n",
        "        env.render()\n",
        "        action = np.argmax(Q[state,:])\n",
        "        state, reward, done, info = env.step(action)\n",
        "        time.sleep(1)\n",
        "        clear_output(wait=True)\n",
        "        if done == True:\n",
        "            env.render()\n",
        "            break\n",
        "    except KeyboardInterrupt:\n",
        "        break\n",
        "env.close()"
      ]
    },
    {
      "cell_type": "markdown",
      "metadata": {
        "id": "fGDulbLQd1IR"
      },
      "source": [
        "How good is the policy learned? Does it do what you expected it to do?\n",
        "\n",
        "We can further inspect the Q-values for different actions for when the taxi is in a certain position:"
      ]
    },
    {
      "cell_type": "code",
      "execution_count": null,
      "metadata": {
        "id": "qnmmML_Ld1IR",
        "outputId": "50389a28-a006-4316-c85b-c1a4a5dad0ca"
      },
      "outputs": [
        {
          "name": "stdout",
          "output_type": "stream",
          "text": [
            "Q-values for different actions a when taxi in location (1, 2)\n",
            "Action a=South\t Q[s,a]=899.1\n",
            "Action a=North\t Q[s,a]=861.5\n",
            "Action a=East\t Q[s,a]=861.5\n",
            "Action a=West\t Q[s,a]=880.1\n",
            "Action a=Pickup\t Q[s,a]=871.1\n"
          ]
        }
      ],
      "source": [
        "taxi_loc = (1,2)\n",
        "print(\"Q-values for different actions a when taxi in location\", taxi_loc)\n",
        "for a in range(env.nA):\n",
        "    print(\"Action a=%s\\t Q[s,a]=%.1f\" % (env.action_names[a], Q[env.encode(taxi_loc),a]))"
      ]
    },
    {
      "cell_type": "markdown",
      "metadata": {
        "id": "-otZXK_bd1IR"
      },
      "source": [
        "If all went well, the maximum Q-value should correspond to the action that takes the taxi towards the target the most from that position.\n",
        "\n",
        "Lastly, we can derive the value function (value table, in this case) that correspond to that Q-table. Remember, the value function tells us the value of being in a certain state (i.e. expected future rewards averaged over all possible actions according to the current policy $\\pi$):\n",
        "\n",
        "\\begin{align}\n",
        "V^\\pi(s) = \\mathbb{E}_{a \\sim \\pi(a|s)}[ Q^\\pi(s,a) ]  \\nonumber\n",
        "\\end{align}\n",
        "\n",
        "Since in Q-learning, the agent always chooses the action that maximizes $Q^\\pi(s_t,a_t)$ (well, unless during training where it uses $\\epsilon$-greedy to explore), the value function is simply given by:\n",
        "\n",
        "\\begin{align}\n",
        "V^\\pi(s) = \\max_a  Q^\\pi(s,a)   \\nonumber\n",
        "\\end{align}\n",
        "\n",
        "Let's compute the value table and visualize it by color-coding it according to its values:"
      ]
    },
    {
      "cell_type": "code",
      "execution_count": null,
      "metadata": {
        "id": "btc7WEzwd1IR",
        "outputId": "8a78a416-5430-46eb-8c18-ea0c1d3c451f"
      },
      "outputs": [
        {
          "data": {
            "image/png": "[encoded data removed]",
            "text/plain": [
              "<Figure size 432x288 with 1 Axes>"
            ]
          },
          "metadata": {},
          "output_type": "display_data"
        }
      ],
      "source": [
        "V = np.zeros((env.num_rows, env.num_columns))\n",
        "for s in range(env.nS):\n",
        "    taxi_row, taxi_col = env.decode(s)\n",
        "    V[taxi_row, taxi_col] = max([Q[s,a] for a in range(env.nA)]) # max Q-value for all possible actions\n",
        "\n",
        "plt.imshow(V)\n",
        "plt.title(\"Value function V(s)\")\n",
        "plt.grid(False)\n",
        "plt.show()"
      ]
    },
    {
      "cell_type": "markdown",
      "metadata": {
        "id": "WDkv-R58d1IR"
      },
      "source": [
        "Does the result make sense to you? The closer the taxi is to the objective, the higher the value of that state should be."
      ]
    },
    {
      "cell_type": "markdown",
      "metadata": {
        "id": "7INrukH_d1IS"
      },
      "source": [
        "# Part 2: Standard environment (Q-learning)\n",
        "\n",
        "In this part, we will consider a more interesting version of the taxi pickup problem. There will now be 3 possible pickups locations (represented in Red, Green and Blue) where customers arrive with different rates. The number of customers currently waiting at a given pickups location is shown as a red, green and blue counters in the map. The goal is for the taxi to pickup customers and maximize reward. To simplify the environment implementation, when a customer is picked up, the taxi teleports to the destination and continues from there. \n",
        "\n",
        "With these changes, we now have a more complex environment and therefore we need a more complex representation to encode its state. There are still 5x5=25 possible locations for the taxi to be, but now, there can also be $2^3=8$ types of situations: \n",
        "\n",
        "- no customers waiting in any location\n",
        "\n",
        "- customers waiting in red location, and no customers waiting elsewhere\n",
        "\n",
        "- customers waiting in green location, and no customers waiting elsewhere \n",
        "\n",
        "- customers waiting in blue location, and no customers waiting elsewhere \n",
        "\n",
        "- customers waiting in red and green locations, and no customers waiting in blue location\n",
        "\n",
        "- customers waiting in red and blue locations, and no customers waiting in green location\n",
        "\n",
        "- customers waiting in green and blue locations, and no customers waiting in red location\n",
        "\n",
        "- customers waiting in all 3 locations\n",
        "\n",
        "Note that we do not differentiate between having 1 or 2 or N customers waiting at a location to simplify things.\n",
        "\n",
        "Therefore, the state representation of the environment now has $5\\times5\\times2^3 = 200$ dimensions, and we need to estimate Q-values for all possible actions $a \\in \\mathcal{A}$ for all those 200 possible states! That is starting to look like a challenging task, right? And this is still a tiny 5x5 grid world... (more on scalability later :-)\n",
        "\n",
        "In summary, the new MDP for this problem can be formalized as:\n",
        "\n",
        "**Actions:** north, south, east, west, pickup\n",
        "\n",
        "**State:** position of the taxi and status of requests at 3 different locations: $5\\times5\\times2^3 = 200$ dimensions\n",
        "\n",
        "**Reward:** +20 if taxi at a pickup location where there are requests and action is \"pickup\", else -1 (penalty for time elapsed); trying to pickup in a location different than the target also leads to penalty of -10.\n",
        "\n",
        "### Run Random Policy\n",
        "\n",
        "We start again by trying out the environmenet using a random policy (note that you can stop execution at any time):"
      ]
    },
    {
      "cell_type": "code",
      "execution_count": null,
      "metadata": {
        "id": "H-j8SwNcd1IS",
        "outputId": "ef4fc16d-5784-4a48-deb7-4e4f51b36a00"
      },
      "outputs": [
        {
          "name": "stdout",
          "output_type": "stream",
          "text": [
            "+---------+\n",
            "| :\u001b[31m0\u001b[0m| : : |\n",
            "| : | : : |\n",
            "| : :\u001b[43m \u001b[0m: : |\n",
            "| | : | : |\n",
            "|\u001b[32m1\u001b[0m| : |\u001b[34m3\u001b[0m: |\n",
            "+---------+\n",
            "T: 17; Total earnings: 0\n",
            "Action: North; Reward: -1\n"
          ]
        }
      ],
      "source": [
        "env = TaxiPickupEnvStandard()\n",
        "env.reset()\n",
        "for _ in range(1000):\n",
        "    try:\n",
        "        env.render()\n",
        "        env.step(env.action_space.sample()) # take a random action\n",
        "        time.sleep(1)\n",
        "        clear_output(wait=True)\n",
        "    except KeyboardInterrupt:\n",
        "        break\n",
        "env.close()"
      ]
    },
    {
      "cell_type": "code",
      "execution_count": null,
      "metadata": {
        "id": "epzgC6jfd1IS",
        "outputId": "42f3664f-e578-43b3-fe60-307a25599d79"
      },
      "outputs": [
        {
          "name": "stdout",
          "output_type": "stream",
          "text": [
            "Action Space Discrete(5)\n",
            "State Space Discrete(200)\n"
          ]
        }
      ],
      "source": [
        "print(\"Action Space {}\".format(env.action_space))\n",
        "print(\"State Space {}\".format(env.observation_space))"
      ]
    },
    {
      "cell_type": "markdown",
      "metadata": {
        "id": "KJLOWV5Wd1IT"
      },
      "source": [
        "### Tabular Q-learning\n",
        "\n",
        "We will now apply the same Q-learning algorithm that you've implemented above for the simplified environment. Can you take care of the missing code blocks?"
      ]
    },
    {
      "cell_type": "code",
      "execution_count": null,
      "metadata": {
        "id": "hML2P7Ndd1IT"
      },
      "outputs": [],
      "source": [
        "#Setting the hyperparameters\n",
        "              \n",
        "alpha = 0.6 #learning rate                 \n",
        "discount_factor = 0.98               \n",
        "epsilon = 1                  \n",
        "max_epsilon = 1\n",
        "min_epsilon = 0.01         \n",
        "decay = 0.001\n",
        "\n",
        "train_episodes = 10000           \n",
        "max_episode_len = 200\n",
        "\n",
        "#Initializing the Q-table\n",
        "Q = np.zeros((env.observation_space.n, env.action_space.n))\n",
        "\n",
        "#Creating lists to keep track of reward and epsilon values\n",
        "training_rewards = []  \n",
        "epsilons = []\n",
        "episode = 0"
      ]
    },
    {
      "cell_type": "code",
      "execution_count": null,
      "metadata": {
        "id": "Ty8-r3ezd1IT",
        "outputId": "29834a97-de35-4aa0-f04f-012d6289c49a",
        "scrolled": false
      },
      "outputs": [
        {
          "name": "stdout",
          "output_type": "stream",
          "text": [
            "[Episode 200] Avg reward over last 10 episodes: -340.100\n",
            "alpha=0.600; eps=0.821\n",
            "[Episode 400] Avg reward over last 10 episodes: -175.400\n",
            "alpha=0.600; eps=0.674\n",
            "[Episode 600] Avg reward over last 10 episodes: -90.200\n",
            "alpha=0.600; eps=0.554\n",
            "[Episode 800] Avg reward over last 10 episodes: 26.200\n",
            "alpha=0.600; eps=0.455\n",
            "[Episode 1000] Avg reward over last 10 episodes: 162.400\n",
            "alpha=0.600; eps=0.375\n",
            "[Episode 1200] Avg reward over last 10 episodes: 168.400\n",
            "alpha=0.600; eps=0.308\n",
            "[Episode 1400] Avg reward over last 10 episodes: 258.100\n",
            "alpha=0.600; eps=0.254\n",
            "[Episode 1600] Avg reward over last 10 episodes: 223.900\n",
            "alpha=0.600; eps=0.210\n",
            "[Episode 1800] Avg reward over last 10 episodes: 260.800\n",
            "alpha=0.600; eps=0.174\n",
            "[Episode 2000] Avg reward over last 10 episodes: 300.400\n",
            "alpha=0.600; eps=0.144\n",
            "[Episode 2200] Avg reward over last 10 episodes: 282.700\n",
            "alpha=0.600; eps=0.120\n",
            "[Episode 2400] Avg reward over last 10 episodes: 286.900\n",
            "alpha=0.600; eps=0.100\n",
            "[Episode 2600] Avg reward over last 10 episodes: 292.300\n",
            "alpha=0.600; eps=0.084\n",
            "[Episode 2800] Avg reward over last 10 episodes: 334.000\n",
            "alpha=0.600; eps=0.070\n",
            "[Episode 3000] Avg reward over last 10 episodes: 400.600\n",
            "alpha=0.600; eps=0.059\n",
            "[Episode 3200] Avg reward over last 10 episodes: 294.700\n",
            "alpha=0.600; eps=0.050\n",
            "[Episode 3400] Avg reward over last 10 episodes: 356.500\n",
            "alpha=0.600; eps=0.043\n",
            "[Episode 3600] Avg reward over last 10 episodes: 363.400\n",
            "alpha=0.600; eps=0.037\n",
            "[Episode 3800] Avg reward over last 10 episodes: 376.000\n",
            "alpha=0.600; eps=0.032\n",
            "[Episode 4000] Avg reward over last 10 episodes: 346.600\n",
            "alpha=0.600; eps=0.028\n",
            "[Episode 4200] Avg reward over last 10 episodes: 377.800\n",
            "alpha=0.600; eps=0.025\n",
            "[Episode 4400] Avg reward over last 10 episodes: 273.100\n",
            "alpha=0.600; eps=0.022\n",
            "[Episode 4600] Avg reward over last 10 episodes: 413.800\n",
            "alpha=0.600; eps=0.020\n",
            "[Episode 4800] Avg reward over last 10 episodes: 402.100\n",
            "alpha=0.600; eps=0.018\n",
            "[Episode 5000] Avg reward over last 10 episodes: 367.000\n",
            "alpha=0.600; eps=0.017\n",
            "[Episode 5200] Avg reward over last 10 episodes: 373.900\n",
            "alpha=0.600; eps=0.015\n",
            "[Episode 5400] Avg reward over last 10 episodes: 337.300\n",
            "alpha=0.600; eps=0.014\n",
            "[Episode 5600] Avg reward over last 10 episodes: 348.700\n",
            "alpha=0.600; eps=0.014\n",
            "[Episode 5800] Avg reward over last 10 episodes: 392.200\n",
            "alpha=0.600; eps=0.013\n",
            "[Episode 6000] Avg reward over last 10 episodes: 399.100\n",
            "alpha=0.600; eps=0.012\n",
            "[Episode 6200] Avg reward over last 10 episodes: 354.400\n",
            "alpha=0.600; eps=0.012\n",
            "[Episode 6400] Avg reward over last 10 episodes: 395.800\n",
            "alpha=0.600; eps=0.012\n",
            "[Episode 6600] Avg reward over last 10 episodes: 347.800\n",
            "alpha=0.600; eps=0.011\n",
            "[Episode 6800] Avg reward over last 10 episodes: 354.100\n",
            "alpha=0.600; eps=0.011\n",
            "[Episode 7000] Avg reward over last 10 episodes: 351.100\n",
            "alpha=0.600; eps=0.011\n",
            "[Episode 7200] Avg reward over last 10 episodes: 392.200\n",
            "alpha=0.600; eps=0.011\n",
            "[Episode 7400] Avg reward over last 10 episodes: 387.700\n",
            "alpha=0.600; eps=0.011\n",
            "[Episode 7600] Avg reward over last 10 episodes: 371.200\n",
            "alpha=0.600; eps=0.010\n",
            "[Episode 7800] Avg reward over last 10 episodes: 429.100\n",
            "alpha=0.600; eps=0.010\n",
            "[Episode 8000] Avg reward over last 10 episodes: 352.000\n",
            "alpha=0.600; eps=0.010\n",
            "[Episode 8200] Avg reward over last 10 episodes: 324.700\n",
            "alpha=0.600; eps=0.010\n",
            "[Episode 8400] Avg reward over last 10 episodes: 271.600\n",
            "alpha=0.600; eps=0.010\n",
            "[Episode 8600] Avg reward over last 10 episodes: 424.000\n",
            "alpha=0.600; eps=0.010\n",
            "[Episode 8800] Avg reward over last 10 episodes: 342.100\n",
            "alpha=0.600; eps=0.010\n",
            "[Episode 9000] Avg reward over last 10 episodes: 378.100\n",
            "alpha=0.600; eps=0.010\n",
            "[Episode 9200] Avg reward over last 10 episodes: 352.000\n",
            "alpha=0.600; eps=0.010\n",
            "[Episode 9400] Avg reward over last 10 episodes: 372.100\n",
            "alpha=0.600; eps=0.010\n",
            "[Episode 9600] Avg reward over last 10 episodes: 398.500\n",
            "alpha=0.600; eps=0.010\n",
            "[Episode 9800] Avg reward over last 10 episodes: 336.700\n",
            "alpha=0.600; eps=0.010\n",
            "[Episode 10000] Avg reward over last 10 episodes: 371.200\n",
            "alpha=0.600; eps=0.010\n",
            "Training score over time: 292.9024\n"
          ]
        }
      ],
      "source": [
        "for _ in range(train_episodes):\n",
        "    episode += 1\n",
        "    if episode % 200 == 0 and episode != 0:\n",
        "        print(\"[Episode %d] Avg reward over last 10 episodes: %.3f\" % (episode, np.mean(training_rewards[-10:])))\n",
        "        print(\"alpha=%.3f; eps=%.3f\" % (alpha, epsilon))\n",
        "        \n",
        "    # Reseting the environment each time as per requirement\n",
        "    state = env.reset()    \n",
        "    \n",
        "    # Starting the tracker for the rewards\n",
        "    total_training_rewards = 0\n",
        "    for step in range(max_episode_len):\n",
        "        \n",
        "        # TODO - write your code here\n",
        "        \n",
        "        # Increasing our total reward and updating the state\n",
        "        total_training_rewards += reward      \n",
        "        state = new_state         \n",
        "        \n",
        "        # Ending the episode\n",
        "        if done == True:\n",
        "            break\n",
        "            \n",
        "    # Cutting down on exploration by reducing the epsilon \n",
        "    epsilon = min_epsilon+(max_epsilon-min_epsilon)*np.exp(-decay*episode)\n",
        "    \n",
        "    # Adding the total reward and reduced epsilon values\n",
        "    training_rewards.append(total_training_rewards)\n",
        "    epsilons.append(epsilon)\n",
        "    \n",
        "print (\"Training score over time: \" + str(sum(training_rewards)/train_episodes))"
      ]
    },
    {
      "cell_type": "markdown",
      "metadata": {
        "id": "ffb7-KEad1IT"
      },
      "source": [
        "How do the results? Let's have a look at the rewards over time:"
      ]
    },
    {
      "cell_type": "code",
      "execution_count": null,
      "metadata": {
        "id": "SbgQQ9nsd1IU",
        "outputId": "4ab751d5-444b-4e11-a36a-5e31b4afeea0"
      },
      "outputs": [
        {
          "data": {
            "image/png": "[encoded data removed]",
            "text/plain": [
              "<Figure size 432x288 with 1 Axes>"
            ]
          },
          "metadata": {},
          "output_type": "display_data"
        }
      ],
      "source": [
        "plt.plot(training_rewards);"
      ]
    },
    {
      "cell_type": "markdown",
      "metadata": {
        "id": "lvkkrdnBd1IU"
      },
      "source": [
        "And also the values of $\\epsilon$ (useful for debugging purposes and tweaking the decay rate):"
      ]
    },
    {
      "cell_type": "code",
      "execution_count": null,
      "metadata": {
        "id": "WBGSRdUUd1IU",
        "outputId": "b02a5685-3cd8-41d5-f2e0-8c0780c769cf"
      },
      "outputs": [
        {
          "data": {
            "image/png": "[encoded data removed]",
            "text/plain": [
              "<Figure size 432x288 with 1 Axes>"
            ]
          },
          "metadata": {},
          "output_type": "display_data"
        }
      ],
      "source": [
        "plt.plot(epsilons);"
      ]
    },
    {
      "cell_type": "markdown",
      "metadata": {
        "id": "X-9V3hbYd1IU"
      },
      "source": [
        "Let's visualize the behaviour of the learned policy in practice:"
      ]
    },
    {
      "cell_type": "code",
      "execution_count": null,
      "metadata": {
        "id": "5_idk_VMd1IU",
        "outputId": "13aca69a-9ee9-4c8c-865a-25b1596e9256"
      },
      "outputs": [
        {
          "name": "stdout",
          "output_type": "stream",
          "text": [
            "+---------+\n",
            "| :\u001b[31m3\u001b[0m| : : |\n",
            "| :\u001b[43m \u001b[0m| : : |\n",
            "| : : : : |\n",
            "| | : | : |\n",
            "|\u001b[32m0\u001b[0m| : |\u001b[34m2\u001b[0m: |\n",
            "+---------+\n",
            "T: 62; Total earnings: 120\n",
            "Action: North; Reward: -1\n"
          ]
        }
      ],
      "source": [
        "env = TaxiPickupEnvStandard()\n",
        "state = env.reset()\n",
        "for _ in range(1000):\n",
        "    try:\n",
        "        env.render()\n",
        "        action = np.argmax(Q[state,:])\n",
        "        state, reward, done, info = env.step(action)\n",
        "        time.sleep(1)\n",
        "        clear_output(wait=True)\n",
        "        if done == True:\n",
        "            env.render()\n",
        "            break\n",
        "    except KeyboardInterrupt:\n",
        "        break\n",
        "env.close()"
      ]
    },
    {
      "cell_type": "markdown",
      "metadata": {
        "id": "7pF1xx4Ld1IV"
      },
      "source": [
        "Hopefully you managed to learn a policy that maybe does not perform perfectly, but does a pretty good job at maximizing rewards. \n",
        "\n",
        "Now try editing the ``TaxiPickupEnvStandard`` class in the file ``taxi_env.py`` and change either the request rate of one of the locations to be (much) higher than the others (i.e. simulating that one location is more popular than the others), or change the earnings of one of the locations such that pickups in that location lead to (much) higher rewards (e.g. simulating a \"fancy\" part of town where customers give very generous tips). Re-run the Q-learning algorithm and notice how the learned policy changes and how new behaviours emerge :-)\n",
        "\n",
        "Hint: Look for the following lines in the ``taxi_env.py`` file:\n",
        "\n",
        "``self.req_rates = req_rates = [5e-2, 5e-2, 5e-2]``\n",
        "\n",
        "``if pickup_loc == 0: \n",
        "    reward = 20 \n",
        "elif pickup_loc == 1:\n",
        "    reward = 20 \n",
        "elif pickup_loc == 2:\n",
        "    reward = 20 ``\n",
        "\n",
        "**Important: You will have to reload the TaxiPickupEnvStandard class in order for changes in taxi_env.py to take effect. Use the following code to reload. If that doesn't work, then restart the Python kernel from the Jupyter menus on the top.**\n",
        "\n",
        "``import importlib\n",
        "importlib.reload(taxi_env)``"
      ]
    },
    {
      "cell_type": "markdown",
      "metadata": {
        "id": "Rax0EDq4d1IV"
      },
      "source": [
        "# Part 3: Advanced environment (Deep Q-learning)\n",
        "\n",
        "In this part, we will consider a more complex environment where pickup requests can appear anywhere on our 5x5 grid world. When there are requests in a map cell, we will represent that with a red counter showing the number of requests in that cell.\n",
        "\n",
        "### Run Random Policy\n",
        "\n",
        "As we have been doing before, let's start by having a look at how that environment looks like using a random policy:"
      ]
    },
    {
      "cell_type": "code",
      "execution_count": null,
      "metadata": {
        "id": "e2447hj_d1IV",
        "outputId": "0e5c4cc1-93a2-4861-8826-c0d2b163b8ad"
      },
      "outputs": [
        {
          "name": "stdout",
          "output_type": "stream",
          "text": [
            "+---------+\n",
            "| :\u001b[43m \u001b[0m| : : |\n",
            "|\u001b[31m1\u001b[0m: | : : |\n",
            "| : : : : |\n",
            "| | : | : |\n",
            "| | : | : |\n",
            "+---------+\n",
            "T: 12; Total earnings: 0\n",
            "Action: Pickup; Reward: -10\n"
          ]
        }
      ],
      "source": [
        "env = TaxiPickupEnvAdvanced()\n",
        "env.reset()\n",
        "for _ in range(1000):\n",
        "    try:\n",
        "        env.render()\n",
        "        state = env.step(env.action_space.sample()) # take a random action\n",
        "        time.sleep(1)\n",
        "        clear_output(wait=True)\n",
        "    except KeyboardInterrupt:\n",
        "        break\n",
        "env.close()"
      ]
    },
    {
      "cell_type": "code",
      "execution_count": null,
      "metadata": {
        "id": "k7Q5PRmYd1IV",
        "outputId": "f4a0d7aa-3e5d-4cf7-fe88-76803f8268de"
      },
      "outputs": [
        {
          "name": "stdout",
          "output_type": "stream",
          "text": [
            "Action Space Discrete(5)\n"
          ]
        }
      ],
      "source": [
        "print(\"Action Space {}\".format(env.action_space))"
      ]
    },
    {
      "cell_type": "markdown",
      "metadata": {
        "id": "hxrBfLGYd1IV"
      },
      "source": [
        "### Deep Q-learning (DQN)\n",
        "\n",
        "As you probably realized already, when we start considering more interesting and more realistic problems, the dimensionality of the state space can quickly become unmanegeable for standard tabular Q-learning approaches. In the environment from Part 2, with just 3 possible pickup locations, the number of possible (discrete) states was already $5\\times5\\times2^3 = 200$. This is not a problem just because of memory requirements, but the learning task of fitting Q-table becomes much more complex (observations becomes sparser - curse of dimensionality)! Not only that, but what happens when the states are continuous rather than discrete? We definitely need a way of tackling these problems...\n",
        "\n",
        "This is where function approximation comes in! In this tutorial, we will use neural networks as function approximators. This is also by far the most popular approach in the recent RL literature. To makes things easier, we will rely on 2 Python packages - keras and keras-rl - that abstract away many of the complexities involved in creating a neural network and using it for deep Q-learning.\n",
        "\n",
        "**Optional: Implementing neural networks in Keras** (if you want, you may skip this part and treat the neural network as black-box function approximator)\n",
        "\n",
        "Bulding a multi-layer neural network in Keras is fairly easy. We start by creating an object of the class \"Sequential\" (indicating that the neural network consists of sequence of layers):\n",
        "\n",
        "```python\n",
        "model = Sequential()\n",
        "```\n",
        "\n",
        "Now we can add layers to our neural network model. For examply, we can add a fully connected (dense) layer with 50 neurons and using a ReLU (rectified linear unit) activation function as follows:\n",
        "\n",
        "```python\n",
        "model.add(Dense(50, input_dim=30, activation='relu'))\n",
        "```\n",
        "\n",
        "A similar approach can be used for other types of layers such as Convolutional Layers. The following line adds a Convolutional layer with 20 filters of 3x3 convolutions:\n",
        "\n",
        "```python\n",
        "model.add(Conv2D(20, kernel_size=(3, 3), activation=\"relu\"))\n",
        "```\n",
        "We can now keep adding more hidden layers, or add the final Dense layer. Note that since this is a regression problem (i.e. we want the neural network to output Q-value for the different possible actions given the state passed as input to it), the last layer (output layer) of network must necessarily have as many neurons/outputs as there are actions in our RL problem and it must use a linear activation:\n",
        "\n",
        "```python\n",
        "model.add(Dense(env.nA, activation='linear'))\n",
        "```\n",
        "\n",
        "**MDP formulation**:\n",
        "\n",
        "Armed with the power of neural networks for function approximation, we can build a more complex representation of the environment state. In this case, we will represent the state using 4 5x5 matrices containing:\n",
        "\n",
        "- Matrix 1: position of the taxi, one-hot encoded (i.e. with \"1\" in the place where the taxi is located, and zeros else where). For example:\n",
        "\n",
        "``[[0,0,0,0,0],\n",
        " [0,0,0,0,0],\n",
        " [0,0,0,0,0],\n",
        " [0,0,0,1,0],\n",
        " [0,0,0,0,0]]``\n",
        "\n",
        "- Matrix 2: number of pickup requests in each cell. For example:\n",
        "\n",
        "``[[0,0,0,0,0],\n",
        " [0,0,0,1,0],\n",
        " [0,0,0,0,0],\n",
        " [2,0,0,0,4],\n",
        " [0,0,1,0,0]]``\n",
        " \n",
        "- Matrix 3: information about the presence of walls to the east. In this case:\n",
        "\n",
        "``[[0,1,0,0,0],\n",
        " [0,1,0,0,0],\n",
        " [0,0,0,0,0],\n",
        " [1,0,1,0,0],\n",
        " [1,0,1,0,0]]``\n",
        " \n",
        "- Matrix 4: information about the presence of walls to the west. In this case:\n",
        "\n",
        "``[[0,0,1,0,0],\n",
        " [0,0,1,0,0],\n",
        " [0,0,0,0,0],\n",
        " [0,1,0,1,0],\n",
        " [0,1,0,1,0]]``\n",
        " \n",
        "We can stack these 4 matrices together to create a 5x5x4 tensor that represents the state of the environment, and feed it to the neural network as input. The idea is for the neural network to learn to approximate the Q-values (i.e. expected future rewards) for the different possible actions given the state that was passed as input.\n",
        "\n",
        "Aside: we are not arguing that this is necessarily the best state representation for this problem. In fact, coming up with good state representation is a key challenge in deep RL and it can determine how fast your agent learns and how the policies that it learns can be. This state representation seems to perform acceptably well for this problem, so we will proceed with it.\n",
        "\n",
        "In summary, the new MDP for this revised version of the problem can be formalized as:\n",
        "\n",
        "**Actions:** north, south, east, west, pickup\n",
        "\n",
        "**State:** 5x5x4 tensor representing the position of the taxi, the number of requests in each cell and the locations of the \"walls\"\n",
        "\n",
        "**Reward:** +20 if taxi at a pickup location where there are requests and action is \"pickup\", else -1 (penalty for time elapsed); trying to pickup in a location different than the target also leads to penalty of -10.\n",
        "\n",
        "The code below creates a neural network in Keras that performs well in this environment:"
      ]
    },
    {
      "cell_type": "code",
      "execution_count": null,
      "metadata": {
        "id": "qgtkagEWd1IW",
        "outputId": "81fe37a4-96a6-4a58-ff3f-48273c7ba09f"
      },
      "outputs": [
        {
          "name": "stdout",
          "output_type": "stream",
          "text": [
            "Model: \"sequential\"\n",
            "_________________________________________________________________\n",
            " Layer (type)                Output Shape              Param #   \n",
            "=================================================================\n",
            " reshape (Reshape)           (None, 5, 5, 4)           0         \n",
            "                                                                 \n",
            " conv2d (Conv2D)             (None, 3, 3, 20)          740       \n",
            "                                                                 \n",
            " flatten (Flatten)           (None, 180)               0         \n",
            "                                                                 \n",
            " dense (Dense)               (None, 5)                 905       \n",
            "                                                                 \n",
            "=================================================================\n",
            "Total params: 1,645\n",
            "Trainable params: 1,645\n",
            "Non-trainable params: 0\n",
            "_________________________________________________________________\n",
            "None\n"
          ]
        }
      ],
      "source": [
        "from keras.models import Sequential\n",
        "from keras.layers import Dense, Activation, Flatten, Embedding, Reshape, Conv2D, MaxPooling2D, Input\n",
        "from keras.optimizers import Adam\n",
        "\n",
        "# First, we build a very simple neural network model in Keras\n",
        "model = Sequential()\n",
        "model.add(Input(shape=(1, env.num_rows, env.num_columns, 4)))\n",
        "model.add(Reshape(target_shape=(env.num_rows, env.num_columns, 4)))\n",
        "model.add(Conv2D(20, kernel_size=(3, 3), activation=\"relu\"))\n",
        "model.add(Flatten())\n",
        "model.add(Dense(env.nA, activation='linear'))\n",
        "print(model.summary())"
      ]
    },
    {
      "cell_type": "markdown",
      "metadata": {
        "id": "GzvJjxesd1IW"
      },
      "source": [
        "Now that we have the neural network in place, it is time to use it as a function approximator for the Q-function of our RL agent. This can be easily done using the Keras-rl package in Python. The code below creates a deep Q-learning agent using $\\epsilon$-greedy exploration:"
      ]
    },
    {
      "cell_type": "code",
      "execution_count": null,
      "metadata": {
        "id": "XJzBEMNOd1IW"
      },
      "outputs": [],
      "source": [
        "from rl.agents.dqn import DQNAgent\n",
        "from rl.policy import BoltzmannQPolicy, EpsGreedyQPolicy, LinearAnnealedPolicy\n",
        "from rl.memory import SequentialMemory\n",
        "from keras.src.saving import serialization_lib\n",
        "serialization_lib.enable_unsafe_deserialization()\n",
        "from tensorflow.keras.optimizers.legacy import Adam\n",
        "\n",
        "# Then, define DQN agent in Keras-RL\n",
        "memory = SequentialMemory(limit=200000, window_length=1)\n",
        "policy = LinearAnnealedPolicy(EpsGreedyQPolicy(), \n",
        "                              attr='eps', value_max=1., value_min=.1, value_test=.05, nb_steps=100000)\n",
        "dqn = DQNAgent(model=model, nb_actions=env.nA, memory=memory, policy=policy, \n",
        "               nb_steps_warmup=500, target_model_update=1e-2, enable_double_dqn=True, enable_dueling_network=True)\n",
        "dqn.compile(Adam(learning_rate=1e-3), metrics=['mae'])"
      ]
    },
    {
      "cell_type": "markdown",
      "metadata": {
        "id": "4294E0BTd1IW"
      },
      "source": [
        "In essence, we are doing the exact some thing as we did before: Q-learning with $\\epsilon$-greedy exploration. The key difference is in the way that we approximate the Q-function: before we used a table, and now we are using a neural network. \n",
        "\n",
        "As you can probably guess from the code above, we are also using a few popular RL techniques that improve the stability and convergence of Q-learning algorithms:\n",
        "\n",
        "- Experience replay: we add a ``memory`` that allows the RL agent to \"re-live\" past experience but accounting for the latest knowledge that it has about the Q-function.\n",
        "\n",
        "- Double deep Q networks (``enable_double_dqn=True``)\n",
        "\n",
        "- Dueling networks (``enable_dueling_network=True``)\n",
        "\n",
        "These fall outside of the scope of this tutorial, but they are explained in detail in the aditional materials provided in the last slides.\n",
        "\n",
        "We can now run our deep Q-learning algorithm (in this case for 400000 steps, where each episode has a maximum of 200 steps):"
      ]
    },
    {
      "cell_type": "code",
      "execution_count": null,
      "metadata": {
        "id": "50bErh71d1IX",
        "outputId": "15600e26-43c8-443c-a57c-9d73adb2102d",
        "scrolled": false
      },
      "outputs": [
        {
          "name": "stdout",
          "output_type": "stream",
          "text": [
            "Training for 400000 steps ...\n",
            "Interval 1 (0 steps performed)\n",
            "10000/10000 [==============================] - 48s 5ms/step - reward: -1.4764\n",
            "50 episodes - episode_reward: -295.280 [-533.000, -29.000] - loss: 12.183 - mae: 10.537 - mean_q: 6.589 - mean_eps: 0.953\n",
            "\n",
            "Interval 2 (10000 steps performed)\n",
            "10000/10000 [==============================] - 51s 5ms/step - reward: -1.2109\n",
            "50 episodes - episode_reward: -242.180 [-476.000, 58.000] - loss: 36.605 - mae: 62.960 - mean_q: 81.601 - mean_eps: 0.865\n",
            "\n",
            "Interval 3 (20000 steps performed)\n",
            "10000/10000 [==============================] - 52s 5ms/step - reward: -0.7732\n",
            "50 episodes - episode_reward: -154.640 [-368.000, 127.000] - loss: 92.227 - mae: 130.213 - mean_q: 166.428 - mean_eps: 0.775\n",
            "\n",
            "Interval 4 (30000 steps performed)\n",
            "10000/10000 [==============================] - 54s 5ms/step - reward: -0.6181\n",
            "50 episodes - episode_reward: -123.620 [-344.000, 160.000] - loss: 122.522 - mae: 159.234 - mean_q: 202.905 - mean_eps: 0.685\n",
            "\n",
            "Interval 5 (40000 steps performed)\n",
            "10000/10000 [==============================] - 55s 6ms/step - reward: -0.4447\n",
            "50 episodes - episode_reward: -88.940 [-305.000, 166.000] - loss: 151.700 - mae: 174.763 - mean_q: 222.608 - mean_eps: 0.595\n",
            "\n",
            "Interval 6 (50000 steps performed)\n",
            "10000/10000 [==============================] - 56s 6ms/step - reward: -0.2233\n",
            "50 episodes - episode_reward: -44.660 [-242.000, 232.000] - loss: 158.875 - mae: 185.166 - mean_q: 235.766 - mean_eps: 0.505\n",
            "\n",
            "Interval 7 (60000 steps performed)\n",
            "10000/10000 [==============================] - 58s 6ms/step - reward: -0.1519\n",
            "50 episodes - episode_reward: -30.380 [-221.000, 217.000] - loss: 155.238 - mae: 181.536 - mean_q: 231.156 - mean_eps: 0.415\n",
            "\n",
            "Interval 8 (70000 steps performed)\n",
            "10000/10000 [==============================] - 60s 6ms/step - reward: 0.1247\n",
            "50 episodes - episode_reward: 24.940 [-203.000, 232.000] - loss: 142.658 - mae: 174.216 - mean_q: 221.931 - mean_eps: 0.325\n",
            "\n",
            "Interval 9 (80000 steps performed)\n",
            "10000/10000 [==============================] - 61s 6ms/step - reward: 0.2762\n",
            "50 episodes - episode_reward: 55.240 [-176.000, 298.000] - loss: 141.910 - mae: 171.266 - mean_q: 218.241 - mean_eps: 0.235\n",
            "\n",
            "Interval 10 (90000 steps performed)\n",
            "10000/10000 [==============================] - 64s 6ms/step - reward: 0.5795\n",
            "50 episodes - episode_reward: 115.900 [-149.000, 340.000] - loss: 134.619 - mae: 160.985 - mean_q: 205.370 - mean_eps: 0.145\n",
            "\n",
            "Interval 11 (100000 steps performed)\n",
            "10000/10000 [==============================] - 66s 7ms/step - reward: 0.5132\n",
            "50 episodes - episode_reward: 102.640 [-152.000, 373.000] - loss: 123.403 - mae: 158.522 - mean_q: 202.273 - mean_eps: 0.100\n",
            "\n",
            "Interval 12 (110000 steps performed)\n",
            "10000/10000 [==============================] - 71s 7ms/step - reward: 0.3968\n",
            "50 episodes - episode_reward: 79.360 [-161.000, 352.000] - loss: 123.975 - mae: 154.373 - mean_q: 196.986 - mean_eps: 0.100\n",
            "\n",
            "Interval 13 (120000 steps performed)\n",
            "10000/10000 [==============================] - 73s 7ms/step - reward: 0.6518\n",
            "50 episodes - episode_reward: 130.360 [-545.000, 436.000] - loss: 119.455 - mae: 147.603 - mean_q: 188.550 - mean_eps: 0.100\n",
            "\n",
            "Interval 14 (130000 steps performed)\n",
            "10000/10000 [==============================] - 77s 8ms/step - reward: 0.7415\n",
            "50 episodes - episode_reward: 148.300 [-173.000, 454.000] - loss: 110.731 - mae: 146.048 - mean_q: 186.631 - mean_eps: 0.100\n",
            "\n",
            "Interval 15 (140000 steps performed)\n",
            "10000/10000 [==============================] - 76s 8ms/step - reward: 0.8516\n",
            "50 episodes - episode_reward: 170.320 [-101.000, 364.000] - loss: 114.254 - mae: 148.388 - mean_q: 189.611 - mean_eps: 0.100\n",
            "\n",
            "Interval 16 (150000 steps performed)\n",
            "10000/10000 [==============================] - 77s 8ms/step - reward: 0.7898\n",
            "50 episodes - episode_reward: 157.960 [-83.000, 496.000] - loss: 115.502 - mae: 148.117 - mean_q: 189.147 - mean_eps: 0.100\n",
            "\n",
            "Interval 17 (160000 steps performed)\n",
            "10000/10000 [==============================] - 81s 8ms/step - reward: 0.7892\n",
            "50 episodes - episode_reward: 157.840 [-179.000, 457.000] - loss: 116.936 - mae: 146.190 - mean_q: 186.762 - mean_eps: 0.100\n",
            "\n",
            "Interval 18 (170000 steps performed)\n",
            "10000/10000 [==============================] - 82s 8ms/step - reward: 0.9782\n",
            "50 episodes - episode_reward: 195.640 [-83.000, 391.000] - loss: 113.760 - mae: 146.073 - mean_q: 186.593 - mean_eps: 0.100\n",
            "\n",
            "Interval 19 (180000 steps performed)\n",
            "10000/10000 [==============================] - 83s 8ms/step - reward: 0.9254\n",
            "50 episodes - episode_reward: 185.080 [-44.000, 457.000] - loss: 114.520 - mae: 142.993 - mean_q: 182.779 - mean_eps: 0.100\n",
            "\n",
            "Interval 20 (190000 steps performed)\n",
            "10000/10000 [==============================] - 89s 9ms/step - reward: 0.7847\n",
            "50 episodes - episode_reward: 156.940 [-68.000, 517.000] - loss: 113.469 - mae: 144.276 - mean_q: 184.417 - mean_eps: 0.100\n",
            "\n",
            "Interval 21 (200000 steps performed)\n",
            "10000/10000 [==============================] - 90s 9ms/step - reward: 0.9383\n",
            "50 episodes - episode_reward: 187.660 [-53.000, 370.000] - loss: 112.224 - mae: 143.588 - mean_q: 183.531 - mean_eps: 0.100\n",
            "\n",
            "Interval 22 (210000 steps performed)\n",
            "10000/10000 [==============================] - 92s 9ms/step - reward: 0.9509\n",
            "50 episodes - episode_reward: 190.180 [-26.000, 433.000] - loss: 106.006 - mae: 142.242 - mean_q: 181.890 - mean_eps: 0.100\n",
            "\n",
            "Interval 23 (220000 steps performed)\n",
            "10000/10000 [==============================] - 93s 9ms/step - reward: 1.1201\n",
            "50 episodes - episode_reward: 224.020 [-131.000, 433.000] - loss: 103.581 - mae: 142.411 - mean_q: 182.232 - mean_eps: 0.100\n",
            "\n",
            "Interval 24 (230000 steps performed)\n",
            "10000/10000 [==============================] - 94s 9ms/step - reward: 1.1390\n",
            "50 episodes - episode_reward: 227.800 [37.000, 556.000] - loss: 103.716 - mae: 141.183 - mean_q: 180.679 - mean_eps: 0.100\n",
            "\n",
            "Interval 25 (240000 steps performed)\n",
            "10000/10000 [==============================] - 93s 9ms/step - reward: 1.0751\n",
            "50 episodes - episode_reward: 215.020 [-47.000, 373.000] - loss: 100.272 - mae: 136.485 - mean_q: 174.768 - mean_eps: 0.100\n",
            "\n",
            "Interval 26 (250000 steps performed)\n",
            "10000/10000 [==============================] - 96s 10ms/step - reward: 1.0127\n",
            "50 episodes - episode_reward: 202.540 [-107.000, 520.000] - loss: 92.249 - mae: 132.929 - mean_q: 170.382 - mean_eps: 0.100\n",
            "\n",
            "Interval 27 (260000 steps performed)\n",
            "10000/10000 [==============================] - 94s 9ms/step - reward: 1.0403\n",
            "50 episodes - episode_reward: 208.060 [-35.000, 466.000] - loss: 92.836 - mae: 132.074 - mean_q: 169.245 - mean_eps: 0.100\n",
            "\n",
            "Interval 28 (270000 steps performed)\n",
            "10000/10000 [==============================] - 93s 9ms/step - reward: 1.0796\n",
            "50 episodes - episode_reward: 215.920 [-134.000, 592.000] - loss: 90.978 - mae: 130.032 - mean_q: 166.755 - mean_eps: 0.100\n",
            "\n",
            "Interval 29 (280000 steps performed)\n",
            "10000/10000 [==============================] - 94s 9ms/step - reward: 0.9758\n",
            "50 episodes - episode_reward: 195.160 [-113.000, 556.000] - loss: 88.250 - mae: 128.352 - mean_q: 164.613 - mean_eps: 0.100\n",
            "\n",
            "Interval 30 (290000 steps performed)\n",
            "10000/10000 [==============================] - 92s 9ms/step - reward: 1.1621\n",
            "50 episodes - episode_reward: 232.420 [-683.000, 496.000] - loss: 88.417 - mae: 128.708 - mean_q: 165.193 - mean_eps: 0.100\n",
            "\n",
            "Interval 31 (300000 steps performed)\n",
            "10000/10000 [==============================] - 92s 9ms/step - reward: 1.2008\n",
            "50 episodes - episode_reward: 240.160 [-47.000, 484.000] - loss: 88.141 - mae: 127.923 - mean_q: 164.255 - mean_eps: 0.100\n",
            "\n",
            "Interval 32 (310000 steps performed)\n",
            "10000/10000 [==============================] - 94s 9ms/step - reward: 1.0934\n",
            "50 episodes - episode_reward: 218.680 [43.000, 508.000] - loss: 87.875 - mae: 129.910 - mean_q: 166.860 - mean_eps: 0.100\n",
            "\n",
            "Interval 33 (320000 steps performed)\n",
            "10000/10000 [==============================] - 95s 10ms/step - reward: 1.1831\n",
            "50 episodes - episode_reward: 236.620 [49.000, 478.000] - loss: 90.527 - mae: 130.439 - mean_q: 167.529 - mean_eps: 0.100\n",
            "\n",
            "Interval 34 (330000 steps performed)\n",
            "10000/10000 [==============================] - 94s 9ms/step - reward: 1.1081\n",
            "50 episodes - episode_reward: 221.620 [-17.000, 442.000] - loss: 86.469 - mae: 130.155 - mean_q: 167.076 - mean_eps: 0.100\n",
            "\n",
            "Interval 35 (340000 steps performed)\n"
          ]
        },
        {
          "name": "stdout",
          "output_type": "stream",
          "text": [
            "10000/10000 [==============================] - 91s 9ms/step - reward: 1.1984\n",
            "50 episodes - episode_reward: 239.680 [-356.000, 475.000] - loss: 85.487 - mae: 127.005 - mean_q: 163.005 - mean_eps: 0.100\n",
            "\n",
            "Interval 36 (350000 steps performed)\n",
            "10000/10000 [==============================] - 91s 9ms/step - reward: 1.1849\n",
            "50 episodes - episode_reward: 236.980 [-95.000, 508.000] - loss: 85.648 - mae: 123.894 - mean_q: 159.083 - mean_eps: 0.100\n",
            "\n",
            "Interval 37 (360000 steps performed)\n",
            "10000/10000 [==============================] - 96s 10ms/step - reward: 1.1948\n",
            "50 episodes - episode_reward: 238.960 [-416.000, 550.000] - loss: 84.484 - mae: 123.808 - mean_q: 158.973 - mean_eps: 0.100\n",
            "\n",
            "Interval 38 (370000 steps performed)\n",
            "10000/10000 [==============================] - 99s 10ms/step - reward: 1.1249\n",
            "50 episodes - episode_reward: 224.980 [37.000, 433.000] - loss: 84.206 - mae: 122.835 - mean_q: 157.737 - mean_eps: 0.100\n",
            "\n",
            "Interval 39 (380000 steps performed)\n",
            "10000/10000 [==============================] - 98s 10ms/step - reward: 0.9419\n",
            "50 episodes - episode_reward: 188.380 [4.000, 442.000] - loss: 80.313 - mae: 121.591 - mean_q: 156.131 - mean_eps: 0.100\n",
            "\n",
            "Interval 40 (390000 steps performed)\n",
            "10000/10000 [==============================] - 89s 9ms/step - reward: 1.1921\n",
            "done, took 3205.251 seconds\n"
          ]
        },
        {
          "data": {
            "text/plain": [
              "<keras.callbacks.History at 0x7f9520752850>"
            ]
          },
          "execution_count": 24,
          "metadata": {},
          "output_type": "execute_result"
        }
      ],
      "source": [
        "dqn.fit(env, nb_steps=400000, visualize=False, verbose=1, nb_max_episode_steps=200, log_interval=10000)"
      ]
    },
    {
      "cell_type": "markdown",
      "metadata": {
        "id": "YrMheEMwd1IX"
      },
      "source": [
        "Once the RL agent is learned, we can visualize the learned policy by exploiting the call-back functionality in Keras (don't worry if this code is a bit confusing for you as a first time Keras user; focus on the results that you obtained instead):"
      ]
    },
    {
      "cell_type": "code",
      "execution_count": null,
      "metadata": {
        "id": "Tz6d3FfSd1IX"
      },
      "outputs": [],
      "source": [
        "from keras.callbacks import Callback\n",
        "\n",
        "class Visualizer(Callback):\n",
        "    def __init__(self, env):\n",
        "        self.env = env\n",
        "    \n",
        "    def on_action_end(self, action, logs):\n",
        "        \"\"\" Render environment at the end of each action \"\"\"\n",
        "        self.env.render(mode='human')\n",
        "        time.sleep(1)\n",
        "        clear_output(wait=True)"
      ]
    },
    {
      "cell_type": "code",
      "execution_count": null,
      "metadata": {
        "id": "-1uO1jJ7d1IX",
        "outputId": "438a78b2-eab9-4cc6-fc86-c1b827c12298",
        "scrolled": false
      },
      "outputs": [
        {
          "name": "stdout",
          "output_type": "stream",
          "text": [
            "+---------+\n",
            "| : | : : |\n",
            "| : | : : |\n",
            "| : : :\u001b[43m \u001b[0m: |\n",
            "| | : | :\u001b[31m1\u001b[0m|\n",
            "| | : |\u001b[31m1\u001b[0m:\u001b[31m1\u001b[0m|\n",
            "+---------+\n",
            "T: 97; Total earnings: 240\n",
            "Action: South; Reward: -1\n"
          ]
        }
      ],
      "source": [
        "try:\n",
        "    dqn.test(env, nb_episodes=5, callbacks=[Visualizer(env)], nb_max_episode_steps=99, visualize=False, verbose=0)\n",
        "except KeyboardInterrupt:\n",
        "    pass"
      ]
    },
    {
      "cell_type": "markdown",
      "metadata": {
        "id": "OcYiXmQ5d1IX"
      },
      "source": [
        "How are the results? Does the policy do what you would expect it to do? Or does it sometimes behaves strangely (i.e. not perfectly)? When I ran this code I managed to obtain a pretty good policy in a relatively short amount of time, but you can try doing a few tweaks to see if you improve. For example, try:\n",
        "\n",
        "- Increasing the number of training steps ``nb_steps=400000``\n",
        "\n",
        "- Increasing the maximum length of each episode ``nb_max_episode_steps=200``\n",
        "\n",
        "- Increasing the complexity of the neural network (e.g. more layers or more neurons per layer)\n",
        "\n",
        "- Changing the learning rate of the neural network optimizer ``Adam(learning_rate=1e-3)``\n",
        "\n",
        "- Other hyper-parameters of the RL algorithm (e.g. memory size, decay rate of $\\epsilon$-greedy, etc.):\n",
        "\n",
        "``memory = SequentialMemory(limit=200000, window_length=1)\n",
        "policy = LinearAnnealedPolicy(EpsGreedyQPolicy(), \n",
        "                              attr='eps', value_max=1., value_min=.1, value_test=.05, nb_steps=100000)\n",
        "dqn = DQNAgent(model=model, nb_actions=env.nA, memory=memory, policy=policy, \n",
        "               nb_steps_warmup=500, target_model_update=1e-2, enable_double_dqn=True, enable_dueling_network=True)``"
      ]
    },
    {
      "cell_type": "markdown",
      "metadata": {
        "id": "vnEb4nced1IX"
      },
      "source": [
        "That's it! We hope that you enjoyed this brief introduction to the world of reinforcement learning :-)"
      ]
    }
  ],
  "metadata": {
    "colab": {
      "provenance": []
    },
    "kernelspec": {
      "display_name": "Python 3",
      "language": "python",
      "name": "python3"
    },
    "language_info": {
      "codemirror_mode": {
        "name": "ipython",
        "version": 3
      },
      "file_extension": ".py",
      "mimetype": "text/x-python",
      "name": "python",
      "nbconvert_exporter": "python",
      "pygments_lexer": "ipython3",
      "version": "3.11.1"
    }
  },
  "nbformat": 4,
  "nbformat_minor": 0
}
